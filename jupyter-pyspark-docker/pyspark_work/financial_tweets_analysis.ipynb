{
 "cells": [
  {
   "cell_type": "markdown",
   "id": "0a7e9b84-1266-4941-9b50-711762740abc",
   "metadata": {},
   "source": [
    "# __Modules import__"
   ]
  },
  {
   "cell_type": "code",
   "execution_count": 1,
   "id": "04d60ef5-0fc8-4894-95d0-f1b0ebad9776",
   "metadata": {},
   "outputs": [
    {
     "name": "stdout",
     "output_type": "stream",
     "text": [
      "python version :  3.10.8 | packaged by conda-forge | (main, Nov 22 2022, 08:26:04) [GCC 10.4.0]\n"
     ]
    }
   ],
   "source": [
    "import os\n",
    "import sys\n",
    "import glob\n",
    "\n",
    "import pandas as pd\n",
    "\n",
    "import pyspark \n",
    "from pyspark import SparkConf,SparkContext\n",
    "from pyspark.sql import SparkSession\n",
    "\n",
    "from pyspark.sql import functions as F\n",
    "from pyspark.sql.functions import udf\n",
    "from pyspark.sql.functions import col, year, month, dayofweek, hour, weekofyear, dayofmonth,monotonically_increasing_id\n",
    "from pyspark.sql.functions import expr, col\n",
    "from pyspark.sql.functions import when\n",
    "from pyspark.sql.functions import max\n",
    "from pyspark.sql.window import Window\n",
    "from pyspark.sql.functions import date_format\n",
    "from pyspark.sql import Row\n",
    "\n",
    "from IPython.core.interactiveshell import InteractiveShell\n",
    "InteractiveShell.ast_node_interactivity = \"all\"\n",
    "pd.set_option('display.max_rows', None)\n",
    "pd.set_option('display.max_columns', None)\n",
    "pd.set_option('display.max_colwidth', None)\n",
    "\n",
    "import configparser\n",
    "\n",
    "import matplotlib.pyplot as plt\n",
    "\n",
    "import matplotlib.pyplot as plt\n",
    "\n",
    "import sys\n",
    "print('python version : ', sys.version)\n",
    "\n",
    "\n"
   ]
  },
  {
   "cell_type": "markdown",
   "id": "71e7a5a7-fe26-4a77-ab8a-ae27728a150a",
   "metadata": {},
   "source": [
    "# __Parameters and AWS connections__"
   ]
  },
  {
   "cell_type": "code",
   "execution_count": 2,
   "id": "2c4da19d-c221-43ed-af06-555349cab953",
   "metadata": {},
   "outputs": [
    {
     "data": {
      "text/plain": [
       "['dl_config.cfg']"
      ]
     },
     "execution_count": 2,
     "metadata": {},
     "output_type": "execute_result"
    }
   ],
   "source": [
    "config = configparser.ConfigParser()    \n",
    "config.read('dl_config.cfg')  \n",
    "\n",
    "os.environ['AWS_ACCESS_KEY_ID'] = config.get('AWS', 'AWS_ACCESS_KEY_ID')\n",
    "os.environ['AWS_SECRET_ACCESS_KEY'] = config.get('AWS', 'AWS_SECRET_ACCESS_KEY')\n",
    "\n",
    "region = config.get('CLUSTER', 'AWS_REGION')\n",
    "\n",
    "DL_BUCKET_NAME = config.get('S3_BUCKET','DL_BUCKET_NAME')\n",
    "DL_BUCKET_OUTPUT_PREFIX = config.get('S3_BUCKET','DL_BUCKET_OUTPUT_PREFIX')\n",
    "DL_BUCKET_INPUT_PREFIX = config.get('S3_BUCKET','DL_BUCKET_INPUT_PREFIX')\n",
    "\n",
    "DL_BUCKET_SCRIPTS_FOLDER =  config.get('S3_BUCKET','DL_BUCKET_SCRIPTS_FOLDER')\n"
   ]
  },
  {
   "cell_type": "code",
   "execution_count": 3,
   "id": "9efce9c5-6785-448c-afdf-9669cbc1dcae",
   "metadata": {},
   "outputs": [],
   "source": [
    "from pyspark.sql import SparkSession\n",
    "def get_spark():\n",
    "    spark = SparkSession.builder.master(\"local[4]\").appName('SparkDelta') \\\n",
    "        .config(\"spark.sql.extensions\", \"io.delta.sql.DeltaSparkSessionExtension\") \\\n",
    "        .config(\"spark.sql.catalog.spark_catalog\", \"org.apache.spark.sql.delta.catalog.DeltaCatalog\") \\\n",
    "        .config(\"spark.hadoop.fs.s3a.impl\", \"org.apache.hadoop.fs.s3a.S3AFileSystem\") \\\n",
    "        .config(\"spark.jars.packages\", \n",
    "                \"io.delta:delta-core_2.12:1.1.0,\"\n",
    "                \"org.apache.hadoop:hadoop-aws:3.2.2,\"\n",
    "                \"com.amazonaws:aws-java-sdk-bundle:1.12.180\") \\\n",
    "        .config('spark.hadoop.fs.s3a.aws.credentials.provider', 'org.apache.hadoop.fs.s3a.SimpleAWSCredentialsProvider')\\\n",
    "        .getOrCreate()\n",
    "    return spark\n",
    "\n",
    "spark = get_spark()\n",
    "spark._jsc.hadoopConfiguration().set(\"com.amazonaws.services.s3.enableV4\", \"true\")\n",
    "spark._jsc.hadoopConfiguration().set(\"fs.s3a.impl\", \"org.apache.hadoop.fs.s3a.S3AFileSystem\")\n",
    "spark._jsc.hadoopConfiguration().set(\"fs.s3a.aws.credentials.provider\",\"com.amazonaws.auth.InstanceProfileCredentialsProvider,com.amazonaws.auth.DefaultAWSCredentialsProviderChain\")\n",
    "spark._jsc.hadoopConfiguration().set(\"fs.AbstractFileSystem.s3a.impl\", \"org.apache.hadoop.fs.s3a.S3A\")\n"
   ]
  },
  {
   "cell_type": "code",
   "execution_count": 4,
   "id": "ad2b2377-94c3-46a8-9fe8-75fa6d9d2629",
   "metadata": {},
   "outputs": [
    {
     "data": {
      "text/plain": [
       "'3.3.1'"
      ]
     },
     "execution_count": 4,
     "metadata": {},
     "output_type": "execute_result"
    }
   ],
   "source": [
    "spark.version"
   ]
  },
  {
   "cell_type": "markdown",
   "id": "31f139ec-557e-430b-81de-5590c25b1742",
   "metadata": {},
   "source": [
    "# __Read tables in staging area__"
   ]
  },
  {
   "cell_type": "code",
   "execution_count": 4,
   "id": "417b0567-d401-48dc-aee4-40f679f30cc3",
   "metadata": {},
   "outputs": [],
   "source": [
    "def input_data(folder_path, spark,DL_BUCKET_INPUT_PREFIX, file_type):\n",
    "    \"\"\"\n",
    "    This function \n",
    "    :param folder_path:paty to the parquet files to check\n",
    "    :param spark: spark connection object\n",
    "    :param DL_BUCKET_INPUT_PREFIX: s3 path partial path fetched from dl_config,cfg\n",
    "    :param file_type: 'parquet' or 'json'\n",
    "    :return:the count of entries in the json or parquet file\n",
    "    \"\"\"\n",
    "    path = os.path.join(DL_BUCKET_INPUT_PREFIX, folder_path).replace('s3', 's3a')\n",
    "    if file_type == 'parquet':\n",
    "        data =spark.read.parquet(path)\n",
    "    if file_type == 'json':\n",
    "        path = os.path.join(path,'*.json')\n",
    "        data = spark.read.option(\"multiline\",\"true\").json(path)\n",
    "    print(\"rows count :\" , data.count())\n",
    "    data = data.toPandas()\n",
    "    print(\"columns : \" ,data.columns)\n",
    "    return data"
   ]
  },
  {
   "cell_type": "raw",
   "id": "b37821ba-71f5-4a19-bf18-cc23fc0151be",
   "metadata": {},
   "source": [
    "tickers_info = input_data('markets_static_data/tickers_info/tickers_info.parquet', spark, DL_BUCKET_INPUT_PREFIX, 'parquet')\n",
    "tickers_info.head(1)"
   ]
  },
  {
   "cell_type": "code",
   "execution_count": 16,
   "id": "88b36165-ae32-4c7e-a5c5-ecdec43a18ce",
   "metadata": {},
   "outputs": [
    {
     "name": "stdout",
     "output_type": "stream",
     "text": [
      "rows count : 24342\n",
      "columns :  Index(['Datetime', 'Date', 'Ticker', 'Close', 'High', 'Low', 'Open', 'Volume',\n",
      "       'Interval'],\n",
      "      dtype='object')\n"
     ]
    },
    {
     "data": {
      "text/html": [
       "<div>\n",
       "<style scoped>\n",
       "    .dataframe tbody tr th:only-of-type {\n",
       "        vertical-align: middle;\n",
       "    }\n",
       "\n",
       "    .dataframe tbody tr th {\n",
       "        vertical-align: top;\n",
       "    }\n",
       "\n",
       "    .dataframe thead th {\n",
       "        text-align: right;\n",
       "    }\n",
       "</style>\n",
       "<table border=\"1\" class=\"dataframe\">\n",
       "  <thead>\n",
       "    <tr style=\"text-align: right;\">\n",
       "      <th></th>\n",
       "      <th>Datetime</th>\n",
       "      <th>Date</th>\n",
       "      <th>Ticker</th>\n",
       "      <th>Close</th>\n",
       "      <th>High</th>\n",
       "      <th>Low</th>\n",
       "      <th>Open</th>\n",
       "      <th>Volume</th>\n",
       "      <th>Interval</th>\n",
       "    </tr>\n",
       "  </thead>\n",
       "  <tbody>\n",
       "    <tr>\n",
       "      <th>6144</th>\n",
       "      <td>2021-03-10 11:30:00</td>\n",
       "      <td>2021-03-10</td>\n",
       "      <td>AOS</td>\n",
       "      <td>64.959999</td>\n",
       "      <td>64.974998</td>\n",
       "      <td>64.480003</td>\n",
       "      <td>64.510002</td>\n",
       "      <td>94246.0</td>\n",
       "      <td>1h</td>\n",
       "    </tr>\n",
       "  </tbody>\n",
       "</table>\n",
       "</div>"
      ],
      "text/plain": [
       "                 Datetime        Date Ticker      Close       High        Low  \\\n",
       "6144  2021-03-10 11:30:00  2021-03-10    AOS  64.959999  64.974998  64.480003   \n",
       "\n",
       "           Open   Volume Interval  \n",
       "6144  64.510002  94246.0       1h  "
      ]
     },
     "execution_count": 16,
     "metadata": {},
     "output_type": "execute_result"
    },
    {
     "data": {
      "text/html": [
       "<div>\n",
       "<style scoped>\n",
       "    .dataframe tbody tr th:only-of-type {\n",
       "        vertical-align: middle;\n",
       "    }\n",
       "\n",
       "    .dataframe tbody tr th {\n",
       "        vertical-align: top;\n",
       "    }\n",
       "\n",
       "    .dataframe thead th {\n",
       "        text-align: right;\n",
       "    }\n",
       "</style>\n",
       "<table border=\"1\" class=\"dataframe\">\n",
       "  <thead>\n",
       "    <tr style=\"text-align: right;\">\n",
       "      <th></th>\n",
       "      <th>Datetime</th>\n",
       "      <th>Date</th>\n",
       "      <th>Ticker</th>\n",
       "      <th>Close</th>\n",
       "      <th>High</th>\n",
       "      <th>Low</th>\n",
       "      <th>Open</th>\n",
       "      <th>Volume</th>\n",
       "      <th>Interval</th>\n",
       "    </tr>\n",
       "  </thead>\n",
       "  <tbody>\n",
       "    <tr>\n",
       "      <th>5034</th>\n",
       "      <td>2022-12-16 04:00:00</td>\n",
       "      <td>2022-12-16</td>\n",
       "      <td>MMM</td>\n",
       "      <td>122.08</td>\n",
       "      <td>122.30</td>\n",
       "      <td>121.37</td>\n",
       "      <td>122.30</td>\n",
       "      <td>0.0</td>\n",
       "      <td>1m</td>\n",
       "    </tr>\n",
       "    <tr>\n",
       "      <th>5035</th>\n",
       "      <td>2022-12-16 04:02:00</td>\n",
       "      <td>2022-12-16</td>\n",
       "      <td>MMM</td>\n",
       "      <td>122.22</td>\n",
       "      <td>122.23</td>\n",
       "      <td>122.22</td>\n",
       "      <td>122.23</td>\n",
       "      <td>0.0</td>\n",
       "      <td>1m</td>\n",
       "    </tr>\n",
       "  </tbody>\n",
       "</table>\n",
       "</div>"
      ],
      "text/plain": [
       "                 Datetime        Date Ticker   Close    High     Low    Open  \\\n",
       "5034  2022-12-16 04:00:00  2022-12-16    MMM  122.08  122.30  121.37  122.30   \n",
       "5035  2022-12-16 04:02:00  2022-12-16    MMM  122.22  122.23  122.22  122.23   \n",
       "\n",
       "      Volume Interval  \n",
       "5034     0.0       1m  \n",
       "5035     0.0       1m  "
      ]
     },
     "execution_count": 16,
     "metadata": {},
     "output_type": "execute_result"
    },
    {
     "data": {
      "text/html": [
       "<div>\n",
       "<style scoped>\n",
       "    .dataframe tbody tr th:only-of-type {\n",
       "        vertical-align: middle;\n",
       "    }\n",
       "\n",
       "    .dataframe tbody tr th {\n",
       "        vertical-align: top;\n",
       "    }\n",
       "\n",
       "    .dataframe thead th {\n",
       "        text-align: right;\n",
       "    }\n",
       "</style>\n",
       "<table border=\"1\" class=\"dataframe\">\n",
       "  <thead>\n",
       "    <tr style=\"text-align: right;\">\n",
       "      <th></th>\n",
       "      <th>Datetime</th>\n",
       "      <th>Date</th>\n",
       "      <th>Ticker</th>\n",
       "      <th>Close</th>\n",
       "      <th>High</th>\n",
       "      <th>Low</th>\n",
       "      <th>Open</th>\n",
       "      <th>Volume</th>\n",
       "      <th>Interval</th>\n",
       "    </tr>\n",
       "  </thead>\n",
       "  <tbody>\n",
       "    <tr>\n",
       "      <th>0</th>\n",
       "      <td>2012-12-28 00:00:00</td>\n",
       "      <td>2012-12-28</td>\n",
       "      <td>AOS</td>\n",
       "      <td>13.36415</td>\n",
       "      <td>13.504621</td>\n",
       "      <td>13.240968</td>\n",
       "      <td>13.282029</td>\n",
       "      <td>1417600.0</td>\n",
       "      <td>1d</td>\n",
       "    </tr>\n",
       "  </tbody>\n",
       "</table>\n",
       "</div>"
      ],
      "text/plain": [
       "              Datetime        Date Ticker     Close       High        Low  \\\n",
       "0  2012-12-28 00:00:00  2012-12-28    AOS  13.36415  13.504621  13.240968   \n",
       "\n",
       "        Open     Volume Interval  \n",
       "0  13.282029  1417600.0       1d  "
      ]
     },
     "execution_count": 16,
     "metadata": {},
     "output_type": "execute_result"
    }
   ],
   "source": [
    "tickers_historical_prices = input_data('markets_static_data/tickers_historical_prices/tickers_historical_prices.parquet', spark, DL_BUCKET_INPUT_PREFIX, 'parquet')\n",
    "tickers_historical_prices.query(\"Interval=='1h'\").head(1)\n",
    "tickers_historical_prices.query(\"Interval=='1m'\").head(2)\n",
    "tickers_historical_prices.query(\"Interval=='1d'\").head(1)"
   ]
  },
  {
   "cell_type": "code",
   "execution_count": 17,
   "id": "e3d06129-f974-40b1-847d-3f5cc65e3398",
   "metadata": {},
   "outputs": [
    {
     "name": "stdout",
     "output_type": "stream",
     "text": [
      "rows count : 2\n",
      "columns :  Index(['isin', 'symbol'], dtype='object')\n"
     ]
    },
    {
     "data": {
      "text/html": [
       "<div>\n",
       "<style scoped>\n",
       "    .dataframe tbody tr th:only-of-type {\n",
       "        vertical-align: middle;\n",
       "    }\n",
       "\n",
       "    .dataframe tbody tr th {\n",
       "        vertical-align: top;\n",
       "    }\n",
       "\n",
       "    .dataframe thead th {\n",
       "        text-align: right;\n",
       "    }\n",
       "</style>\n",
       "<table border=\"1\" class=\"dataframe\">\n",
       "  <thead>\n",
       "    <tr style=\"text-align: right;\">\n",
       "      <th></th>\n",
       "      <th>isin</th>\n",
       "      <th>symbol</th>\n",
       "    </tr>\n",
       "  </thead>\n",
       "  <tbody>\n",
       "    <tr>\n",
       "      <th>0</th>\n",
       "      <td>-</td>\n",
       "      <td>AOS</td>\n",
       "    </tr>\n",
       "  </tbody>\n",
       "</table>\n",
       "</div>"
      ],
      "text/plain": [
       "  isin symbol\n",
       "0    -    AOS"
      ]
     },
     "execution_count": 17,
     "metadata": {},
     "output_type": "execute_result"
    }
   ],
   "source": [
    "tickers_isin = input_data('markets_static_data/tickers_isin/tickers_isin.parquet', spark, DL_BUCKET_INPUT_PREFIX, 'parquet')\n",
    "tickers_isin.head(1)"
   ]
  },
  {
   "cell_type": "code",
   "execution_count": 18,
   "id": "987a12f3-a1f0-4b02-b0a1-973a7baed741",
   "metadata": {},
   "outputs": [
    {
     "name": "stdout",
     "output_type": "stream",
     "text": [
      "rows count : 47\n",
      "columns :  Index(['contract_symbol', 'last_trade_date', 'strike', 'last_price', 'bid',\n",
      "       'ask', 'change', 'percent_change', 'volume', 'open_interest',\n",
      "       'implied_volatility', 'in_the_money', 'contract_size', 'currency',\n",
      "       'option_type', 'symbol'],\n",
      "      dtype='object')\n"
     ]
    },
    {
     "data": {
      "text/html": [
       "<div>\n",
       "<style scoped>\n",
       "    .dataframe tbody tr th:only-of-type {\n",
       "        vertical-align: middle;\n",
       "    }\n",
       "\n",
       "    .dataframe tbody tr th {\n",
       "        vertical-align: top;\n",
       "    }\n",
       "\n",
       "    .dataframe thead th {\n",
       "        text-align: right;\n",
       "    }\n",
       "</style>\n",
       "<table border=\"1\" class=\"dataframe\">\n",
       "  <thead>\n",
       "    <tr style=\"text-align: right;\">\n",
       "      <th></th>\n",
       "      <th>contract_symbol</th>\n",
       "      <th>last_trade_date</th>\n",
       "      <th>strike</th>\n",
       "      <th>last_price</th>\n",
       "      <th>bid</th>\n",
       "      <th>ask</th>\n",
       "      <th>change</th>\n",
       "      <th>percent_change</th>\n",
       "      <th>volume</th>\n",
       "      <th>open_interest</th>\n",
       "      <th>implied_volatility</th>\n",
       "      <th>in_the_money</th>\n",
       "      <th>contract_size</th>\n",
       "      <th>currency</th>\n",
       "      <th>option_type</th>\n",
       "      <th>symbol</th>\n",
       "    </tr>\n",
       "  </thead>\n",
       "  <tbody>\n",
       "    <tr>\n",
       "      <th>0</th>\n",
       "      <td>MMM221230P00136000</td>\n",
       "      <td>2022-11-14 19:20:19+00:00</td>\n",
       "      <td>136.0</td>\n",
       "      <td>7.03</td>\n",
       "      <td>9.6</td>\n",
       "      <td>10.65</td>\n",
       "      <td>0.0</td>\n",
       "      <td>0.0</td>\n",
       "      <td>1.0</td>\n",
       "      <td>0</td>\n",
       "      <td>1.0000000000000003E-5</td>\n",
       "      <td>true</td>\n",
       "      <td>REGULAR</td>\n",
       "      <td>USD</td>\n",
       "      <td>put</td>\n",
       "      <td>MMM</td>\n",
       "    </tr>\n",
       "  </tbody>\n",
       "</table>\n",
       "</div>"
      ],
      "text/plain": [
       "      contract_symbol            last_trade_date strike last_price  bid  \\\n",
       "0  MMM221230P00136000  2022-11-14 19:20:19+00:00  136.0       7.03  9.6   \n",
       "\n",
       "     ask change percent_change volume open_interest     implied_volatility  \\\n",
       "0  10.65    0.0            0.0    1.0             0  1.0000000000000003E-5   \n",
       "\n",
       "  in_the_money contract_size currency option_type symbol  \n",
       "0         true       REGULAR      USD         put    MMM  "
      ]
     },
     "execution_count": 18,
     "metadata": {},
     "output_type": "execute_result"
    }
   ],
   "source": [
    "tickers_options = input_data('markets_static_data/tickers_options/tickers_options.parquet', spark, DL_BUCKET_INPUT_PREFIX, 'parquet')\n",
    "tickers_options.head(1)"
   ]
  },
  {
   "cell_type": "code",
   "execution_count": 19,
   "id": "2d0854d0-83c3-4f09-a849-4fdc40d46fb9",
   "metadata": {},
   "outputs": [
    {
     "name": "stdout",
     "output_type": "stream",
     "text": [
      "rows count : 48\n",
      "columns :  Index(['abbreviation', 'index', 'lastUpdated', 'market', 'totalCount'], dtype='object')\n"
     ]
    },
    {
     "data": {
      "text/html": [
       "<div>\n",
       "<style scoped>\n",
       "    .dataframe tbody tr th:only-of-type {\n",
       "        vertical-align: middle;\n",
       "    }\n",
       "\n",
       "    .dataframe tbody tr th {\n",
       "        vertical-align: top;\n",
       "    }\n",
       "\n",
       "    .dataframe thead th {\n",
       "        text-align: right;\n",
       "    }\n",
       "</style>\n",
       "<table border=\"1\" class=\"dataframe\">\n",
       "  <thead>\n",
       "    <tr style=\"text-align: right;\">\n",
       "      <th></th>\n",
       "      <th>abbreviation</th>\n",
       "      <th>index</th>\n",
       "      <th>lastUpdated</th>\n",
       "      <th>market</th>\n",
       "      <th>totalCount</th>\n",
       "    </tr>\n",
       "  </thead>\n",
       "  <tbody>\n",
       "    <tr>\n",
       "      <th>0</th>\n",
       "      <td>is</td>\n",
       "      <td>[(OMXICE:OMXI10, OMX ICELAND 10)]</td>\n",
       "      <td>2022-01-10T00:00:00.000Z</td>\n",
       "      <td>iceland</td>\n",
       "      <td>26</td>\n",
       "    </tr>\n",
       "  </tbody>\n",
       "</table>\n",
       "</div>"
      ],
      "text/plain": [
       "  abbreviation                              index               lastUpdated  \\\n",
       "0           is  [(OMXICE:OMXI10, OMX ICELAND 10)]  2022-01-10T00:00:00.000Z   \n",
       "\n",
       "    market  totalCount  \n",
       "0  iceland          26  "
      ]
     },
     "execution_count": 19,
     "metadata": {},
     "output_type": "execute_result"
    }
   ],
   "source": [
    "markets_indexes = input_data('markets_static_data/market_indexes/markets_indexes.parquet', spark, DL_BUCKET_INPUT_PREFIX, 'parquet')\n",
    "markets_indexes.head(1)"
   ]
  },
  {
   "cell_type": "code",
   "execution_count": 20,
   "id": "543b22f7-c4a9-4d4d-903d-7c9ac45991c6",
   "metadata": {},
   "outputs": [
    {
     "name": "stdout",
     "output_type": "stream",
     "text": [
      "rows count : 0\n",
      "columns :  Index(['date', 'symbol', 'dividends', 'stock_splits'], dtype='object')\n"
     ]
    },
    {
     "data": {
      "text/html": [
       "<div>\n",
       "<style scoped>\n",
       "    .dataframe tbody tr th:only-of-type {\n",
       "        vertical-align: middle;\n",
       "    }\n",
       "\n",
       "    .dataframe tbody tr th {\n",
       "        vertical-align: top;\n",
       "    }\n",
       "\n",
       "    .dataframe thead th {\n",
       "        text-align: right;\n",
       "    }\n",
       "</style>\n",
       "<table border=\"1\" class=\"dataframe\">\n",
       "  <thead>\n",
       "    <tr style=\"text-align: right;\">\n",
       "      <th></th>\n",
       "      <th>date</th>\n",
       "      <th>symbol</th>\n",
       "      <th>dividends</th>\n",
       "      <th>stock_splits</th>\n",
       "    </tr>\n",
       "  </thead>\n",
       "  <tbody>\n",
       "  </tbody>\n",
       "</table>\n",
       "</div>"
      ],
      "text/plain": [
       "Empty DataFrame\n",
       "Columns: [date, symbol, dividends, stock_splits]\n",
       "Index: []"
      ]
     },
     "execution_count": 20,
     "metadata": {},
     "output_type": "execute_result"
    }
   ],
   "source": [
    "tickers_actions = input_data('markets_static_data/tickers_actions/tickers_actions.parquet', spark, DL_BUCKET_INPUT_PREFIX, 'parquet')\n",
    "tickers_actions.head(1)"
   ]
  },
  {
   "cell_type": "code",
   "execution_count": 21,
   "id": "59e76252-6c21-402a-8162-fd01a332ffa2",
   "metadata": {},
   "outputs": [
    {
     "name": "stdout",
     "output_type": "stream",
     "text": [
      "rows count : 12\n",
      "columns :  Index(['period', 'growth', 'earnings_estimate_avg', 'earnings_estimate_low',\n",
      "       'earnings_estimate_high', 'earnings_estimate_year_ago_eps',\n",
      "       'earnings_estimate_number_of_analysts', 'earning_eEstimate_growth',\n",
      "       'revenue_estimate_avg', 'revenue_estimate_low', 'revenue_estimate_high',\n",
      "       'eps_trend_current', 'eps_trend_7days_ago', 'eps_trend_30days_ago',\n",
      "       'eps_trend_60days_ago', 'eps_trend_90days_ago',\n",
      "       'eps_revisions_up_last7days', 'eps_revisions_up_last30days',\n",
      "       'eps_revisions_down_last30days', 'eps_revisions_down_last90days',\n",
      "       'symbol'],\n",
      "      dtype='object')\n"
     ]
    },
    {
     "data": {
      "text/html": [
       "<div>\n",
       "<style scoped>\n",
       "    .dataframe tbody tr th:only-of-type {\n",
       "        vertical-align: middle;\n",
       "    }\n",
       "\n",
       "    .dataframe tbody tr th {\n",
       "        vertical-align: top;\n",
       "    }\n",
       "\n",
       "    .dataframe thead th {\n",
       "        text-align: right;\n",
       "    }\n",
       "</style>\n",
       "<table border=\"1\" class=\"dataframe\">\n",
       "  <thead>\n",
       "    <tr style=\"text-align: right;\">\n",
       "      <th></th>\n",
       "      <th>period</th>\n",
       "      <th>growth</th>\n",
       "      <th>earnings_estimate_avg</th>\n",
       "      <th>earnings_estimate_low</th>\n",
       "      <th>earnings_estimate_high</th>\n",
       "      <th>earnings_estimate_year_ago_eps</th>\n",
       "      <th>earnings_estimate_number_of_analysts</th>\n",
       "      <th>earning_eEstimate_growth</th>\n",
       "      <th>revenue_estimate_avg</th>\n",
       "      <th>revenue_estimate_low</th>\n",
       "      <th>revenue_estimate_high</th>\n",
       "      <th>eps_trend_current</th>\n",
       "      <th>eps_trend_7days_ago</th>\n",
       "      <th>eps_trend_30days_ago</th>\n",
       "      <th>eps_trend_60days_ago</th>\n",
       "      <th>eps_trend_90days_ago</th>\n",
       "      <th>eps_revisions_up_last7days</th>\n",
       "      <th>eps_revisions_up_last30days</th>\n",
       "      <th>eps_revisions_down_last30days</th>\n",
       "      <th>eps_revisions_down_last90days</th>\n",
       "      <th>symbol</th>\n",
       "    </tr>\n",
       "  </thead>\n",
       "  <tbody>\n",
       "    <tr>\n",
       "      <th>0</th>\n",
       "      <td>+1Y</td>\n",
       "      <td>0.021</td>\n",
       "      <td>10.42</td>\n",
       "      <td>9.40</td>\n",
       "      <td>11.31</td>\n",
       "      <td>10.21</td>\n",
       "      <td>20.00</td>\n",
       "      <td>0.02</td>\n",
       "      <td>33909700000.00</td>\n",
       "      <td>31866000000.00</td>\n",
       "      <td>35698000000.00</td>\n",
       "      <td>10.42</td>\n",
       "      <td>10.44</td>\n",
       "      <td>10.46</td>\n",
       "      <td>10.56</td>\n",
       "      <td>10.86</td>\n",
       "      <td>0.00</td>\n",
       "      <td>0.00</td>\n",
       "      <td>1.00</td>\n",
       "      <td>None</td>\n",
       "      <td>MMM</td>\n",
       "    </tr>\n",
       "  </tbody>\n",
       "</table>\n",
       "</div>"
      ],
      "text/plain": [
       "  period  growth earnings_estimate_avg earnings_estimate_low  \\\n",
       "0    +1Y   0.021                 10.42                  9.40   \n",
       "\n",
       "  earnings_estimate_high earnings_estimate_year_ago_eps  \\\n",
       "0                  11.31                          10.21   \n",
       "\n",
       "  earnings_estimate_number_of_analysts earning_eEstimate_growth  \\\n",
       "0                                20.00                     0.02   \n",
       "\n",
       "  revenue_estimate_avg revenue_estimate_low revenue_estimate_high  \\\n",
       "0       33909700000.00       31866000000.00        35698000000.00   \n",
       "\n",
       "  eps_trend_current eps_trend_7days_ago eps_trend_30days_ago  \\\n",
       "0             10.42               10.44                10.46   \n",
       "\n",
       "  eps_trend_60days_ago eps_trend_90days_ago eps_revisions_up_last7days  \\\n",
       "0                10.56                10.86                       0.00   \n",
       "\n",
       "  eps_revisions_up_last30days eps_revisions_down_last30days  \\\n",
       "0                        0.00                          1.00   \n",
       "\n",
       "  eps_revisions_down_last90days symbol  \n",
       "0                          None    MMM  "
      ]
     },
     "execution_count": 21,
     "metadata": {},
     "output_type": "execute_result"
    }
   ],
   "source": [
    "tickers_analysis = input_data('markets_static_data/tickers_analysis/tickers_analysis.parquet', spark, DL_BUCKET_INPUT_PREFIX, 'parquet')\n",
    "tickers_analysis.head(1)"
   ]
  },
  {
   "cell_type": "code",
   "execution_count": 22,
   "id": "430a7b56-d89f-4d65-94c0-d27e7869ae15",
   "metadata": {},
   "outputs": [
    {
     "name": "stdout",
     "output_type": "stream",
     "text": [
      "rows count : 18\n",
      "columns :  Index(['date', 'symbol', 'period', 'intangible_assets', 'capital_surplus',\n",
      "       'total_liab', 'total_stockholder_equity', 'minority_interest',\n",
      "       'other_current_liab', 'total_assets', 'common_stock',\n",
      "       'other_current_assets', 'retained_earnings', 'other_liab', 'good_will',\n",
      "       'treasury_stock', 'other_assets', 'cash', 'total_current_liabilities',\n",
      "       'deferred_long_term_asset_charges', 'short_long_term_debt',\n",
      "       'other_stockholder_equity', 'property_plant_equipment',\n",
      "       'total_current_assets', 'long_term_investments', 'net_tangible_asset',\n",
      "       'short_term_investments', 'net_receivables', 'long_term_debt',\n",
      "       'inventory', 'net_tangible_assets', 'deferred_long_term_liab',\n",
      "       'accounts_payable'],\n",
      "      dtype='object')\n"
     ]
    },
    {
     "data": {
      "text/html": [
       "<div>\n",
       "<style scoped>\n",
       "    .dataframe tbody tr th:only-of-type {\n",
       "        vertical-align: middle;\n",
       "    }\n",
       "\n",
       "    .dataframe tbody tr th {\n",
       "        vertical-align: top;\n",
       "    }\n",
       "\n",
       "    .dataframe thead th {\n",
       "        text-align: right;\n",
       "    }\n",
       "</style>\n",
       "<table border=\"1\" class=\"dataframe\">\n",
       "  <thead>\n",
       "    <tr style=\"text-align: right;\">\n",
       "      <th></th>\n",
       "      <th>date</th>\n",
       "      <th>symbol</th>\n",
       "      <th>period</th>\n",
       "      <th>intangible_assets</th>\n",
       "      <th>capital_surplus</th>\n",
       "      <th>total_liab</th>\n",
       "      <th>total_stockholder_equity</th>\n",
       "      <th>minority_interest</th>\n",
       "      <th>other_current_liab</th>\n",
       "      <th>total_assets</th>\n",
       "      <th>common_stock</th>\n",
       "      <th>other_current_assets</th>\n",
       "      <th>retained_earnings</th>\n",
       "      <th>other_liab</th>\n",
       "      <th>good_will</th>\n",
       "      <th>treasury_stock</th>\n",
       "      <th>other_assets</th>\n",
       "      <th>cash</th>\n",
       "      <th>total_current_liabilities</th>\n",
       "      <th>deferred_long_term_asset_charges</th>\n",
       "      <th>short_long_term_debt</th>\n",
       "      <th>other_stockholder_equity</th>\n",
       "      <th>property_plant_equipment</th>\n",
       "      <th>total_current_assets</th>\n",
       "      <th>long_term_investments</th>\n",
       "      <th>net_tangible_asset</th>\n",
       "      <th>short_term_investments</th>\n",
       "      <th>net_receivables</th>\n",
       "      <th>long_term_debt</th>\n",
       "      <th>inventory</th>\n",
       "      <th>net_tangible_assets</th>\n",
       "      <th>deferred_long_term_liab</th>\n",
       "      <th>accounts_payable</th>\n",
       "    </tr>\n",
       "  </thead>\n",
       "  <tbody>\n",
       "    <tr>\n",
       "      <th>0</th>\n",
       "      <td>2021-09-30</td>\n",
       "      <td>MMM</td>\n",
       "      <td>quarter</td>\n",
       "      <td>None</td>\n",
       "      <td>None</td>\n",
       "      <td>None</td>\n",
       "      <td>None</td>\n",
       "      <td>70000000.00</td>\n",
       "      <td>None</td>\n",
       "      <td>48278000000.00</td>\n",
       "      <td>9000000.00</td>\n",
       "      <td>326000000.00</td>\n",
       "      <td>45361000000.00</td>\n",
       "      <td>None</td>\n",
       "      <td>None</td>\n",
       "      <td>29673000000.00</td>\n",
       "      <td>None</td>\n",
       "      <td>None</td>\n",
       "      <td>None</td>\n",
       "      <td>None</td>\n",
       "      <td>None</td>\n",
       "      <td>None</td>\n",
       "      <td>None</td>\n",
       "      <td>None</td>\n",
       "      <td>None</td>\n",
       "      <td>None</td>\n",
       "      <td>None</td>\n",
       "      <td>None</td>\n",
       "      <td>16193000000.00</td>\n",
       "      <td>4950000000.00</td>\n",
       "      <td>-4563000000.00</td>\n",
       "      <td>None</td>\n",
       "      <td>2862000000.00</td>\n",
       "    </tr>\n",
       "  </tbody>\n",
       "</table>\n",
       "</div>"
      ],
      "text/plain": [
       "         date symbol   period intangible_assets capital_surplus total_liab  \\\n",
       "0  2021-09-30    MMM  quarter              None            None       None   \n",
       "\n",
       "  total_stockholder_equity minority_interest other_current_liab  \\\n",
       "0                     None       70000000.00               None   \n",
       "\n",
       "     total_assets common_stock other_current_assets retained_earnings  \\\n",
       "0  48278000000.00   9000000.00         326000000.00    45361000000.00   \n",
       "\n",
       "  other_liab good_will  treasury_stock other_assets  cash  \\\n",
       "0       None      None  29673000000.00         None  None   \n",
       "\n",
       "  total_current_liabilities deferred_long_term_asset_charges  \\\n",
       "0                      None                             None   \n",
       "\n",
       "  short_long_term_debt other_stockholder_equity property_plant_equipment  \\\n",
       "0                 None                     None                     None   \n",
       "\n",
       "  total_current_assets long_term_investments net_tangible_asset  \\\n",
       "0                 None                  None               None   \n",
       "\n",
       "  short_term_investments net_receivables  long_term_debt      inventory  \\\n",
       "0                   None            None  16193000000.00  4950000000.00   \n",
       "\n",
       "  net_tangible_assets deferred_long_term_liab accounts_payable  \n",
       "0      -4563000000.00                    None    2862000000.00  "
      ]
     },
     "execution_count": 22,
     "metadata": {},
     "output_type": "execute_result"
    }
   ],
   "source": [
    "tickers_balancesheet = input_data('markets_static_data/tickers_balancesheet/tickers_balancesheet.parquet', spark, DL_BUCKET_INPUT_PREFIX, 'parquet')\n",
    "tickers_balancesheet.head(1)"
   ]
  },
  {
   "cell_type": "code",
   "execution_count": 23,
   "id": "44b965c3-1cde-4fe7-a940-9f663cc66f24",
   "metadata": {},
   "outputs": [
    {
     "name": "stdout",
     "output_type": "stream",
     "text": [
      "rows count : 18\n",
      "columns :  Index(['date', 'symbol', 'period', 'investments', 'change_to_liabilities',\n",
      "       'total_cashflows_from_investing_activities', 'net_borrowings',\n",
      "       'total_cash_from_financing_activities', 'issuance_of_stock',\n",
      "       'net_income', 'change_in_cash', 'repurchase_of_stock',\n",
      "       'effect_of_exchange_rate', 'total_cash_from_operating_activities',\n",
      "       'depreciation', 'other_cashflows_from_investing_activities',\n",
      "       'dividends_paid', 'change_to_inventory',\n",
      "       'change_to_account_receivables',\n",
      "       'other_cashflows_from_financing_activities', 'change_to_net_income',\n",
      "       'capital_expenditures', 'change_to_operating_activities'],\n",
      "      dtype='object')\n"
     ]
    },
    {
     "data": {
      "text/html": [
       "<div>\n",
       "<style scoped>\n",
       "    .dataframe tbody tr th:only-of-type {\n",
       "        vertical-align: middle;\n",
       "    }\n",
       "\n",
       "    .dataframe tbody tr th {\n",
       "        vertical-align: top;\n",
       "    }\n",
       "\n",
       "    .dataframe thead th {\n",
       "        text-align: right;\n",
       "    }\n",
       "</style>\n",
       "<table border=\"1\" class=\"dataframe\">\n",
       "  <thead>\n",
       "    <tr style=\"text-align: right;\">\n",
       "      <th></th>\n",
       "      <th>date</th>\n",
       "      <th>symbol</th>\n",
       "      <th>period</th>\n",
       "      <th>investments</th>\n",
       "      <th>change_to_liabilities</th>\n",
       "      <th>total_cashflows_from_investing_activities</th>\n",
       "      <th>net_borrowings</th>\n",
       "      <th>total_cash_from_financing_activities</th>\n",
       "      <th>issuance_of_stock</th>\n",
       "      <th>net_income</th>\n",
       "      <th>change_in_cash</th>\n",
       "      <th>repurchase_of_stock</th>\n",
       "      <th>effect_of_exchange_rate</th>\n",
       "      <th>total_cash_from_operating_activities</th>\n",
       "      <th>depreciation</th>\n",
       "      <th>other_cashflows_from_investing_activities</th>\n",
       "      <th>dividends_paid</th>\n",
       "      <th>change_to_inventory</th>\n",
       "      <th>change_to_account_receivables</th>\n",
       "      <th>other_cashflows_from_financing_activities</th>\n",
       "      <th>change_to_net_income</th>\n",
       "      <th>capital_expenditures</th>\n",
       "      <th>change_to_operating_activities</th>\n",
       "    </tr>\n",
       "  </thead>\n",
       "  <tbody>\n",
       "    <tr>\n",
       "      <th>0</th>\n",
       "      <td>2021-09-30</td>\n",
       "      <td>MMM</td>\n",
       "      <td>quarter</td>\n",
       "      <td>None</td>\n",
       "      <td>None</td>\n",
       "      <td>None</td>\n",
       "      <td>None</td>\n",
       "      <td>None</td>\n",
       "      <td>None</td>\n",
       "      <td>None</td>\n",
       "      <td>None</td>\n",
       "      <td>None</td>\n",
       "      <td>None</td>\n",
       "      <td>None</td>\n",
       "      <td>None</td>\n",
       "      <td>None</td>\n",
       "      <td>None</td>\n",
       "      <td>None</td>\n",
       "      <td>None</td>\n",
       "      <td>None</td>\n",
       "      <td>None</td>\n",
       "      <td>None</td>\n",
       "      <td>None</td>\n",
       "    </tr>\n",
       "  </tbody>\n",
       "</table>\n",
       "</div>"
      ],
      "text/plain": [
       "         date symbol   period investments change_to_liabilities  \\\n",
       "0  2021-09-30    MMM  quarter        None                  None   \n",
       "\n",
       "  total_cashflows_from_investing_activities net_borrowings  \\\n",
       "0                                      None           None   \n",
       "\n",
       "  total_cash_from_financing_activities issuance_of_stock net_income  \\\n",
       "0                                 None              None       None   \n",
       "\n",
       "  change_in_cash repurchase_of_stock effect_of_exchange_rate  \\\n",
       "0           None                None                    None   \n",
       "\n",
       "  total_cash_from_operating_activities depreciation  \\\n",
       "0                                 None         None   \n",
       "\n",
       "  other_cashflows_from_investing_activities dividends_paid  \\\n",
       "0                                      None           None   \n",
       "\n",
       "  change_to_inventory change_to_account_receivables  \\\n",
       "0                None                          None   \n",
       "\n",
       "  other_cashflows_from_financing_activities change_to_net_income  \\\n",
       "0                                      None                 None   \n",
       "\n",
       "  capital_expenditures change_to_operating_activities  \n",
       "0                 None                           None  "
      ]
     },
     "execution_count": 23,
     "metadata": {},
     "output_type": "execute_result"
    }
   ],
   "source": [
    "tickers_cashflow = input_data('markets_static_data/tickers_cashflow/tickers_cashflow.parquet', spark, DL_BUCKET_INPUT_PREFIX, 'parquet')\n",
    "tickers_cashflow.head(1)"
   ]
  },
  {
   "cell_type": "code",
   "execution_count": 24,
   "id": "781c492b-2ba2-4d2a-a724-5b3f7c9a721c",
   "metadata": {},
   "outputs": [
    {
     "name": "stdout",
     "output_type": "stream",
     "text": [
      "rows count : 16\n",
      "columns :  Index(['period_detail', 'revenue', 'earnings', 'period', 'symbol'], dtype='object')\n"
     ]
    },
    {
     "data": {
      "text/html": [
       "<div>\n",
       "<style scoped>\n",
       "    .dataframe tbody tr th:only-of-type {\n",
       "        vertical-align: middle;\n",
       "    }\n",
       "\n",
       "    .dataframe tbody tr th {\n",
       "        vertical-align: top;\n",
       "    }\n",
       "\n",
       "    .dataframe thead th {\n",
       "        text-align: right;\n",
       "    }\n",
       "</style>\n",
       "<table border=\"1\" class=\"dataframe\">\n",
       "  <thead>\n",
       "    <tr style=\"text-align: right;\">\n",
       "      <th></th>\n",
       "      <th>period_detail</th>\n",
       "      <th>revenue</th>\n",
       "      <th>earnings</th>\n",
       "      <th>period</th>\n",
       "      <th>symbol</th>\n",
       "    </tr>\n",
       "  </thead>\n",
       "  <tbody>\n",
       "    <tr>\n",
       "      <th>0</th>\n",
       "      <td>4Q2021</td>\n",
       "      <td>8612000000.00</td>\n",
       "      <td>1339000000.00</td>\n",
       "      <td>quarter</td>\n",
       "      <td>MMM</td>\n",
       "    </tr>\n",
       "  </tbody>\n",
       "</table>\n",
       "</div>"
      ],
      "text/plain": [
       "  period_detail        revenue       earnings   period symbol\n",
       "0        4Q2021  8612000000.00  1339000000.00  quarter    MMM"
      ]
     },
     "execution_count": 24,
     "metadata": {},
     "output_type": "execute_result"
    }
   ],
   "source": [
    "tickers_earnings = input_data('markets_static_data/tickers_earnings/tickers_earnings.parquet', spark, DL_BUCKET_INPUT_PREFIX, 'parquet')\n",
    "tickers_earnings.head(1)"
   ]
  },
  {
   "cell_type": "code",
   "execution_count": 25,
   "id": "c2107736-8cda-4f51-a19e-8862161937a5",
   "metadata": {},
   "outputs": [
    {
     "name": "stdout",
     "output_type": "stream",
     "text": [
      "rows count : 24\n",
      "columns :  Index(['earnings_date', 'symbol', 'eps_estimate', 'reported_eps',\n",
      "       'surprise_ratio'],\n",
      "      dtype='object')\n"
     ]
    },
    {
     "data": {
      "text/html": [
       "<div>\n",
       "<style scoped>\n",
       "    .dataframe tbody tr th:only-of-type {\n",
       "        vertical-align: middle;\n",
       "    }\n",
       "\n",
       "    .dataframe tbody tr th {\n",
       "        vertical-align: top;\n",
       "    }\n",
       "\n",
       "    .dataframe thead th {\n",
       "        text-align: right;\n",
       "    }\n",
       "</style>\n",
       "<table border=\"1\" class=\"dataframe\">\n",
       "  <thead>\n",
       "    <tr style=\"text-align: right;\">\n",
       "      <th></th>\n",
       "      <th>earnings_date</th>\n",
       "      <th>symbol</th>\n",
       "      <th>eps_estimate</th>\n",
       "      <th>reported_eps</th>\n",
       "      <th>surprise_ratio</th>\n",
       "    </tr>\n",
       "  </thead>\n",
       "  <tbody>\n",
       "    <tr>\n",
       "      <th>0</th>\n",
       "      <td>2022-04-26</td>\n",
       "      <td>MMM</td>\n",
       "      <td>2.31</td>\n",
       "      <td>2.65</td>\n",
       "      <td>0.15</td>\n",
       "    </tr>\n",
       "  </tbody>\n",
       "</table>\n",
       "</div>"
      ],
      "text/plain": [
       "  earnings_date symbol eps_estimate reported_eps surprise_ratio\n",
       "0    2022-04-26    MMM         2.31         2.65           0.15"
      ]
     },
     "execution_count": 25,
     "metadata": {},
     "output_type": "execute_result"
    }
   ],
   "source": [
    "tickers_eps = input_data('markets_static_data/tickers_eps/tickers_eps.parquet', spark, DL_BUCKET_INPUT_PREFIX, 'parquet')\n",
    "tickers_eps.head(1)"
   ]
  },
  {
   "cell_type": "code",
   "execution_count": 26,
   "id": "3245e488-4977-40ae-80d0-38fa65b479c5",
   "metadata": {},
   "outputs": [
    {
     "name": "stdout",
     "output_type": "stream",
     "text": [
      "rows count : 18\n",
      "columns :  Index(['date', 'symbol', 'period', 'research_development',\n",
      "       'effect_of_accounting_charges', 'income_before_tax',\n",
      "       'minority_interest', 'net_income', 'selling_general_administrative',\n",
      "       'gross_profit', 'ebit', 'operating_income', 'other_operating_expenses',\n",
      "       'interest_expense', 'extraordinary_items', 'non_recurring',\n",
      "       'other_items', 'income_tax_expense', 'total_revenue',\n",
      "       'total_operating_expenses', 'cost_of_revenue',\n",
      "       'total_other_income_expense_net', 'discontinued_operations',\n",
      "       'net_income_from_continuing_ops',\n",
      "       'net_income_applicable_to_common_shares'],\n",
      "      dtype='object')\n"
     ]
    },
    {
     "data": {
      "text/html": [
       "<div>\n",
       "<style scoped>\n",
       "    .dataframe tbody tr th:only-of-type {\n",
       "        vertical-align: middle;\n",
       "    }\n",
       "\n",
       "    .dataframe tbody tr th {\n",
       "        vertical-align: top;\n",
       "    }\n",
       "\n",
       "    .dataframe thead th {\n",
       "        text-align: right;\n",
       "    }\n",
       "</style>\n",
       "<table border=\"1\" class=\"dataframe\">\n",
       "  <thead>\n",
       "    <tr style=\"text-align: right;\">\n",
       "      <th></th>\n",
       "      <th>date</th>\n",
       "      <th>symbol</th>\n",
       "      <th>period</th>\n",
       "      <th>research_development</th>\n",
       "      <th>effect_of_accounting_charges</th>\n",
       "      <th>income_before_tax</th>\n",
       "      <th>minority_interest</th>\n",
       "      <th>net_income</th>\n",
       "      <th>selling_general_administrative</th>\n",
       "      <th>gross_profit</th>\n",
       "      <th>ebit</th>\n",
       "      <th>operating_income</th>\n",
       "      <th>other_operating_expenses</th>\n",
       "      <th>interest_expense</th>\n",
       "      <th>extraordinary_items</th>\n",
       "      <th>non_recurring</th>\n",
       "      <th>other_items</th>\n",
       "      <th>income_tax_expense</th>\n",
       "      <th>total_revenue</th>\n",
       "      <th>total_operating_expenses</th>\n",
       "      <th>cost_of_revenue</th>\n",
       "      <th>total_other_income_expense_net</th>\n",
       "      <th>discontinued_operations</th>\n",
       "      <th>net_income_from_continuing_ops</th>\n",
       "      <th>net_income_applicable_to_common_shares</th>\n",
       "    </tr>\n",
       "  </thead>\n",
       "  <tbody>\n",
       "    <tr>\n",
       "      <th>0</th>\n",
       "      <td>2021-09-30</td>\n",
       "      <td>MMM</td>\n",
       "      <td>quarter</td>\n",
       "      <td>None</td>\n",
       "      <td>None</td>\n",
       "      <td>None</td>\n",
       "      <td>None</td>\n",
       "      <td>1434000000.00</td>\n",
       "      <td>None</td>\n",
       "      <td>4089000000.00</td>\n",
       "      <td>None</td>\n",
       "      <td>1868000000.00</td>\n",
       "      <td>None</td>\n",
       "      <td>117000000.00</td>\n",
       "      <td>None</td>\n",
       "      <td>None</td>\n",
       "      <td>None</td>\n",
       "      <td>None</td>\n",
       "      <td>8942000000.00</td>\n",
       "      <td>None</td>\n",
       "      <td>4853000000.00</td>\n",
       "      <td>None</td>\n",
       "      <td>None</td>\n",
       "      <td>None</td>\n",
       "      <td>None</td>\n",
       "    </tr>\n",
       "  </tbody>\n",
       "</table>\n",
       "</div>"
      ],
      "text/plain": [
       "         date symbol   period research_development  \\\n",
       "0  2021-09-30    MMM  quarter                 None   \n",
       "\n",
       "  effect_of_accounting_charges income_before_tax minority_interest  \\\n",
       "0                         None              None              None   \n",
       "\n",
       "      net_income selling_general_administrative   gross_profit  ebit  \\\n",
       "0  1434000000.00                           None  4089000000.00  None   \n",
       "\n",
       "  operating_income other_operating_expenses interest_expense  \\\n",
       "0    1868000000.00                     None     117000000.00   \n",
       "\n",
       "  extraordinary_items non_recurring other_items income_tax_expense  \\\n",
       "0                None          None        None               None   \n",
       "\n",
       "   total_revenue total_operating_expenses cost_of_revenue  \\\n",
       "0  8942000000.00                     None   4853000000.00   \n",
       "\n",
       "  total_other_income_expense_net discontinued_operations  \\\n",
       "0                           None                    None   \n",
       "\n",
       "  net_income_from_continuing_ops net_income_applicable_to_common_shares  \n",
       "0                           None                                   None  "
      ]
     },
     "execution_count": 26,
     "metadata": {},
     "output_type": "execute_result"
    }
   ],
   "source": [
    "tickers_financials = input_data('markets_static_data/tickers_financials/tickers_financials.parquet', spark, DL_BUCKET_INPUT_PREFIX, 'parquet')\n",
    "tickers_financials.head(1)"
   ]
  },
  {
   "cell_type": "code",
   "execution_count": 27,
   "id": "dba012dc-9250-4582-80ca-d30f40d18c61",
   "metadata": {},
   "outputs": [
    {
     "name": "stdout",
     "output_type": "stream",
     "text": [
      "rows count : 40\n",
      "columns :  Index(['symbol', 'holder', 'holder_type', 'shares', 'date_reported', 'out',\n",
      "       'value'],\n",
      "      dtype='object')\n"
     ]
    },
    {
     "data": {
      "text/html": [
       "<div>\n",
       "<style scoped>\n",
       "    .dataframe tbody tr th:only-of-type {\n",
       "        vertical-align: middle;\n",
       "    }\n",
       "\n",
       "    .dataframe tbody tr th {\n",
       "        vertical-align: top;\n",
       "    }\n",
       "\n",
       "    .dataframe thead th {\n",
       "        text-align: right;\n",
       "    }\n",
       "</style>\n",
       "<table border=\"1\" class=\"dataframe\">\n",
       "  <thead>\n",
       "    <tr style=\"text-align: right;\">\n",
       "      <th></th>\n",
       "      <th>symbol</th>\n",
       "      <th>holder</th>\n",
       "      <th>holder_type</th>\n",
       "      <th>shares</th>\n",
       "      <th>date_reported</th>\n",
       "      <th>out</th>\n",
       "      <th>value</th>\n",
       "    </tr>\n",
       "  </thead>\n",
       "  <tbody>\n",
       "    <tr>\n",
       "      <th>0</th>\n",
       "      <td>AOS</td>\n",
       "      <td>Vanguard Total Stock Market Index Fund</td>\n",
       "      <td>mutual fund</td>\n",
       "      <td>3833997.00</td>\n",
       "      <td>2022-09-29</td>\n",
       "      <td>0.03</td>\n",
       "      <td>221106599</td>\n",
       "    </tr>\n",
       "  </tbody>\n",
       "</table>\n",
       "</div>"
      ],
      "text/plain": [
       "  symbol                                  holder  holder_type      shares  \\\n",
       "0    AOS  Vanguard Total Stock Market Index Fund  mutual fund  3833997.00   \n",
       "\n",
       "  date_reported   out      value  \n",
       "0    2022-09-29  0.03  221106599  "
      ]
     },
     "execution_count": 27,
     "metadata": {},
     "output_type": "execute_result"
    }
   ],
   "source": [
    "tickers_holders = input_data('markets_static_data/tickers_holders/tickers_holders.parquet', spark, DL_BUCKET_INPUT_PREFIX, 'parquet')\n",
    "tickers_holders.head(1)"
   ]
  },
  {
   "cell_type": "code",
   "execution_count": 28,
   "id": "84783d87-ff88-4ee4-a24c-f62732452d95",
   "metadata": {},
   "outputs": [
    {
     "name": "stdout",
     "output_type": "stream",
     "text": [
      "rows count : 2\n",
      "columns :  Index(['symbol', 'percentage_of_shares_held_by_all_insider',\n",
      "       'percentage_of_shares_held_by_institutions',\n",
      "       'percentage_of_float_held_by_institutions',\n",
      "       'number_of_institutions_holding_shares'],\n",
      "      dtype='object')\n"
     ]
    },
    {
     "data": {
      "text/html": [
       "<div>\n",
       "<style scoped>\n",
       "    .dataframe tbody tr th:only-of-type {\n",
       "        vertical-align: middle;\n",
       "    }\n",
       "\n",
       "    .dataframe tbody tr th {\n",
       "        vertical-align: top;\n",
       "    }\n",
       "\n",
       "    .dataframe thead th {\n",
       "        text-align: right;\n",
       "    }\n",
       "</style>\n",
       "<table border=\"1\" class=\"dataframe\">\n",
       "  <thead>\n",
       "    <tr style=\"text-align: right;\">\n",
       "      <th></th>\n",
       "      <th>symbol</th>\n",
       "      <th>percentage_of_shares_held_by_all_insider</th>\n",
       "      <th>percentage_of_shares_held_by_institutions</th>\n",
       "      <th>percentage_of_float_held_by_institutions</th>\n",
       "      <th>number_of_institutions_holding_shares</th>\n",
       "    </tr>\n",
       "  </thead>\n",
       "  <tbody>\n",
       "    <tr>\n",
       "      <th>0</th>\n",
       "      <td>MMM</td>\n",
       "      <td>0.12</td>\n",
       "      <td>68.01</td>\n",
       "      <td>68.09</td>\n",
       "      <td>2580</td>\n",
       "    </tr>\n",
       "  </tbody>\n",
       "</table>\n",
       "</div>"
      ],
      "text/plain": [
       "  symbol percentage_of_shares_held_by_all_insider  \\\n",
       "0    MMM                                     0.12   \n",
       "\n",
       "  percentage_of_shares_held_by_institutions  \\\n",
       "0                                     68.01   \n",
       "\n",
       "  percentage_of_float_held_by_institutions  \\\n",
       "0                                    68.09   \n",
       "\n",
       "   number_of_institutions_holding_shares  \n",
       "0                                   2580  "
      ]
     },
     "execution_count": 28,
     "metadata": {},
     "output_type": "execute_result"
    }
   ],
   "source": [
    "tickers_major_holders = input_data('markets_static_data/tickers_major_holders/tickers_major_holders.parquet', spark, DL_BUCKET_INPUT_PREFIX, 'parquet')\n",
    "tickers_major_holders.head(1)"
   ]
  },
  {
   "cell_type": "code",
   "execution_count": 29,
   "id": "d4313449-9da9-4d65-b7a6-9eab96407b64",
   "metadata": {},
   "outputs": [
    {
     "name": "stdout",
     "output_type": "stream",
     "text": [
      "rows count : 128\n",
      "columns :  Index(['uuid', 'title', 'publisher', 'link', 'provider_publish_time', 'type',\n",
      "       'symbol'],\n",
      "      dtype='object')\n"
     ]
    },
    {
     "data": {
      "text/html": [
       "<div>\n",
       "<style scoped>\n",
       "    .dataframe tbody tr th:only-of-type {\n",
       "        vertical-align: middle;\n",
       "    }\n",
       "\n",
       "    .dataframe tbody tr th {\n",
       "        vertical-align: top;\n",
       "    }\n",
       "\n",
       "    .dataframe thead th {\n",
       "        text-align: right;\n",
       "    }\n",
       "</style>\n",
       "<table border=\"1\" class=\"dataframe\">\n",
       "  <thead>\n",
       "    <tr style=\"text-align: right;\">\n",
       "      <th></th>\n",
       "      <th>uuid</th>\n",
       "      <th>title</th>\n",
       "      <th>publisher</th>\n",
       "      <th>link</th>\n",
       "      <th>provider_publish_time</th>\n",
       "      <th>type</th>\n",
       "      <th>symbol</th>\n",
       "    </tr>\n",
       "  </thead>\n",
       "  <tbody>\n",
       "    <tr>\n",
       "      <th>0</th>\n",
       "      <td>2c4ae0a4-e8f0-3981-8ef4-5de30d0705d4</td>\n",
       "      <td>3 Cheap Industrial Stocks to Buy Now and Never Sell</td>\n",
       "      <td>Motley Fool</td>\n",
       "      <td>https://finance.yahoo.com/m/2c4ae0a4-e8f0-3981-8ef4-5de30d0705d4/3-cheap-industrial-stocks-to.html</td>\n",
       "      <td>1671832920</td>\n",
       "      <td>STORY</td>\n",
       "      <td>AOS</td>\n",
       "    </tr>\n",
       "  </tbody>\n",
       "</table>\n",
       "</div>"
      ],
      "text/plain": [
       "                                   uuid  \\\n",
       "0  2c4ae0a4-e8f0-3981-8ef4-5de30d0705d4   \n",
       "\n",
       "                                                 title    publisher  \\\n",
       "0  3 Cheap Industrial Stocks to Buy Now and Never Sell  Motley Fool   \n",
       "\n",
       "                                                                                                 link  \\\n",
       "0  https://finance.yahoo.com/m/2c4ae0a4-e8f0-3981-8ef4-5de30d0705d4/3-cheap-industrial-stocks-to.html   \n",
       "\n",
       "  provider_publish_time   type symbol  \n",
       "0            1671832920  STORY    AOS  "
      ]
     },
     "execution_count": 29,
     "metadata": {},
     "output_type": "execute_result"
    }
   ],
   "source": [
    "tickers_news = input_data('markets_static_data/tickers_news/tickers_news.parquet', spark, DL_BUCKET_INPUT_PREFIX, 'parquet')\n",
    "tickers_news.head(1)"
   ]
  },
  {
   "cell_type": "code",
   "execution_count": 30,
   "id": "5ba317ba-9875-412e-a1e9-833c580967d6",
   "metadata": {},
   "outputs": [
    {
     "name": "stdout",
     "output_type": "stream",
     "text": [
      "rows count : 314\n",
      "columns :  Index(['date', 'firm', 'from_grade', 'to_grade', 'action', 'symbol'], dtype='object')\n"
     ]
    },
    {
     "data": {
      "text/html": [
       "<div>\n",
       "<style scoped>\n",
       "    .dataframe tbody tr th:only-of-type {\n",
       "        vertical-align: middle;\n",
       "    }\n",
       "\n",
       "    .dataframe tbody tr th {\n",
       "        vertical-align: top;\n",
       "    }\n",
       "\n",
       "    .dataframe thead th {\n",
       "        text-align: right;\n",
       "    }\n",
       "</style>\n",
       "<table border=\"1\" class=\"dataframe\">\n",
       "  <thead>\n",
       "    <tr style=\"text-align: right;\">\n",
       "      <th></th>\n",
       "      <th>date</th>\n",
       "      <th>firm</th>\n",
       "      <th>from_grade</th>\n",
       "      <th>to_grade</th>\n",
       "      <th>action</th>\n",
       "      <th>symbol</th>\n",
       "    </tr>\n",
       "  </thead>\n",
       "  <tbody>\n",
       "    <tr>\n",
       "      <th>0</th>\n",
       "      <td>2012-06-21</td>\n",
       "      <td>BMO Capital</td>\n",
       "      <td></td>\n",
       "      <td>Market Perform</td>\n",
       "      <td>init</td>\n",
       "      <td>AOS</td>\n",
       "    </tr>\n",
       "  </tbody>\n",
       "</table>\n",
       "</div>"
      ],
      "text/plain": [
       "         date         firm from_grade        to_grade action symbol\n",
       "0  2012-06-21  BMO Capital             Market Perform   init    AOS"
      ]
     },
     "execution_count": 30,
     "metadata": {},
     "output_type": "execute_result"
    }
   ],
   "source": [
    "tickers_recommendations = input_data('markets_static_data/tickers_recommendations/tickers_recommendations.parquet', spark, DL_BUCKET_INPUT_PREFIX, 'parquet')\n",
    "tickers_recommendations.head(1)"
   ]
  },
  {
   "cell_type": "code",
   "execution_count": 31,
   "id": "9ba81ad7-0f80-4b12-8b3b-e313ff9f74f2",
   "metadata": {},
   "outputs": [
    {
     "name": "stdout",
     "output_type": "stream",
     "text": [
      "rows count : 8\n",
      "columns :  Index(['year', 'basic_shares', 'symbol'], dtype='object')\n"
     ]
    },
    {
     "data": {
      "text/html": [
       "<div>\n",
       "<style scoped>\n",
       "    .dataframe tbody tr th:only-of-type {\n",
       "        vertical-align: middle;\n",
       "    }\n",
       "\n",
       "    .dataframe tbody tr th {\n",
       "        vertical-align: top;\n",
       "    }\n",
       "\n",
       "    .dataframe thead th {\n",
       "        text-align: right;\n",
       "    }\n",
       "</style>\n",
       "<table border=\"1\" class=\"dataframe\">\n",
       "  <thead>\n",
       "    <tr style=\"text-align: right;\">\n",
       "      <th></th>\n",
       "      <th>year</th>\n",
       "      <th>basic_shares</th>\n",
       "      <th>symbol</th>\n",
       "    </tr>\n",
       "  </thead>\n",
       "  <tbody>\n",
       "    <tr>\n",
       "      <th>0</th>\n",
       "      <td>2018</td>\n",
       "      <td>588500000</td>\n",
       "      <td>MMM</td>\n",
       "    </tr>\n",
       "  </tbody>\n",
       "</table>\n",
       "</div>"
      ],
      "text/plain": [
       "   year  basic_shares symbol\n",
       "0  2018     588500000    MMM"
      ]
     },
     "execution_count": 31,
     "metadata": {},
     "output_type": "execute_result"
    }
   ],
   "source": [
    "tickers_shares = input_data('markets_static_data/tickers_shares/tickers_shares.parquet', spark, DL_BUCKET_INPUT_PREFIX, 'parquet')\n",
    "tickers_shares.head(1)"
   ]
  },
  {
   "cell_type": "code",
   "execution_count": 32,
   "id": "f478e34a-f5c2-46a4-a3e5-c34ce2ef4abd",
   "metadata": {},
   "outputs": [
    {
     "name": "stdout",
     "output_type": "stream",
     "text": [
      "rows count : 1245\n",
      "columns :  Index(['created_at', 'friends_count', 'hashtags', 'in_reply_to_status_id',\n",
      "       'lang', 'retweet_count', 'source', 'source_url', 'text', 'ticker',\n",
      "       'truncated', 'tweet_id', 'user_created_at', 'user_description',\n",
      "       'user_followers_count', 'user_id', 'user_location', 'user_name',\n",
      "       'user_verified'],\n",
      "      dtype='object')\n"
     ]
    },
    {
     "data": {
      "text/html": [
       "<div>\n",
       "<style scoped>\n",
       "    .dataframe tbody tr th:only-of-type {\n",
       "        vertical-align: middle;\n",
       "    }\n",
       "\n",
       "    .dataframe tbody tr th {\n",
       "        vertical-align: top;\n",
       "    }\n",
       "\n",
       "    .dataframe thead th {\n",
       "        text-align: right;\n",
       "    }\n",
       "</style>\n",
       "<table border=\"1\" class=\"dataframe\">\n",
       "  <thead>\n",
       "    <tr style=\"text-align: right;\">\n",
       "      <th></th>\n",
       "      <th>created_at</th>\n",
       "      <th>friends_count</th>\n",
       "      <th>hashtags</th>\n",
       "      <th>in_reply_to_status_id</th>\n",
       "      <th>lang</th>\n",
       "      <th>retweet_count</th>\n",
       "      <th>source</th>\n",
       "      <th>source_url</th>\n",
       "      <th>text</th>\n",
       "      <th>ticker</th>\n",
       "      <th>truncated</th>\n",
       "      <th>tweet_id</th>\n",
       "      <th>user_created_at</th>\n",
       "      <th>user_description</th>\n",
       "      <th>user_followers_count</th>\n",
       "      <th>user_id</th>\n",
       "      <th>user_location</th>\n",
       "      <th>user_name</th>\n",
       "      <th>user_verified</th>\n",
       "    </tr>\n",
       "  </thead>\n",
       "  <tbody>\n",
       "    <tr>\n",
       "      <th>0</th>\n",
       "      <td>2022-12-27 22:28:33</td>\n",
       "      <td>4994</td>\n",
       "      <td>[chaos, warhammer, WarhammerCommunity]</td>\n",
       "      <td>NaN</td>\n",
       "      <td>en</td>\n",
       "      <td>6</td>\n",
       "      <td>Twitter for Android</td>\n",
       "      <td>http://twitter.com/download/android</td>\n",
       "      <td>RT @TheSimonElsen: Working on some Chaos Trolls to use as Theridons! @WarComTeam  #chaos #warhammer #WarhammerCommunity #warhammerageofsigm…</td>\n",
       "      <td>AOS</td>\n",
       "      <td>False</td>\n",
       "      <td>1607866047398543360</td>\n",
       "      <td>2010-07-01</td>\n",
       "      <td>WARHAMMERと ガンプラがメインで、たまに戦車に 女子フィギュア。ときどきガチャガチャを回して アイドル大好き、車もバイクもヘビメタも大好きで、最近 POPMARTさんの SKULLPANDAを集め出しました。(実は朝ドラ好き。笑)</td>\n",
       "      <td>3008</td>\n",
       "      <td>161541519</td>\n",
       "      <td>惑星 バルバラス : Barubaras</td>\n",
       "      <td>シン💀脳魔神 KILLVEARN*イライザ</td>\n",
       "      <td>False</td>\n",
       "    </tr>\n",
       "  </tbody>\n",
       "</table>\n",
       "</div>"
      ],
      "text/plain": [
       "            created_at  friends_count                                hashtags  \\\n",
       "0  2022-12-27 22:28:33           4994  [chaos, warhammer, WarhammerCommunity]   \n",
       "\n",
       "   in_reply_to_status_id lang  retweet_count               source  \\\n",
       "0                    NaN   en              6  Twitter for Android   \n",
       "\n",
       "                            source_url  \\\n",
       "0  http://twitter.com/download/android   \n",
       "\n",
       "                                                                                                                                           text  \\\n",
       "0  RT @TheSimonElsen: Working on some Chaos Trolls to use as Theridons! @WarComTeam  #chaos #warhammer #WarhammerCommunity #warhammerageofsigm…   \n",
       "\n",
       "  ticker  truncated             tweet_id user_created_at  \\\n",
       "0    AOS      False  1607866047398543360      2010-07-01   \n",
       "\n",
       "                                                                                                          user_description  \\\n",
       "0  WARHAMMERと ガンプラがメインで、たまに戦車に 女子フィギュア。ときどきガチャガチャを回して アイドル大好き、車もバイクもヘビメタも大好きで、最近 POPMARTさんの SKULLPANDAを集め出しました。(実は朝ドラ好き。笑)   \n",
       "\n",
       "   user_followers_count    user_id         user_location  \\\n",
       "0                  3008  161541519  惑星 バルバラス : Barubaras   \n",
       "\n",
       "               user_name  user_verified  \n",
       "0  シン💀脳魔神 KILLVEARN*イライザ          False  "
      ]
     },
     "execution_count": 32,
     "metadata": {},
     "output_type": "execute_result"
    }
   ],
   "source": [
    "tweets = input_data('tweets', spark, DL_BUCKET_INPUT_PREFIX, 'json')\n",
    "tweets.head(1)"
   ]
  },
  {
   "cell_type": "markdown",
   "id": "640aa792-1c61-46b8-acbe-f73e256f68b6",
   "metadata": {},
   "source": [
    "# __Read tables in data lake__"
   ]
  },
  {
   "cell_type": "code",
   "execution_count": 23,
   "id": "f7a1d800-8895-4160-bd06-e3647b600aae",
   "metadata": {},
   "outputs": [],
   "source": [
    "def output_data(dim_table_name,spark,DL_BUCKET_OUTPUT_PREFIX,columns_list):\n",
    "    path = os.path.join(DL_BUCKET_OUTPUT_PREFIX,f'{dim_table_name}/{dim_table_name}.parquet').replace('s3','s3a')\n",
    "    dim_table =spark.read.parquet(os.path.join(path))\n",
    "    print('\\ntable :', dim_table_name)\n",
    "    dim_table_duplicates = dim_table.groupBy(columns_list).count().filter(col('count') >1 ).toPandas()\n",
    "    print(\"count :\" , dim_table.count(), '\\nduplicates : ' , dim_table_duplicates.shape[0])\n",
    "    data = dim_table.toPandas()\n",
    "    return dim_table_duplicates, data"
   ]
  },
  {
   "cell_type": "code",
   "execution_count": 24,
   "id": "da417ecf-0aa6-4fe4-8ce9-3e984c9b6461",
   "metadata": {},
   "outputs": [
    {
     "name": "stdout",
     "output_type": "stream",
     "text": [
      "\n",
      "table : financial_report_dim\n",
      "count : 36 \n",
      "duplicates :  0\n"
     ]
    },
    {
     "data": {
      "text/html": [
       "<div>\n",
       "<style scoped>\n",
       "    .dataframe tbody tr th:only-of-type {\n",
       "        vertical-align: middle;\n",
       "    }\n",
       "\n",
       "    .dataframe tbody tr th {\n",
       "        vertical-align: top;\n",
       "    }\n",
       "\n",
       "    .dataframe thead th {\n",
       "        text-align: right;\n",
       "    }\n",
       "</style>\n",
       "<table border=\"1\" class=\"dataframe\">\n",
       "  <thead>\n",
       "    <tr style=\"text-align: right;\">\n",
       "      <th></th>\n",
       "      <th>reporting_id</th>\n",
       "      <th>count</th>\n",
       "    </tr>\n",
       "  </thead>\n",
       "  <tbody>\n",
       "  </tbody>\n",
       "</table>\n",
       "</div>"
      ],
      "text/plain": [
       "Empty DataFrame\n",
       "Columns: [reporting_id, count]\n",
       "Index: []"
      ]
     },
     "execution_count": 24,
     "metadata": {},
     "output_type": "execute_result"
    },
    {
     "data": {
      "text/html": [
       "<div>\n",
       "<style scoped>\n",
       "    .dataframe tbody tr th:only-of-type {\n",
       "        vertical-align: middle;\n",
       "    }\n",
       "\n",
       "    .dataframe tbody tr th {\n",
       "        vertical-align: top;\n",
       "    }\n",
       "\n",
       "    .dataframe thead th {\n",
       "        text-align: right;\n",
       "    }\n",
       "</style>\n",
       "<table border=\"1\" class=\"dataframe\">\n",
       "  <thead>\n",
       "    <tr style=\"text-align: right;\">\n",
       "      <th></th>\n",
       "      <th>date</th>\n",
       "      <th>ticker</th>\n",
       "      <th>period</th>\n",
       "      <th>reporting_id</th>\n",
       "    </tr>\n",
       "  </thead>\n",
       "  <tbody>\n",
       "    <tr>\n",
       "      <th>0</th>\n",
       "      <td>2021-09-30</td>\n",
       "      <td>AOS</td>\n",
       "      <td>quarter</td>\n",
       "      <td>AOS_2021-09-30_quarter</td>\n",
       "    </tr>\n",
       "  </tbody>\n",
       "</table>\n",
       "</div>"
      ],
      "text/plain": [
       "         date ticker   period            reporting_id\n",
       "0  2021-09-30    AOS  quarter  AOS_2021-09-30_quarter"
      ]
     },
     "execution_count": 24,
     "metadata": {},
     "output_type": "execute_result"
    }
   ],
   "source": [
    "data_duplicates , data = output_data(\"financial_report_dim\",spark,DL_BUCKET_OUTPUT_PREFIX,['reporting_id'])\n",
    "data_duplicates\n",
    "data.head(1)"
   ]
  },
  {
   "cell_type": "code",
   "execution_count": 25,
   "id": "ef92b36b-8012-4e35-be86-da5f0514701a",
   "metadata": {},
   "outputs": [
    {
     "name": "stdout",
     "output_type": "stream",
     "text": [
      "\n",
      "table : hashtags_dim\n",
      "count : 17291 \n",
      "duplicates :  0\n"
     ]
    },
    {
     "data": {
      "text/html": [
       "<div>\n",
       "<style scoped>\n",
       "    .dataframe tbody tr th:only-of-type {\n",
       "        vertical-align: middle;\n",
       "    }\n",
       "\n",
       "    .dataframe tbody tr th {\n",
       "        vertical-align: top;\n",
       "    }\n",
       "\n",
       "    .dataframe thead th {\n",
       "        text-align: right;\n",
       "    }\n",
       "</style>\n",
       "<table border=\"1\" class=\"dataframe\">\n",
       "  <thead>\n",
       "    <tr style=\"text-align: right;\">\n",
       "      <th></th>\n",
       "      <th>hashtag_id</th>\n",
       "      <th>tweet_id</th>\n",
       "      <th>hashtag</th>\n",
       "      <th>count</th>\n",
       "    </tr>\n",
       "  </thead>\n",
       "  <tbody>\n",
       "  </tbody>\n",
       "</table>\n",
       "</div>"
      ],
      "text/plain": [
       "Empty DataFrame\n",
       "Columns: [hashtag_id, tweet_id, hashtag, count]\n",
       "Index: []"
      ]
     },
     "execution_count": 25,
     "metadata": {},
     "output_type": "execute_result"
    },
    {
     "data": {
      "text/html": [
       "<div>\n",
       "<style scoped>\n",
       "    .dataframe tbody tr th:only-of-type {\n",
       "        vertical-align: middle;\n",
       "    }\n",
       "\n",
       "    .dataframe tbody tr th {\n",
       "        vertical-align: top;\n",
       "    }\n",
       "\n",
       "    .dataframe thead th {\n",
       "        text-align: right;\n",
       "    }\n",
       "</style>\n",
       "<table border=\"1\" class=\"dataframe\">\n",
       "  <thead>\n",
       "    <tr style=\"text-align: right;\">\n",
       "      <th></th>\n",
       "      <th>hashtag</th>\n",
       "      <th>tweet_id</th>\n",
       "      <th>hashtag_id</th>\n",
       "    </tr>\n",
       "  </thead>\n",
       "  <tbody>\n",
       "    <tr>\n",
       "      <th>0</th>\n",
       "      <td>lordofchange</td>\n",
       "      <td>1571151560373313539</td>\n",
       "      <td>18</td>\n",
       "    </tr>\n",
       "  </tbody>\n",
       "</table>\n",
       "</div>"
      ],
      "text/plain": [
       "        hashtag             tweet_id  hashtag_id\n",
       "0  lordofchange  1571151560373313539          18"
      ]
     },
     "execution_count": 25,
     "metadata": {},
     "output_type": "execute_result"
    }
   ],
   "source": [
    "data_duplicates , data = output_data(\"hashtags_dim\",spark,DL_BUCKET_OUTPUT_PREFIX,['hashtag_id','tweet_id','hashtag'])\n",
    "data_duplicates\n",
    "data.head(1)\n",
    "# data.query(\"tweet_id == 1588130847114379264\")"
   ]
  },
  {
   "cell_type": "code",
   "execution_count": 26,
   "id": "b254ebfc-5333-4caf-a4b7-cbfa79ae85c6",
   "metadata": {},
   "outputs": [
    {
     "name": "stdout",
     "output_type": "stream",
     "text": [
      "\n",
      "table : holders_dim\n",
      "count : 54 \n",
      "duplicates :  0\n"
     ]
    },
    {
     "data": {
      "text/html": [
       "<div>\n",
       "<style scoped>\n",
       "    .dataframe tbody tr th:only-of-type {\n",
       "        vertical-align: middle;\n",
       "    }\n",
       "\n",
       "    .dataframe tbody tr th {\n",
       "        vertical-align: top;\n",
       "    }\n",
       "\n",
       "    .dataframe thead th {\n",
       "        text-align: right;\n",
       "    }\n",
       "</style>\n",
       "<table border=\"1\" class=\"dataframe\">\n",
       "  <thead>\n",
       "    <tr style=\"text-align: right;\">\n",
       "      <th></th>\n",
       "      <th>holder</th>\n",
       "      <th>holder_type</th>\n",
       "      <th>count</th>\n",
       "    </tr>\n",
       "  </thead>\n",
       "  <tbody>\n",
       "  </tbody>\n",
       "</table>\n",
       "</div>"
      ],
      "text/plain": [
       "Empty DataFrame\n",
       "Columns: [holder, holder_type, count]\n",
       "Index: []"
      ]
     },
     "execution_count": 26,
     "metadata": {},
     "output_type": "execute_result"
    },
    {
     "data": {
      "text/html": [
       "<div>\n",
       "<style scoped>\n",
       "    .dataframe tbody tr th:only-of-type {\n",
       "        vertical-align: middle;\n",
       "    }\n",
       "\n",
       "    .dataframe tbody tr th {\n",
       "        vertical-align: top;\n",
       "    }\n",
       "\n",
       "    .dataframe thead th {\n",
       "        text-align: right;\n",
       "    }\n",
       "</style>\n",
       "<table border=\"1\" class=\"dataframe\">\n",
       "  <thead>\n",
       "    <tr style=\"text-align: right;\">\n",
       "      <th></th>\n",
       "      <th>holder</th>\n",
       "      <th>holder_type</th>\n",
       "    </tr>\n",
       "  </thead>\n",
       "  <tbody>\n",
       "    <tr>\n",
       "      <th>0</th>\n",
       "      <td>Schwab Strategic Tr-Schwab U.S. Dividend Equity ETF</td>\n",
       "      <td>mutual fund</td>\n",
       "    </tr>\n",
       "  </tbody>\n",
       "</table>\n",
       "</div>"
      ],
      "text/plain": [
       "                                                holder  holder_type\n",
       "0  Schwab Strategic Tr-Schwab U.S. Dividend Equity ETF  mutual fund"
      ]
     },
     "execution_count": 26,
     "metadata": {},
     "output_type": "execute_result"
    }
   ],
   "source": [
    "data_duplicates , data = output_data(\"holders_dim\",spark,DL_BUCKET_OUTPUT_PREFIX,['holder','holder_type'])\n",
    "data_duplicates\n",
    "data.head(1)"
   ]
  },
  {
   "cell_type": "code",
   "execution_count": 27,
   "id": "4194eaff-175d-406b-a585-35e154eb7550",
   "metadata": {},
   "outputs": [
    {
     "name": "stdout",
     "output_type": "stream",
     "text": [
      "\n",
      "table : location_dim\n",
      "count : 2 \n",
      "duplicates :  0\n"
     ]
    },
    {
     "data": {
      "text/html": [
       "<div>\n",
       "<style scoped>\n",
       "    .dataframe tbody tr th:only-of-type {\n",
       "        vertical-align: middle;\n",
       "    }\n",
       "\n",
       "    .dataframe tbody tr th {\n",
       "        vertical-align: top;\n",
       "    }\n",
       "\n",
       "    .dataframe thead th {\n",
       "        text-align: right;\n",
       "    }\n",
       "</style>\n",
       "<table border=\"1\" class=\"dataframe\">\n",
       "  <thead>\n",
       "    <tr style=\"text-align: right;\">\n",
       "      <th></th>\n",
       "      <th>zip</th>\n",
       "      <th>count</th>\n",
       "    </tr>\n",
       "  </thead>\n",
       "  <tbody>\n",
       "  </tbody>\n",
       "</table>\n",
       "</div>"
      ],
      "text/plain": [
       "Empty DataFrame\n",
       "Columns: [zip, count]\n",
       "Index: []"
      ]
     },
     "execution_count": 27,
     "metadata": {},
     "output_type": "execute_result"
    },
    {
     "data": {
      "text/html": [
       "<div>\n",
       "<style scoped>\n",
       "    .dataframe tbody tr th:only-of-type {\n",
       "        vertical-align: middle;\n",
       "    }\n",
       "\n",
       "    .dataframe tbody tr th {\n",
       "        vertical-align: top;\n",
       "    }\n",
       "\n",
       "    .dataframe thead th {\n",
       "        text-align: right;\n",
       "    }\n",
       "</style>\n",
       "<table border=\"1\" class=\"dataframe\">\n",
       "  <thead>\n",
       "    <tr style=\"text-align: right;\">\n",
       "      <th></th>\n",
       "      <th>city</th>\n",
       "      <th>state</th>\n",
       "      <th>country</th>\n",
       "      <th>zip</th>\n",
       "    </tr>\n",
       "  </thead>\n",
       "  <tbody>\n",
       "    <tr>\n",
       "      <th>0</th>\n",
       "      <td>Saint Paul</td>\n",
       "      <td>MN</td>\n",
       "      <td>United States</td>\n",
       "      <td>55144-1000</td>\n",
       "    </tr>\n",
       "  </tbody>\n",
       "</table>\n",
       "</div>"
      ],
      "text/plain": [
       "         city state        country         zip\n",
       "0  Saint Paul    MN  United States  55144-1000"
      ]
     },
     "execution_count": 27,
     "metadata": {},
     "output_type": "execute_result"
    }
   ],
   "source": [
    "data_duplicates , data = output_data(\"location_dim\",spark,DL_BUCKET_OUTPUT_PREFIX,['zip'])\n",
    "data_duplicates\n",
    "data.head(1)"
   ]
  },
  {
   "cell_type": "code",
   "execution_count": 28,
   "id": "31fb4c43-b2e3-48a6-a6f1-20ba00c7922f",
   "metadata": {},
   "outputs": [
    {
     "name": "stdout",
     "output_type": "stream",
     "text": [
      "\n",
      "table : news_dim\n",
      "count : 48 \n",
      "duplicates :  0\n"
     ]
    },
    {
     "data": {
      "text/html": [
       "<div>\n",
       "<style scoped>\n",
       "    .dataframe tbody tr th:only-of-type {\n",
       "        vertical-align: middle;\n",
       "    }\n",
       "\n",
       "    .dataframe tbody tr th {\n",
       "        vertical-align: top;\n",
       "    }\n",
       "\n",
       "    .dataframe thead th {\n",
       "        text-align: right;\n",
       "    }\n",
       "</style>\n",
       "<table border=\"1\" class=\"dataframe\">\n",
       "  <thead>\n",
       "    <tr style=\"text-align: right;\">\n",
       "      <th></th>\n",
       "      <th>uuid</th>\n",
       "      <th>count</th>\n",
       "    </tr>\n",
       "  </thead>\n",
       "  <tbody>\n",
       "  </tbody>\n",
       "</table>\n",
       "</div>"
      ],
      "text/plain": [
       "Empty DataFrame\n",
       "Columns: [uuid, count]\n",
       "Index: []"
      ]
     },
     "execution_count": 28,
     "metadata": {},
     "output_type": "execute_result"
    },
    {
     "data": {
      "text/html": [
       "<div>\n",
       "<style scoped>\n",
       "    .dataframe tbody tr th:only-of-type {\n",
       "        vertical-align: middle;\n",
       "    }\n",
       "\n",
       "    .dataframe tbody tr th {\n",
       "        vertical-align: top;\n",
       "    }\n",
       "\n",
       "    .dataframe thead th {\n",
       "        text-align: right;\n",
       "    }\n",
       "</style>\n",
       "<table border=\"1\" class=\"dataframe\">\n",
       "  <thead>\n",
       "    <tr style=\"text-align: right;\">\n",
       "      <th></th>\n",
       "      <th>uuid</th>\n",
       "      <th>title</th>\n",
       "      <th>publisher</th>\n",
       "      <th>link</th>\n",
       "      <th>provider_publish_time</th>\n",
       "      <th>type</th>\n",
       "    </tr>\n",
       "  </thead>\n",
       "  <tbody>\n",
       "    <tr>\n",
       "      <th>0</th>\n",
       "      <td>635f2ab9-e426-39a5-9d4e-0f73aef8476d</td>\n",
       "      <td>3M Advances Decarbonization Technologies, Showcases Power of Science To Address Climate Change During Climate Week NYC</td>\n",
       "      <td>News Direct</td>\n",
       "      <td>https://finance.yahoo.com/news/3m-advances-decarbonization-technologies-showcases-184508228.html</td>\n",
       "      <td>1663785908</td>\n",
       "      <td>STORY</td>\n",
       "    </tr>\n",
       "  </tbody>\n",
       "</table>\n",
       "</div>"
      ],
      "text/plain": [
       "                                   uuid  \\\n",
       "0  635f2ab9-e426-39a5-9d4e-0f73aef8476d   \n",
       "\n",
       "                                                                                                                    title  \\\n",
       "0  3M Advances Decarbonization Technologies, Showcases Power of Science To Address Climate Change During Climate Week NYC   \n",
       "\n",
       "     publisher  \\\n",
       "0  News Direct   \n",
       "\n",
       "                                                                                               link  \\\n",
       "0  https://finance.yahoo.com/news/3m-advances-decarbonization-technologies-showcases-184508228.html   \n",
       "\n",
       "  provider_publish_time   type  \n",
       "0            1663785908  STORY  "
      ]
     },
     "execution_count": 28,
     "metadata": {},
     "output_type": "execute_result"
    }
   ],
   "source": [
    "data_duplicates , data = output_data(\"news_dim\",spark,DL_BUCKET_OUTPUT_PREFIX,['uuid'])\n",
    "data_duplicates\n",
    "data.head(1)"
   ]
  },
  {
   "cell_type": "code",
   "execution_count": 29,
   "id": "c0c0e460-986e-4fdc-ab1e-1cfdd3cbf24a",
   "metadata": {},
   "outputs": [
    {
     "name": "stdout",
     "output_type": "stream",
     "text": [
      "\n",
      "table : sector_dim\n",
      "count : 2 \n",
      "duplicates :  0\n"
     ]
    },
    {
     "data": {
      "text/html": [
       "<div>\n",
       "<style scoped>\n",
       "    .dataframe tbody tr th:only-of-type {\n",
       "        vertical-align: middle;\n",
       "    }\n",
       "\n",
       "    .dataframe tbody tr th {\n",
       "        vertical-align: top;\n",
       "    }\n",
       "\n",
       "    .dataframe thead th {\n",
       "        text-align: right;\n",
       "    }\n",
       "</style>\n",
       "<table border=\"1\" class=\"dataframe\">\n",
       "  <thead>\n",
       "    <tr style=\"text-align: right;\">\n",
       "      <th></th>\n",
       "      <th>industry</th>\n",
       "      <th>count</th>\n",
       "    </tr>\n",
       "  </thead>\n",
       "  <tbody>\n",
       "  </tbody>\n",
       "</table>\n",
       "</div>"
      ],
      "text/plain": [
       "Empty DataFrame\n",
       "Columns: [industry, count]\n",
       "Index: []"
      ]
     },
     "execution_count": 29,
     "metadata": {},
     "output_type": "execute_result"
    },
    {
     "data": {
      "text/html": [
       "<div>\n",
       "<style scoped>\n",
       "    .dataframe tbody tr th:only-of-type {\n",
       "        vertical-align: middle;\n",
       "    }\n",
       "\n",
       "    .dataframe tbody tr th {\n",
       "        vertical-align: top;\n",
       "    }\n",
       "\n",
       "    .dataframe thead th {\n",
       "        text-align: right;\n",
       "    }\n",
       "</style>\n",
       "<table border=\"1\" class=\"dataframe\">\n",
       "  <thead>\n",
       "    <tr style=\"text-align: right;\">\n",
       "      <th></th>\n",
       "      <th>industry</th>\n",
       "      <th>sector</th>\n",
       "    </tr>\n",
       "  </thead>\n",
       "  <tbody>\n",
       "    <tr>\n",
       "      <th>0</th>\n",
       "      <td>Specialty Industrial Machinery</td>\n",
       "      <td>Industrials</td>\n",
       "    </tr>\n",
       "  </tbody>\n",
       "</table>\n",
       "</div>"
      ],
      "text/plain": [
       "                         industry       sector\n",
       "0  Specialty Industrial Machinery  Industrials"
      ]
     },
     "execution_count": 29,
     "metadata": {},
     "output_type": "execute_result"
    }
   ],
   "source": [
    "data_duplicates , data = output_data(\"sector_dim\",spark,DL_BUCKET_OUTPUT_PREFIX,['industry'])\n",
    "data_duplicates\n",
    "data.head(1)"
   ]
  },
  {
   "cell_type": "code",
   "execution_count": 30,
   "id": "d45b21ca-8a68-4fb5-877e-548a653c27da",
   "metadata": {},
   "outputs": [
    {
     "name": "stdout",
     "output_type": "stream",
     "text": [
      "\n",
      "table : tickers_news_fact\n",
      "count : 63 \n",
      "duplicates :  0\n"
     ]
    },
    {
     "data": {
      "text/html": [
       "<div>\n",
       "<style scoped>\n",
       "    .dataframe tbody tr th:only-of-type {\n",
       "        vertical-align: middle;\n",
       "    }\n",
       "\n",
       "    .dataframe tbody tr th {\n",
       "        vertical-align: top;\n",
       "    }\n",
       "\n",
       "    .dataframe thead th {\n",
       "        text-align: right;\n",
       "    }\n",
       "</style>\n",
       "<table border=\"1\" class=\"dataframe\">\n",
       "  <thead>\n",
       "    <tr style=\"text-align: right;\">\n",
       "      <th></th>\n",
       "      <th>id</th>\n",
       "      <th>uuid</th>\n",
       "      <th>count</th>\n",
       "    </tr>\n",
       "  </thead>\n",
       "  <tbody>\n",
       "  </tbody>\n",
       "</table>\n",
       "</div>"
      ],
      "text/plain": [
       "Empty DataFrame\n",
       "Columns: [id, uuid, count]\n",
       "Index: []"
      ]
     },
     "execution_count": 30,
     "metadata": {},
     "output_type": "execute_result"
    },
    {
     "data": {
      "text/html": [
       "<div>\n",
       "<style scoped>\n",
       "    .dataframe tbody tr th:only-of-type {\n",
       "        vertical-align: middle;\n",
       "    }\n",
       "\n",
       "    .dataframe tbody tr th {\n",
       "        vertical-align: top;\n",
       "    }\n",
       "\n",
       "    .dataframe thead th {\n",
       "        text-align: right;\n",
       "    }\n",
       "</style>\n",
       "<table border=\"1\" class=\"dataframe\">\n",
       "  <thead>\n",
       "    <tr style=\"text-align: right;\">\n",
       "      <th></th>\n",
       "      <th>uuid</th>\n",
       "      <th>ticker</th>\n",
       "      <th>id</th>\n",
       "    </tr>\n",
       "  </thead>\n",
       "  <tbody>\n",
       "    <tr>\n",
       "      <th>0</th>\n",
       "      <td>49f562f2-9390-3d2d-b876-36690d879cd9</td>\n",
       "      <td>MMM</td>\n",
       "      <td>4080218931200</td>\n",
       "    </tr>\n",
       "  </tbody>\n",
       "</table>\n",
       "</div>"
      ],
      "text/plain": [
       "                                   uuid ticker             id\n",
       "0  49f562f2-9390-3d2d-b876-36690d879cd9    MMM  4080218931200"
      ]
     },
     "execution_count": 30,
     "metadata": {},
     "output_type": "execute_result"
    }
   ],
   "source": [
    "data_duplicates , data = output_data(\"tickers_news_fact\",spark,DL_BUCKET_OUTPUT_PREFIX,['uuid','ticker'])\n",
    "data_duplicates\n",
    "data.head(1)\n",
    "# data.query(\"id == 3874060500992\")"
   ]
  },
  {
   "cell_type": "code",
   "execution_count": 31,
   "id": "85f6779f-0076-441b-9aba-80dc24284cde",
   "metadata": {},
   "outputs": [
    {
     "name": "stdout",
     "output_type": "stream",
     "text": [
      "\n",
      "table : tickers_actions_fact\n",
      "count : 798 \n",
      "duplicates :  0\n"
     ]
    },
    {
     "data": {
      "text/html": [
       "<div>\n",
       "<style scoped>\n",
       "    .dataframe tbody tr th:only-of-type {\n",
       "        vertical-align: middle;\n",
       "    }\n",
       "\n",
       "    .dataframe tbody tr th {\n",
       "        vertical-align: top;\n",
       "    }\n",
       "\n",
       "    .dataframe thead th {\n",
       "        text-align: right;\n",
       "    }\n",
       "</style>\n",
       "<table border=\"1\" class=\"dataframe\">\n",
       "  <thead>\n",
       "    <tr style=\"text-align: right;\">\n",
       "      <th></th>\n",
       "      <th>id</th>\n",
       "      <th>count</th>\n",
       "    </tr>\n",
       "  </thead>\n",
       "  <tbody>\n",
       "  </tbody>\n",
       "</table>\n",
       "</div>"
      ],
      "text/plain": [
       "Empty DataFrame\n",
       "Columns: [id, count]\n",
       "Index: []"
      ]
     },
     "execution_count": 31,
     "metadata": {},
     "output_type": "execute_result"
    },
    {
     "data": {
      "text/html": [
       "<div>\n",
       "<style scoped>\n",
       "    .dataframe tbody tr th:only-of-type {\n",
       "        vertical-align: middle;\n",
       "    }\n",
       "\n",
       "    .dataframe tbody tr th {\n",
       "        vertical-align: top;\n",
       "    }\n",
       "\n",
       "    .dataframe thead th {\n",
       "        text-align: right;\n",
       "    }\n",
       "</style>\n",
       "<table border=\"1\" class=\"dataframe\">\n",
       "  <thead>\n",
       "    <tr style=\"text-align: right;\">\n",
       "      <th></th>\n",
       "      <th>id</th>\n",
       "      <th>dividends</th>\n",
       "      <th>stock_splits</th>\n",
       "      <th>ticker</th>\n",
       "    </tr>\n",
       "  </thead>\n",
       "  <tbody>\n",
       "    <tr>\n",
       "      <th>0</th>\n",
       "      <td>AOS_1987-10-26</td>\n",
       "      <td>0.01</td>\n",
       "      <td>0.00</td>\n",
       "      <td>AOS</td>\n",
       "    </tr>\n",
       "  </tbody>\n",
       "</table>\n",
       "</div>"
      ],
      "text/plain": [
       "               id dividends stock_splits ticker\n",
       "0  AOS_1987-10-26      0.01         0.00    AOS"
      ]
     },
     "execution_count": 31,
     "metadata": {},
     "output_type": "execute_result"
    }
   ],
   "source": [
    "data_duplicates , data = output_data(\"tickers_actions_fact\",spark,DL_BUCKET_OUTPUT_PREFIX,['id'])\n",
    "data_duplicates\n",
    "data.head(1)"
   ]
  },
  {
   "cell_type": "code",
   "execution_count": 32,
   "id": "2d7280bf-4a93-42f2-b16d-ddda2c6c427a",
   "metadata": {},
   "outputs": [
    {
     "name": "stdout",
     "output_type": "stream",
     "text": [
      "\n",
      "table : tickers_analysis_fact\n",
      "count : 12 \n",
      "duplicates :  0\n"
     ]
    },
    {
     "data": {
      "text/html": [
       "<div>\n",
       "<style scoped>\n",
       "    .dataframe tbody tr th:only-of-type {\n",
       "        vertical-align: middle;\n",
       "    }\n",
       "\n",
       "    .dataframe tbody tr th {\n",
       "        vertical-align: top;\n",
       "    }\n",
       "\n",
       "    .dataframe thead th {\n",
       "        text-align: right;\n",
       "    }\n",
       "</style>\n",
       "<table border=\"1\" class=\"dataframe\">\n",
       "  <thead>\n",
       "    <tr style=\"text-align: right;\">\n",
       "      <th></th>\n",
       "      <th>ticker</th>\n",
       "      <th>period</th>\n",
       "      <th>count</th>\n",
       "    </tr>\n",
       "  </thead>\n",
       "  <tbody>\n",
       "  </tbody>\n",
       "</table>\n",
       "</div>"
      ],
      "text/plain": [
       "Empty DataFrame\n",
       "Columns: [ticker, period, count]\n",
       "Index: []"
      ]
     },
     "execution_count": 32,
     "metadata": {},
     "output_type": "execute_result"
    },
    {
     "data": {
      "text/html": [
       "<div>\n",
       "<style scoped>\n",
       "    .dataframe tbody tr th:only-of-type {\n",
       "        vertical-align: middle;\n",
       "    }\n",
       "\n",
       "    .dataframe tbody tr th {\n",
       "        vertical-align: top;\n",
       "    }\n",
       "\n",
       "    .dataframe thead th {\n",
       "        text-align: right;\n",
       "    }\n",
       "</style>\n",
       "<table border=\"1\" class=\"dataframe\">\n",
       "  <thead>\n",
       "    <tr style=\"text-align: right;\">\n",
       "      <th></th>\n",
       "      <th>ticker</th>\n",
       "      <th>period</th>\n",
       "      <th>growth</th>\n",
       "      <th>earnings_estimate_avg</th>\n",
       "      <th>earnings_estimate_low</th>\n",
       "      <th>earnings_estimate_high</th>\n",
       "      <th>earnings_estimate_year_ago_eps</th>\n",
       "      <th>earnings_estimate_number_of_analysts</th>\n",
       "      <th>earning_eEstimate_growth</th>\n",
       "      <th>revenue_estimate_avg</th>\n",
       "      <th>revenue_estimate_low</th>\n",
       "      <th>revenue_estimate_high</th>\n",
       "      <th>eps_trend_current</th>\n",
       "      <th>eps_trend_7days_ago</th>\n",
       "      <th>eps_trend_30days_ago</th>\n",
       "      <th>eps_trend_60days_ago</th>\n",
       "      <th>eps_trend_90days_ago</th>\n",
       "      <th>eps_revisions_up_last7days</th>\n",
       "      <th>eps_revisions_up_last30days</th>\n",
       "      <th>eps_revisions_down_last30days</th>\n",
       "      <th>eps_revisions_down_last90days</th>\n",
       "    </tr>\n",
       "  </thead>\n",
       "  <tbody>\n",
       "    <tr>\n",
       "      <th>0</th>\n",
       "      <td>MMM</td>\n",
       "      <td>+1Y</td>\n",
       "      <td>0.024</td>\n",
       "      <td>10.46</td>\n",
       "      <td>9.90</td>\n",
       "      <td>11.31</td>\n",
       "      <td>10.21</td>\n",
       "      <td>19.00</td>\n",
       "      <td>0.02</td>\n",
       "      <td>33932500000.00</td>\n",
       "      <td>32948000000.00</td>\n",
       "      <td>35698000000.00</td>\n",
       "      <td>10.46</td>\n",
       "      <td>10.56</td>\n",
       "      <td>10.83</td>\n",
       "      <td>10.86</td>\n",
       "      <td>10.92</td>\n",
       "      <td>0.00</td>\n",
       "      <td>0.00</td>\n",
       "      <td>4.00</td>\n",
       "      <td>None</td>\n",
       "    </tr>\n",
       "  </tbody>\n",
       "</table>\n",
       "</div>"
      ],
      "text/plain": [
       "  ticker period  growth earnings_estimate_avg earnings_estimate_low  \\\n",
       "0    MMM    +1Y   0.024                 10.46                  9.90   \n",
       "\n",
       "  earnings_estimate_high earnings_estimate_year_ago_eps  \\\n",
       "0                  11.31                          10.21   \n",
       "\n",
       "  earnings_estimate_number_of_analysts earning_eEstimate_growth  \\\n",
       "0                                19.00                     0.02   \n",
       "\n",
       "  revenue_estimate_avg revenue_estimate_low revenue_estimate_high  \\\n",
       "0       33932500000.00       32948000000.00        35698000000.00   \n",
       "\n",
       "  eps_trend_current eps_trend_7days_ago eps_trend_30days_ago  \\\n",
       "0             10.46               10.56                10.83   \n",
       "\n",
       "  eps_trend_60days_ago eps_trend_90days_ago eps_revisions_up_last7days  \\\n",
       "0                10.86                10.92                       0.00   \n",
       "\n",
       "  eps_revisions_up_last30days eps_revisions_down_last30days  \\\n",
       "0                        0.00                          4.00   \n",
       "\n",
       "  eps_revisions_down_last90days  \n",
       "0                          None  "
      ]
     },
     "execution_count": 32,
     "metadata": {},
     "output_type": "execute_result"
    },
    {
     "data": {
      "text/html": [
       "<div>\n",
       "<style scoped>\n",
       "    .dataframe tbody tr th:only-of-type {\n",
       "        vertical-align: middle;\n",
       "    }\n",
       "\n",
       "    .dataframe tbody tr th {\n",
       "        vertical-align: top;\n",
       "    }\n",
       "\n",
       "    .dataframe thead th {\n",
       "        text-align: right;\n",
       "    }\n",
       "</style>\n",
       "<table border=\"1\" class=\"dataframe\">\n",
       "  <thead>\n",
       "    <tr style=\"text-align: right;\">\n",
       "      <th></th>\n",
       "      <th>ticker</th>\n",
       "      <th>period</th>\n",
       "      <th>growth</th>\n",
       "      <th>earnings_estimate_avg</th>\n",
       "      <th>earnings_estimate_low</th>\n",
       "      <th>earnings_estimate_high</th>\n",
       "      <th>earnings_estimate_year_ago_eps</th>\n",
       "      <th>earnings_estimate_number_of_analysts</th>\n",
       "      <th>earning_eEstimate_growth</th>\n",
       "      <th>revenue_estimate_avg</th>\n",
       "      <th>revenue_estimate_low</th>\n",
       "      <th>revenue_estimate_high</th>\n",
       "      <th>eps_trend_current</th>\n",
       "      <th>eps_trend_7days_ago</th>\n",
       "      <th>eps_trend_30days_ago</th>\n",
       "      <th>eps_trend_60days_ago</th>\n",
       "      <th>eps_trend_90days_ago</th>\n",
       "      <th>eps_revisions_up_last7days</th>\n",
       "      <th>eps_revisions_up_last30days</th>\n",
       "      <th>eps_revisions_down_last30days</th>\n",
       "      <th>eps_revisions_down_last90days</th>\n",
       "    </tr>\n",
       "  </thead>\n",
       "  <tbody>\n",
       "    <tr>\n",
       "      <th>1</th>\n",
       "      <td>AOS</td>\n",
       "      <td>+1Q</td>\n",
       "      <td>0.013</td>\n",
       "      <td>0.78</td>\n",
       "      <td>0.72</td>\n",
       "      <td>0.92</td>\n",
       "      <td>0.77</td>\n",
       "      <td>8.00</td>\n",
       "      <td>0.01</td>\n",
       "      <td>933870000.00</td>\n",
       "      <td>872810000.00</td>\n",
       "      <td>997000000.00</td>\n",
       "      <td>0.78</td>\n",
       "      <td>0.80</td>\n",
       "      <td>0.84</td>\n",
       "      <td>0.83</td>\n",
       "      <td>0.83</td>\n",
       "      <td>1.00</td>\n",
       "      <td>4.00</td>\n",
       "      <td>1.00</td>\n",
       "      <td>None</td>\n",
       "    </tr>\n",
       "  </tbody>\n",
       "</table>\n",
       "</div>"
      ],
      "text/plain": [
       "  ticker period  growth earnings_estimate_avg earnings_estimate_low  \\\n",
       "1    AOS    +1Q   0.013                  0.78                  0.72   \n",
       "\n",
       "  earnings_estimate_high earnings_estimate_year_ago_eps  \\\n",
       "1                   0.92                           0.77   \n",
       "\n",
       "  earnings_estimate_number_of_analysts earning_eEstimate_growth  \\\n",
       "1                                 8.00                     0.01   \n",
       "\n",
       "  revenue_estimate_avg revenue_estimate_low revenue_estimate_high  \\\n",
       "1         933870000.00         872810000.00          997000000.00   \n",
       "\n",
       "  eps_trend_current eps_trend_7days_ago eps_trend_30days_ago  \\\n",
       "1              0.78                0.80                 0.84   \n",
       "\n",
       "  eps_trend_60days_ago eps_trend_90days_ago eps_revisions_up_last7days  \\\n",
       "1                 0.83                 0.83                       1.00   \n",
       "\n",
       "  eps_revisions_up_last30days eps_revisions_down_last30days  \\\n",
       "1                        4.00                          1.00   \n",
       "\n",
       "  eps_revisions_down_last90days  \n",
       "1                          None  "
      ]
     },
     "execution_count": 32,
     "metadata": {},
     "output_type": "execute_result"
    }
   ],
   "source": [
    "data_duplicates , data = output_data(\"tickers_analysis_fact\",spark,DL_BUCKET_OUTPUT_PREFIX,['ticker','period'])\n",
    "data_duplicates\n",
    "data.head(1)\n",
    "data.query(\"ticker == 'AOS' and period == '+1Q'\")"
   ]
  },
  {
   "cell_type": "code",
   "execution_count": 33,
   "id": "9230bf9b-4168-465b-967d-ae9cc0a45924",
   "metadata": {},
   "outputs": [
    {
     "name": "stdout",
     "output_type": "stream",
     "text": [
      "\n",
      "table : tickers_balancesheet_fact\n",
      "count : 18 \n",
      "duplicates :  0\n"
     ]
    },
    {
     "data": {
      "text/html": [
       "<div>\n",
       "<style scoped>\n",
       "    .dataframe tbody tr th:only-of-type {\n",
       "        vertical-align: middle;\n",
       "    }\n",
       "\n",
       "    .dataframe tbody tr th {\n",
       "        vertical-align: top;\n",
       "    }\n",
       "\n",
       "    .dataframe thead th {\n",
       "        text-align: right;\n",
       "    }\n",
       "</style>\n",
       "<table border=\"1\" class=\"dataframe\">\n",
       "  <thead>\n",
       "    <tr style=\"text-align: right;\">\n",
       "      <th></th>\n",
       "      <th>reporting_id</th>\n",
       "      <th>count</th>\n",
       "    </tr>\n",
       "  </thead>\n",
       "  <tbody>\n",
       "  </tbody>\n",
       "</table>\n",
       "</div>"
      ],
      "text/plain": [
       "Empty DataFrame\n",
       "Columns: [reporting_id, count]\n",
       "Index: []"
      ]
     },
     "execution_count": 33,
     "metadata": {},
     "output_type": "execute_result"
    },
    {
     "data": {
      "text/html": [
       "<div>\n",
       "<style scoped>\n",
       "    .dataframe tbody tr th:only-of-type {\n",
       "        vertical-align: middle;\n",
       "    }\n",
       "\n",
       "    .dataframe tbody tr th {\n",
       "        vertical-align: top;\n",
       "    }\n",
       "\n",
       "    .dataframe thead th {\n",
       "        text-align: right;\n",
       "    }\n",
       "</style>\n",
       "<table border=\"1\" class=\"dataframe\">\n",
       "  <thead>\n",
       "    <tr style=\"text-align: right;\">\n",
       "      <th></th>\n",
       "      <th>reporting_id</th>\n",
       "      <th>intangible_assets</th>\n",
       "      <th>capital_surplus</th>\n",
       "      <th>total_liab</th>\n",
       "      <th>total_stockholder_equity</th>\n",
       "      <th>minority_interest</th>\n",
       "      <th>other_current_liab</th>\n",
       "      <th>total_assets</th>\n",
       "      <th>common_stock</th>\n",
       "      <th>other_current_assets</th>\n",
       "      <th>retained_earnings</th>\n",
       "      <th>other_liab</th>\n",
       "      <th>good_will</th>\n",
       "      <th>treasury_stock</th>\n",
       "      <th>other_assets</th>\n",
       "      <th>cash</th>\n",
       "      <th>total_current_liabilities</th>\n",
       "      <th>deferred_long_term_asset_charges</th>\n",
       "      <th>short_long_term_debt</th>\n",
       "      <th>other_stockholder_equity</th>\n",
       "      <th>property_plant_equipment</th>\n",
       "      <th>total_current_assets</th>\n",
       "      <th>long_term_investments</th>\n",
       "      <th>net_tangible_asset</th>\n",
       "      <th>short_term_investments</th>\n",
       "      <th>net_receivables</th>\n",
       "      <th>long_term_debt</th>\n",
       "      <th>inventory</th>\n",
       "      <th>net_tangible_assets</th>\n",
       "      <th>deferred_long_term_liab</th>\n",
       "      <th>accounts_payable</th>\n",
       "    </tr>\n",
       "  </thead>\n",
       "  <tbody>\n",
       "    <tr>\n",
       "      <th>0</th>\n",
       "      <td>MMM_2021-12-31_year</td>\n",
       "      <td>5288000000.00</td>\n",
       "      <td>6429000000.00</td>\n",
       "      <td>31955000000.00</td>\n",
       "      <td>15046000000.00</td>\n",
       "      <td>71000000.00</td>\n",
       "      <td>2090000000.00</td>\n",
       "      <td>47072000000.00</td>\n",
       "      <td>9000000.00</td>\n",
       "      <td>229000000.00</td>\n",
       "      <td>45821000000.00</td>\n",
       "      <td>6180000000.00</td>\n",
       "      <td>13486000000.00</td>\n",
       "      <td>None</td>\n",
       "      <td>2346000000.00</td>\n",
       "      <td>4564000000.00</td>\n",
       "      <td>9035000000.00</td>\n",
       "      <td>581000000.00</td>\n",
       "      <td>1291000000.00</td>\n",
       "      <td>-6750000000.00</td>\n",
       "      <td>10287000000.00</td>\n",
       "      <td>15403000000.00</td>\n",
       "      <td>262000000.00</td>\n",
       "      <td>None</td>\n",
       "      <td>201000000.00</td>\n",
       "      <td>4770000000.00</td>\n",
       "      <td>16056000000.00</td>\n",
       "      <td>4985000000.00</td>\n",
       "      <td>-3728000000.00</td>\n",
       "      <td>None</td>\n",
       "      <td>2994000000.00</td>\n",
       "    </tr>\n",
       "  </tbody>\n",
       "</table>\n",
       "</div>"
      ],
      "text/plain": [
       "          reporting_id intangible_assets capital_surplus      total_liab  \\\n",
       "0  MMM_2021-12-31_year     5288000000.00   6429000000.00  31955000000.00   \n",
       "\n",
       "  total_stockholder_equity minority_interest other_current_liab  \\\n",
       "0           15046000000.00       71000000.00      2090000000.00   \n",
       "\n",
       "     total_assets common_stock other_current_assets retained_earnings  \\\n",
       "0  47072000000.00   9000000.00         229000000.00    45821000000.00   \n",
       "\n",
       "      other_liab       good_will treasury_stock   other_assets           cash  \\\n",
       "0  6180000000.00  13486000000.00           None  2346000000.00  4564000000.00   \n",
       "\n",
       "  total_current_liabilities deferred_long_term_asset_charges  \\\n",
       "0             9035000000.00                     581000000.00   \n",
       "\n",
       "  short_long_term_debt other_stockholder_equity property_plant_equipment  \\\n",
       "0        1291000000.00           -6750000000.00           10287000000.00   \n",
       "\n",
       "  total_current_assets long_term_investments net_tangible_asset  \\\n",
       "0       15403000000.00          262000000.00               None   \n",
       "\n",
       "  short_term_investments net_receivables  long_term_debt      inventory  \\\n",
       "0           201000000.00   4770000000.00  16056000000.00  4985000000.00   \n",
       "\n",
       "  net_tangible_assets deferred_long_term_liab accounts_payable  \n",
       "0      -3728000000.00                    None    2994000000.00  "
      ]
     },
     "execution_count": 33,
     "metadata": {},
     "output_type": "execute_result"
    },
    {
     "data": {
      "text/html": [
       "<div>\n",
       "<style scoped>\n",
       "    .dataframe tbody tr th:only-of-type {\n",
       "        vertical-align: middle;\n",
       "    }\n",
       "\n",
       "    .dataframe tbody tr th {\n",
       "        vertical-align: top;\n",
       "    }\n",
       "\n",
       "    .dataframe thead th {\n",
       "        text-align: right;\n",
       "    }\n",
       "</style>\n",
       "<table border=\"1\" class=\"dataframe\">\n",
       "  <thead>\n",
       "    <tr style=\"text-align: right;\">\n",
       "      <th></th>\n",
       "      <th>reporting_id</th>\n",
       "      <th>intangible_assets</th>\n",
       "      <th>capital_surplus</th>\n",
       "      <th>total_liab</th>\n",
       "      <th>total_stockholder_equity</th>\n",
       "      <th>minority_interest</th>\n",
       "      <th>other_current_liab</th>\n",
       "      <th>total_assets</th>\n",
       "      <th>common_stock</th>\n",
       "      <th>other_current_assets</th>\n",
       "      <th>retained_earnings</th>\n",
       "      <th>other_liab</th>\n",
       "      <th>good_will</th>\n",
       "      <th>treasury_stock</th>\n",
       "      <th>other_assets</th>\n",
       "      <th>cash</th>\n",
       "      <th>total_current_liabilities</th>\n",
       "      <th>deferred_long_term_asset_charges</th>\n",
       "      <th>short_long_term_debt</th>\n",
       "      <th>other_stockholder_equity</th>\n",
       "      <th>property_plant_equipment</th>\n",
       "      <th>total_current_assets</th>\n",
       "      <th>long_term_investments</th>\n",
       "      <th>net_tangible_asset</th>\n",
       "      <th>short_term_investments</th>\n",
       "      <th>net_receivables</th>\n",
       "      <th>long_term_debt</th>\n",
       "      <th>inventory</th>\n",
       "      <th>net_tangible_assets</th>\n",
       "      <th>deferred_long_term_liab</th>\n",
       "      <th>accounts_payable</th>\n",
       "    </tr>\n",
       "  </thead>\n",
       "  <tbody>\n",
       "    <tr>\n",
       "      <th>7</th>\n",
       "      <td>MMM_2021-12-31_quarter</td>\n",
       "      <td>None</td>\n",
       "      <td>None</td>\n",
       "      <td>None</td>\n",
       "      <td>None</td>\n",
       "      <td>71000000.00</td>\n",
       "      <td>None</td>\n",
       "      <td>47072000000.00</td>\n",
       "      <td>9000000.00</td>\n",
       "      <td>151000000.00</td>\n",
       "      <td>45821000000.00</td>\n",
       "      <td>None</td>\n",
       "      <td>None</td>\n",
       "      <td>30463000000.00</td>\n",
       "      <td>None</td>\n",
       "      <td>None</td>\n",
       "      <td>None</td>\n",
       "      <td>None</td>\n",
       "      <td>None</td>\n",
       "      <td>None</td>\n",
       "      <td>None</td>\n",
       "      <td>None</td>\n",
       "      <td>None</td>\n",
       "      <td>None</td>\n",
       "      <td>None</td>\n",
       "      <td>None</td>\n",
       "      <td>16056000000.00</td>\n",
       "      <td>4985000000.00</td>\n",
       "      <td>-3728000000.00</td>\n",
       "      <td>None</td>\n",
       "      <td>2994000000.00</td>\n",
       "    </tr>\n",
       "  </tbody>\n",
       "</table>\n",
       "</div>"
      ],
      "text/plain": [
       "             reporting_id intangible_assets capital_surplus total_liab  \\\n",
       "7  MMM_2021-12-31_quarter              None            None       None   \n",
       "\n",
       "  total_stockholder_equity minority_interest other_current_liab  \\\n",
       "7                     None       71000000.00               None   \n",
       "\n",
       "     total_assets common_stock other_current_assets retained_earnings  \\\n",
       "7  47072000000.00   9000000.00         151000000.00    45821000000.00   \n",
       "\n",
       "  other_liab good_will  treasury_stock other_assets  cash  \\\n",
       "7       None      None  30463000000.00         None  None   \n",
       "\n",
       "  total_current_liabilities deferred_long_term_asset_charges  \\\n",
       "7                      None                             None   \n",
       "\n",
       "  short_long_term_debt other_stockholder_equity property_plant_equipment  \\\n",
       "7                 None                     None                     None   \n",
       "\n",
       "  total_current_assets long_term_investments net_tangible_asset  \\\n",
       "7                 None                  None               None   \n",
       "\n",
       "  short_term_investments net_receivables  long_term_debt      inventory  \\\n",
       "7                   None            None  16056000000.00  4985000000.00   \n",
       "\n",
       "  net_tangible_assets deferred_long_term_liab accounts_payable  \n",
       "7      -3728000000.00                    None    2994000000.00  "
      ]
     },
     "execution_count": 33,
     "metadata": {},
     "output_type": "execute_result"
    }
   ],
   "source": [
    "data_duplicates , data = output_data(\"tickers_balancesheet_fact\",spark,DL_BUCKET_OUTPUT_PREFIX,['reporting_id'])\n",
    "data_duplicates\n",
    "data.head(1)\n",
    "data.query(\"reporting_id == 'MMM_2021-12-31_quarter'\")"
   ]
  },
  {
   "cell_type": "code",
   "execution_count": 34,
   "id": "bdced53c-cd8a-43c3-82b3-a17567df4436",
   "metadata": {},
   "outputs": [
    {
     "name": "stdout",
     "output_type": "stream",
     "text": [
      "\n",
      "table : tickers_cashflow_fact\n",
      "count : 18 \n",
      "duplicates :  0\n"
     ]
    },
    {
     "data": {
      "text/html": [
       "<div>\n",
       "<style scoped>\n",
       "    .dataframe tbody tr th:only-of-type {\n",
       "        vertical-align: middle;\n",
       "    }\n",
       "\n",
       "    .dataframe tbody tr th {\n",
       "        vertical-align: top;\n",
       "    }\n",
       "\n",
       "    .dataframe thead th {\n",
       "        text-align: right;\n",
       "    }\n",
       "</style>\n",
       "<table border=\"1\" class=\"dataframe\">\n",
       "  <thead>\n",
       "    <tr style=\"text-align: right;\">\n",
       "      <th></th>\n",
       "      <th>reporting_id</th>\n",
       "      <th>count</th>\n",
       "    </tr>\n",
       "  </thead>\n",
       "  <tbody>\n",
       "  </tbody>\n",
       "</table>\n",
       "</div>"
      ],
      "text/plain": [
       "Empty DataFrame\n",
       "Columns: [reporting_id, count]\n",
       "Index: []"
      ]
     },
     "execution_count": 34,
     "metadata": {},
     "output_type": "execute_result"
    },
    {
     "data": {
      "text/html": [
       "<div>\n",
       "<style scoped>\n",
       "    .dataframe tbody tr th:only-of-type {\n",
       "        vertical-align: middle;\n",
       "    }\n",
       "\n",
       "    .dataframe tbody tr th {\n",
       "        vertical-align: top;\n",
       "    }\n",
       "\n",
       "    .dataframe thead th {\n",
       "        text-align: right;\n",
       "    }\n",
       "</style>\n",
       "<table border=\"1\" class=\"dataframe\">\n",
       "  <thead>\n",
       "    <tr style=\"text-align: right;\">\n",
       "      <th></th>\n",
       "      <th>reporting_id</th>\n",
       "      <th>investments</th>\n",
       "      <th>change_to_liabilities</th>\n",
       "      <th>total_cashflows_from_investing_activities</th>\n",
       "      <th>net_borrowings</th>\n",
       "      <th>total_cash_from_financing_activities</th>\n",
       "      <th>issuance_of_stock</th>\n",
       "      <th>net_income</th>\n",
       "      <th>change_in_cash</th>\n",
       "      <th>repurchase_of_stock</th>\n",
       "      <th>effect_of_exchange_rate</th>\n",
       "      <th>total_cash_from_operating_activities</th>\n",
       "      <th>depreciation</th>\n",
       "      <th>other_cashflows_from_investing_activities</th>\n",
       "      <th>dividends_paid</th>\n",
       "      <th>change_to_inventory</th>\n",
       "      <th>change_to_account_receivables</th>\n",
       "      <th>other_cashflows_from_financing_activities</th>\n",
       "      <th>change_to_net_income</th>\n",
       "      <th>capital_expenditures</th>\n",
       "      <th>change_to_operating_activities</th>\n",
       "    </tr>\n",
       "  </thead>\n",
       "  <tbody>\n",
       "    <tr>\n",
       "      <th>0</th>\n",
       "      <td>MMM_2022-06-30_quarter</td>\n",
       "      <td>-154000000.00</td>\n",
       "      <td>140000000.00</td>\n",
       "      <td>-551000000.00</td>\n",
       "      <td>-250000000.00</td>\n",
       "      <td>-1048000000.00</td>\n",
       "      <td>63000000.00</td>\n",
       "      <td>78000000.00</td>\n",
       "      <td>-525000000.00</td>\n",
       "      <td>-155000000.00</td>\n",
       "      <td>-53000000.00</td>\n",
       "      <td>1127000000.00</td>\n",
       "      <td>462000000.00</td>\n",
       "      <td>-13000000.00</td>\n",
       "      <td>-848000000.00</td>\n",
       "      <td>-518000000.00</td>\n",
       "      <td>-268000000.00</td>\n",
       "      <td>-13000000.00</td>\n",
       "      <td>1421000000.00</td>\n",
       "      <td>-384000000.00</td>\n",
       "      <td>None</td>\n",
       "    </tr>\n",
       "  </tbody>\n",
       "</table>\n",
       "</div>"
      ],
      "text/plain": [
       "             reporting_id    investments change_to_liabilities  \\\n",
       "0  MMM_2022-06-30_quarter  -154000000.00          140000000.00   \n",
       "\n",
       "  total_cashflows_from_investing_activities net_borrowings  \\\n",
       "0                             -551000000.00  -250000000.00   \n",
       "\n",
       "  total_cash_from_financing_activities issuance_of_stock   net_income  \\\n",
       "0                       -1048000000.00       63000000.00  78000000.00   \n",
       "\n",
       "  change_in_cash repurchase_of_stock effect_of_exchange_rate  \\\n",
       "0  -525000000.00       -155000000.00            -53000000.00   \n",
       "\n",
       "  total_cash_from_operating_activities  depreciation  \\\n",
       "0                        1127000000.00  462000000.00   \n",
       "\n",
       "  other_cashflows_from_investing_activities dividends_paid  \\\n",
       "0                              -13000000.00  -848000000.00   \n",
       "\n",
       "  change_to_inventory change_to_account_receivables  \\\n",
       "0       -518000000.00                 -268000000.00   \n",
       "\n",
       "  other_cashflows_from_financing_activities change_to_net_income  \\\n",
       "0                              -13000000.00        1421000000.00   \n",
       "\n",
       "  capital_expenditures change_to_operating_activities  \n",
       "0        -384000000.00                           None  "
      ]
     },
     "execution_count": 34,
     "metadata": {},
     "output_type": "execute_result"
    },
    {
     "data": {
      "text/html": [
       "<div>\n",
       "<style scoped>\n",
       "    .dataframe tbody tr th:only-of-type {\n",
       "        vertical-align: middle;\n",
       "    }\n",
       "\n",
       "    .dataframe tbody tr th {\n",
       "        vertical-align: top;\n",
       "    }\n",
       "\n",
       "    .dataframe thead th {\n",
       "        text-align: right;\n",
       "    }\n",
       "</style>\n",
       "<table border=\"1\" class=\"dataframe\">\n",
       "  <thead>\n",
       "    <tr style=\"text-align: right;\">\n",
       "      <th></th>\n",
       "      <th>reporting_id</th>\n",
       "      <th>investments</th>\n",
       "      <th>change_to_liabilities</th>\n",
       "      <th>total_cashflows_from_investing_activities</th>\n",
       "      <th>net_borrowings</th>\n",
       "      <th>total_cash_from_financing_activities</th>\n",
       "      <th>issuance_of_stock</th>\n",
       "      <th>net_income</th>\n",
       "      <th>change_in_cash</th>\n",
       "      <th>repurchase_of_stock</th>\n",
       "      <th>effect_of_exchange_rate</th>\n",
       "      <th>total_cash_from_operating_activities</th>\n",
       "      <th>depreciation</th>\n",
       "      <th>other_cashflows_from_investing_activities</th>\n",
       "      <th>dividends_paid</th>\n",
       "      <th>change_to_inventory</th>\n",
       "      <th>change_to_account_receivables</th>\n",
       "      <th>other_cashflows_from_financing_activities</th>\n",
       "      <th>change_to_net_income</th>\n",
       "      <th>capital_expenditures</th>\n",
       "      <th>change_to_operating_activities</th>\n",
       "    </tr>\n",
       "  </thead>\n",
       "  <tbody>\n",
       "    <tr>\n",
       "      <th>7</th>\n",
       "      <td>AOS_2021-12-31_quarter</td>\n",
       "      <td>13800000.00</td>\n",
       "      <td>142900000.00</td>\n",
       "      <td>-214600000.00</td>\n",
       "      <td>90300000.00</td>\n",
       "      <td>-92500000.00</td>\n",
       "      <td>16400000.00</td>\n",
       "      <td>139600000.00</td>\n",
       "      <td>-42800000.00</td>\n",
       "      <td>-154500000.00</td>\n",
       "      <td>None</td>\n",
       "      <td>264300000.00</td>\n",
       "      <td>19900000.00</td>\n",
       "      <td>None</td>\n",
       "      <td>-44700000.00</td>\n",
       "      <td>-109500000.00</td>\n",
       "      <td>-25500000.00</td>\n",
       "      <td>-2700000.00</td>\n",
       "      <td>1600000.00</td>\n",
       "      <td>-29800000.00</td>\n",
       "      <td>73600000.00</td>\n",
       "    </tr>\n",
       "  </tbody>\n",
       "</table>\n",
       "</div>"
      ],
      "text/plain": [
       "             reporting_id  investments change_to_liabilities  \\\n",
       "7  AOS_2021-12-31_quarter  13800000.00          142900000.00   \n",
       "\n",
       "  total_cashflows_from_investing_activities net_borrowings  \\\n",
       "7                             -214600000.00    90300000.00   \n",
       "\n",
       "  total_cash_from_financing_activities issuance_of_stock    net_income  \\\n",
       "7                         -92500000.00       16400000.00  139600000.00   \n",
       "\n",
       "  change_in_cash repurchase_of_stock effect_of_exchange_rate  \\\n",
       "7   -42800000.00       -154500000.00                    None   \n",
       "\n",
       "  total_cash_from_operating_activities depreciation  \\\n",
       "7                         264300000.00  19900000.00   \n",
       "\n",
       "  other_cashflows_from_investing_activities dividends_paid  \\\n",
       "7                                      None   -44700000.00   \n",
       "\n",
       "  change_to_inventory change_to_account_receivables  \\\n",
       "7       -109500000.00                  -25500000.00   \n",
       "\n",
       "  other_cashflows_from_financing_activities change_to_net_income  \\\n",
       "7                               -2700000.00           1600000.00   \n",
       "\n",
       "  capital_expenditures change_to_operating_activities  \n",
       "7         -29800000.00                    73600000.00  "
      ]
     },
     "execution_count": 34,
     "metadata": {},
     "output_type": "execute_result"
    }
   ],
   "source": [
    "data_duplicates , data = output_data(\"tickers_cashflow_fact\",spark,DL_BUCKET_OUTPUT_PREFIX,['reporting_id'])\n",
    "data_duplicates\n",
    "data.head(1)\n",
    "data.query(\"reporting_id == 'AOS_2021-12-31_quarter'\")"
   ]
  },
  {
   "cell_type": "code",
   "execution_count": 35,
   "id": "108a9974-fc6f-42db-8169-7db46f856d21",
   "metadata": {},
   "outputs": [
    {
     "name": "stdout",
     "output_type": "stream",
     "text": [
      "\n",
      "table : tickers_earnings_fact\n",
      "count : 18 \n",
      "duplicates :  0\n"
     ]
    },
    {
     "data": {
      "text/html": [
       "<div>\n",
       "<style scoped>\n",
       "    .dataframe tbody tr th:only-of-type {\n",
       "        vertical-align: middle;\n",
       "    }\n",
       "\n",
       "    .dataframe tbody tr th {\n",
       "        vertical-align: top;\n",
       "    }\n",
       "\n",
       "    .dataframe thead th {\n",
       "        text-align: right;\n",
       "    }\n",
       "</style>\n",
       "<table border=\"1\" class=\"dataframe\">\n",
       "  <thead>\n",
       "    <tr style=\"text-align: right;\">\n",
       "      <th></th>\n",
       "      <th>reporting_id</th>\n",
       "      <th>count</th>\n",
       "    </tr>\n",
       "  </thead>\n",
       "  <tbody>\n",
       "  </tbody>\n",
       "</table>\n",
       "</div>"
      ],
      "text/plain": [
       "Empty DataFrame\n",
       "Columns: [reporting_id, count]\n",
       "Index: []"
      ]
     },
     "execution_count": 35,
     "metadata": {},
     "output_type": "execute_result"
    },
    {
     "data": {
      "text/html": [
       "<div>\n",
       "<style scoped>\n",
       "    .dataframe tbody tr th:only-of-type {\n",
       "        vertical-align: middle;\n",
       "    }\n",
       "\n",
       "    .dataframe tbody tr th {\n",
       "        vertical-align: top;\n",
       "    }\n",
       "\n",
       "    .dataframe thead th {\n",
       "        text-align: right;\n",
       "    }\n",
       "</style>\n",
       "<table border=\"1\" class=\"dataframe\">\n",
       "  <thead>\n",
       "    <tr style=\"text-align: right;\">\n",
       "      <th></th>\n",
       "      <th>reporting_id</th>\n",
       "      <th>revenue</th>\n",
       "      <th>earnings</th>\n",
       "    </tr>\n",
       "  </thead>\n",
       "  <tbody>\n",
       "    <tr>\n",
       "      <th>0</th>\n",
       "      <td>AOS_2Q2022_quarter</td>\n",
       "      <td>965900000.00</td>\n",
       "      <td>126200000.00</td>\n",
       "    </tr>\n",
       "  </tbody>\n",
       "</table>\n",
       "</div>"
      ],
      "text/plain": [
       "         reporting_id       revenue      earnings\n",
       "0  AOS_2Q2022_quarter  965900000.00  126200000.00"
      ]
     },
     "execution_count": 35,
     "metadata": {},
     "output_type": "execute_result"
    }
   ],
   "source": [
    "data_duplicates , data = output_data(\"tickers_earnings_fact\",spark,DL_BUCKET_OUTPUT_PREFIX,['reporting_id'])\n",
    "data_duplicates\n",
    "data.head(1)"
   ]
  },
  {
   "cell_type": "code",
   "execution_count": 36,
   "id": "6b94a931-5605-4ae8-9ae2-139374e11830",
   "metadata": {},
   "outputs": [
    {
     "name": "stdout",
     "output_type": "stream",
     "text": [
      "\n",
      "table : tickers_eps_fact\n",
      "count : 24 \n",
      "duplicates :  0\n"
     ]
    },
    {
     "data": {
      "text/html": [
       "<div>\n",
       "<style scoped>\n",
       "    .dataframe tbody tr th:only-of-type {\n",
       "        vertical-align: middle;\n",
       "    }\n",
       "\n",
       "    .dataframe tbody tr th {\n",
       "        vertical-align: top;\n",
       "    }\n",
       "\n",
       "    .dataframe thead th {\n",
       "        text-align: right;\n",
       "    }\n",
       "</style>\n",
       "<table border=\"1\" class=\"dataframe\">\n",
       "  <thead>\n",
       "    <tr style=\"text-align: right;\">\n",
       "      <th></th>\n",
       "      <th>id</th>\n",
       "      <th>count</th>\n",
       "    </tr>\n",
       "  </thead>\n",
       "  <tbody>\n",
       "  </tbody>\n",
       "</table>\n",
       "</div>"
      ],
      "text/plain": [
       "Empty DataFrame\n",
       "Columns: [id, count]\n",
       "Index: []"
      ]
     },
     "execution_count": 36,
     "metadata": {},
     "output_type": "execute_result"
    },
    {
     "data": {
      "text/html": [
       "<div>\n",
       "<style scoped>\n",
       "    .dataframe tbody tr th:only-of-type {\n",
       "        vertical-align: middle;\n",
       "    }\n",
       "\n",
       "    .dataframe tbody tr th {\n",
       "        vertical-align: top;\n",
       "    }\n",
       "\n",
       "    .dataframe thead th {\n",
       "        text-align: right;\n",
       "    }\n",
       "</style>\n",
       "<table border=\"1\" class=\"dataframe\">\n",
       "  <thead>\n",
       "    <tr style=\"text-align: right;\">\n",
       "      <th></th>\n",
       "      <th>id</th>\n",
       "      <th>ticker</th>\n",
       "      <th>earnings_date</th>\n",
       "      <th>eps_estimate</th>\n",
       "      <th>reported_eps</th>\n",
       "      <th>surprise_ratio</th>\n",
       "    </tr>\n",
       "  </thead>\n",
       "  <tbody>\n",
       "    <tr>\n",
       "      <th>0</th>\n",
       "      <td>AOS_2021-10-28</td>\n",
       "      <td>AOS</td>\n",
       "      <td>2021-10-28</td>\n",
       "      <td>0.68</td>\n",
       "      <td>0.82</td>\n",
       "      <td>0.21</td>\n",
       "    </tr>\n",
       "  </tbody>\n",
       "</table>\n",
       "</div>"
      ],
      "text/plain": [
       "               id ticker earnings_date eps_estimate reported_eps  \\\n",
       "0  AOS_2021-10-28    AOS    2021-10-28         0.68         0.82   \n",
       "\n",
       "  surprise_ratio  \n",
       "0           0.21  "
      ]
     },
     "execution_count": 36,
     "metadata": {},
     "output_type": "execute_result"
    }
   ],
   "source": [
    "data_duplicates , data = output_data(\"tickers_eps_fact\",spark,DL_BUCKET_OUTPUT_PREFIX,['id'])\n",
    "data_duplicates\n",
    "data.head(1)"
   ]
  },
  {
   "cell_type": "code",
   "execution_count": 68,
   "id": "38c153a6-af2c-419c-bab0-b5f659a45306",
   "metadata": {},
   "outputs": [
    {
     "name": "stdout",
     "output_type": "stream",
     "text": [
      "\n",
      "table : tickers_financials_fact\n",
      "count : 18 \n",
      "duplicates :  0\n"
     ]
    },
    {
     "data": {
      "text/html": [
       "<div>\n",
       "<style scoped>\n",
       "    .dataframe tbody tr th:only-of-type {\n",
       "        vertical-align: middle;\n",
       "    }\n",
       "\n",
       "    .dataframe tbody tr th {\n",
       "        vertical-align: top;\n",
       "    }\n",
       "\n",
       "    .dataframe thead th {\n",
       "        text-align: right;\n",
       "    }\n",
       "</style>\n",
       "<table border=\"1\" class=\"dataframe\">\n",
       "  <thead>\n",
       "    <tr style=\"text-align: right;\">\n",
       "      <th></th>\n",
       "      <th>reporting_id</th>\n",
       "      <th>count</th>\n",
       "    </tr>\n",
       "  </thead>\n",
       "  <tbody>\n",
       "  </tbody>\n",
       "</table>\n",
       "</div>"
      ],
      "text/plain": [
       "Empty DataFrame\n",
       "Columns: [reporting_id, count]\n",
       "Index: []"
      ]
     },
     "execution_count": 68,
     "metadata": {},
     "output_type": "execute_result"
    },
    {
     "data": {
      "text/html": [
       "<div>\n",
       "<style scoped>\n",
       "    .dataframe tbody tr th:only-of-type {\n",
       "        vertical-align: middle;\n",
       "    }\n",
       "\n",
       "    .dataframe tbody tr th {\n",
       "        vertical-align: top;\n",
       "    }\n",
       "\n",
       "    .dataframe thead th {\n",
       "        text-align: right;\n",
       "    }\n",
       "</style>\n",
       "<table border=\"1\" class=\"dataframe\">\n",
       "  <thead>\n",
       "    <tr style=\"text-align: right;\">\n",
       "      <th></th>\n",
       "      <th>reporting_id</th>\n",
       "      <th>research_development</th>\n",
       "      <th>effect_of_accounting_charges</th>\n",
       "      <th>income_before_tax</th>\n",
       "      <th>minority_interest</th>\n",
       "      <th>net_income</th>\n",
       "      <th>selling_general_administrative</th>\n",
       "      <th>gross_profit</th>\n",
       "      <th>ebit</th>\n",
       "      <th>operating_income</th>\n",
       "      <th>other_operating_expenses</th>\n",
       "      <th>interest_expense</th>\n",
       "      <th>extraordinary_items</th>\n",
       "      <th>non_recurring</th>\n",
       "      <th>other_items</th>\n",
       "      <th>income_tax_expense</th>\n",
       "      <th>total_revenue</th>\n",
       "      <th>total_operating_expenses</th>\n",
       "      <th>cost_of_revenue</th>\n",
       "      <th>total_other_income_expense_net</th>\n",
       "      <th>discontinued_operations</th>\n",
       "      <th>net_income_from_continuing_ops</th>\n",
       "      <th>net_income_applicable_to_common_shares</th>\n",
       "    </tr>\n",
       "  </thead>\n",
       "  <tbody>\n",
       "    <tr>\n",
       "      <th>0</th>\n",
       "      <td>AOS_2021-09-30_quarter</td>\n",
       "      <td>None</td>\n",
       "      <td>None</td>\n",
       "      <td>None</td>\n",
       "      <td>None</td>\n",
       "      <td>131600000.00</td>\n",
       "      <td>None</td>\n",
       "      <td>340300000.00</td>\n",
       "      <td>None</td>\n",
       "      <td>162700000.00</td>\n",
       "      <td>None</td>\n",
       "      <td>1000000.00</td>\n",
       "      <td>None</td>\n",
       "      <td>None</td>\n",
       "      <td>None</td>\n",
       "      <td>None</td>\n",
       "      <td>914600000.00</td>\n",
       "      <td>None</td>\n",
       "      <td>574300000.00</td>\n",
       "      <td>None</td>\n",
       "      <td>None</td>\n",
       "      <td>None</td>\n",
       "      <td>None</td>\n",
       "    </tr>\n",
       "  </tbody>\n",
       "</table>\n",
       "</div>"
      ],
      "text/plain": [
       "             reporting_id research_development effect_of_accounting_charges  \\\n",
       "0  AOS_2021-09-30_quarter                 None                         None   \n",
       "\n",
       "  income_before_tax minority_interest    net_income  \\\n",
       "0              None              None  131600000.00   \n",
       "\n",
       "  selling_general_administrative  gross_profit  ebit operating_income  \\\n",
       "0                           None  340300000.00  None     162700000.00   \n",
       "\n",
       "  other_operating_expenses interest_expense extraordinary_items non_recurring  \\\n",
       "0                     None       1000000.00                None          None   \n",
       "\n",
       "  other_items income_tax_expense total_revenue total_operating_expenses  \\\n",
       "0        None               None  914600000.00                     None   \n",
       "\n",
       "  cost_of_revenue total_other_income_expense_net discontinued_operations  \\\n",
       "0    574300000.00                           None                    None   \n",
       "\n",
       "  net_income_from_continuing_ops net_income_applicable_to_common_shares  \n",
       "0                           None                                   None  "
      ]
     },
     "execution_count": 68,
     "metadata": {},
     "output_type": "execute_result"
    },
    {
     "data": {
      "text/plain": [
       "Index(['reporting_id', 'research_development', 'effect_of_accounting_charges',\n",
       "       'income_before_tax', 'minority_interest', 'net_income',\n",
       "       'selling_general_administrative', 'gross_profit', 'ebit',\n",
       "       'operating_income', 'other_operating_expenses', 'interest_expense',\n",
       "       'extraordinary_items', 'non_recurring', 'other_items',\n",
       "       'income_tax_expense', 'total_revenue', 'total_operating_expenses',\n",
       "       'cost_of_revenue', 'total_other_income_expense_net',\n",
       "       'discontinued_operations', 'net_income_from_continuing_ops',\n",
       "       'net_income_applicable_to_common_shares'],\n",
       "      dtype='object')"
      ]
     },
     "execution_count": 68,
     "metadata": {},
     "output_type": "execute_result"
    },
    {
     "data": {
      "text/html": [
       "<div>\n",
       "<style scoped>\n",
       "    .dataframe tbody tr th:only-of-type {\n",
       "        vertical-align: middle;\n",
       "    }\n",
       "\n",
       "    .dataframe tbody tr th {\n",
       "        vertical-align: top;\n",
       "    }\n",
       "\n",
       "    .dataframe thead th {\n",
       "        text-align: right;\n",
       "    }\n",
       "</style>\n",
       "<table border=\"1\" class=\"dataframe\">\n",
       "  <thead>\n",
       "    <tr style=\"text-align: right;\">\n",
       "      <th></th>\n",
       "      <th>reporting_id</th>\n",
       "      <th>research_development</th>\n",
       "      <th>effect_of_accounting_charges</th>\n",
       "      <th>income_before_tax</th>\n",
       "      <th>minority_interest</th>\n",
       "      <th>net_income</th>\n",
       "      <th>selling_general_administrative</th>\n",
       "      <th>gross_profit</th>\n",
       "      <th>ebit</th>\n",
       "      <th>operating_income</th>\n",
       "      <th>other_operating_expenses</th>\n",
       "      <th>interest_expense</th>\n",
       "      <th>extraordinary_items</th>\n",
       "      <th>non_recurring</th>\n",
       "      <th>other_items</th>\n",
       "      <th>income_tax_expense</th>\n",
       "      <th>total_revenue</th>\n",
       "      <th>total_operating_expenses</th>\n",
       "      <th>cost_of_revenue</th>\n",
       "      <th>total_other_income_expense_net</th>\n",
       "      <th>discontinued_operations</th>\n",
       "      <th>net_income_from_continuing_ops</th>\n",
       "      <th>net_income_applicable_to_common_shares</th>\n",
       "    </tr>\n",
       "  </thead>\n",
       "  <tbody>\n",
       "    <tr>\n",
       "      <th>5</th>\n",
       "      <td>MMM_2021-12-31_quarter</td>\n",
       "      <td>None</td>\n",
       "      <td>None</td>\n",
       "      <td>None</td>\n",
       "      <td>None</td>\n",
       "      <td>1339000000.00</td>\n",
       "      <td>None</td>\n",
       "      <td>3914000000.00</td>\n",
       "      <td>None</td>\n",
       "      <td>1674000000.00</td>\n",
       "      <td>None</td>\n",
       "      <td>118000000.00</td>\n",
       "      <td>None</td>\n",
       "      <td>None</td>\n",
       "      <td>None</td>\n",
       "      <td>None</td>\n",
       "      <td>8612000000.00</td>\n",
       "      <td>None</td>\n",
       "      <td>4698000000.00</td>\n",
       "      <td>None</td>\n",
       "      <td>None</td>\n",
       "      <td>None</td>\n",
       "      <td>None</td>\n",
       "    </tr>\n",
       "  </tbody>\n",
       "</table>\n",
       "</div>"
      ],
      "text/plain": [
       "             reporting_id research_development effect_of_accounting_charges  \\\n",
       "5  MMM_2021-12-31_quarter                 None                         None   \n",
       "\n",
       "  income_before_tax minority_interest     net_income  \\\n",
       "5              None              None  1339000000.00   \n",
       "\n",
       "  selling_general_administrative   gross_profit  ebit operating_income  \\\n",
       "5                           None  3914000000.00  None    1674000000.00   \n",
       "\n",
       "  other_operating_expenses interest_expense extraordinary_items non_recurring  \\\n",
       "5                     None     118000000.00                None          None   \n",
       "\n",
       "  other_items income_tax_expense  total_revenue total_operating_expenses  \\\n",
       "5        None               None  8612000000.00                     None   \n",
       "\n",
       "  cost_of_revenue total_other_income_expense_net discontinued_operations  \\\n",
       "5   4698000000.00                           None                    None   \n",
       "\n",
       "  net_income_from_continuing_ops net_income_applicable_to_common_shares  \n",
       "5                           None                                   None  "
      ]
     },
     "execution_count": 68,
     "metadata": {},
     "output_type": "execute_result"
    }
   ],
   "source": [
    "data_duplicates , data = output_data(\"tickers_financials_fact\",spark,DL_BUCKET_OUTPUT_PREFIX,['reporting_id'])\n",
    "data_duplicates\n",
    "data.head(1)\n",
    "data.columns\n",
    "data.query(\"reporting_id == 'MMM_2021-12-31_quarter'\")"
   ]
  },
  {
   "cell_type": "code",
   "execution_count": 38,
   "id": "ac4cbf82-c162-43e7-b174-4f1d27c1a08b",
   "metadata": {},
   "outputs": [
    {
     "name": "stdout",
     "output_type": "stream",
     "text": [
      "\n",
      "table : tickers_historical_prices_fact\n",
      "count : 38224 \n",
      "duplicates :  0\n"
     ]
    },
    {
     "data": {
      "text/html": [
       "<div>\n",
       "<style scoped>\n",
       "    .dataframe tbody tr th:only-of-type {\n",
       "        vertical-align: middle;\n",
       "    }\n",
       "\n",
       "    .dataframe tbody tr th {\n",
       "        vertical-align: top;\n",
       "    }\n",
       "\n",
       "    .dataframe thead th {\n",
       "        text-align: right;\n",
       "    }\n",
       "</style>\n",
       "<table border=\"1\" class=\"dataframe\">\n",
       "  <thead>\n",
       "    <tr style=\"text-align: right;\">\n",
       "      <th></th>\n",
       "      <th>ticker</th>\n",
       "      <th>date</th>\n",
       "      <th>datetime</th>\n",
       "      <th>interval</th>\n",
       "      <th>count</th>\n",
       "    </tr>\n",
       "  </thead>\n",
       "  <tbody>\n",
       "  </tbody>\n",
       "</table>\n",
       "</div>"
      ],
      "text/plain": [
       "Empty DataFrame\n",
       "Columns: [ticker, date, datetime, interval, count]\n",
       "Index: []"
      ]
     },
     "execution_count": 38,
     "metadata": {},
     "output_type": "execute_result"
    },
    {
     "data": {
      "text/html": [
       "<div>\n",
       "<style scoped>\n",
       "    .dataframe tbody tr th:only-of-type {\n",
       "        vertical-align: middle;\n",
       "    }\n",
       "\n",
       "    .dataframe tbody tr th {\n",
       "        vertical-align: top;\n",
       "    }\n",
       "\n",
       "    .dataframe thead th {\n",
       "        text-align: right;\n",
       "    }\n",
       "</style>\n",
       "<table border=\"1\" class=\"dataframe\">\n",
       "  <thead>\n",
       "    <tr style=\"text-align: right;\">\n",
       "      <th></th>\n",
       "      <th>datetime</th>\n",
       "      <th>date</th>\n",
       "      <th>ticker</th>\n",
       "      <th>close</th>\n",
       "      <th>high</th>\n",
       "      <th>low</th>\n",
       "      <th>open</th>\n",
       "      <th>volume</th>\n",
       "      <th>interval</th>\n",
       "    </tr>\n",
       "  </thead>\n",
       "  <tbody>\n",
       "    <tr>\n",
       "      <th>0</th>\n",
       "      <td>2012-10-04 00:00:00</td>\n",
       "      <td>2012-10-04</td>\n",
       "      <td>AOS</td>\n",
       "      <td>12.534749</td>\n",
       "      <td>12.584576</td>\n",
       "      <td>12.380935</td>\n",
       "      <td>12.471923</td>\n",
       "      <td>1102400.0</td>\n",
       "      <td>1d</td>\n",
       "    </tr>\n",
       "  </tbody>\n",
       "</table>\n",
       "</div>"
      ],
      "text/plain": [
       "              datetime        date ticker      close       high        low  \\\n",
       "0  2012-10-04 00:00:00  2012-10-04    AOS  12.534749  12.584576  12.380935   \n",
       "\n",
       "        open     volume interval  \n",
       "0  12.471923  1102400.0       1d  "
      ]
     },
     "execution_count": 38,
     "metadata": {},
     "output_type": "execute_result"
    },
    {
     "data": {
      "text/html": [
       "<div>\n",
       "<style scoped>\n",
       "    .dataframe tbody tr th:only-of-type {\n",
       "        vertical-align: middle;\n",
       "    }\n",
       "\n",
       "    .dataframe tbody tr th {\n",
       "        vertical-align: top;\n",
       "    }\n",
       "\n",
       "    .dataframe thead th {\n",
       "        text-align: right;\n",
       "    }\n",
       "</style>\n",
       "<table border=\"1\" class=\"dataframe\">\n",
       "  <thead>\n",
       "    <tr style=\"text-align: right;\">\n",
       "      <th></th>\n",
       "      <th>datetime</th>\n",
       "      <th>date</th>\n",
       "      <th>ticker</th>\n",
       "      <th>close</th>\n",
       "      <th>high</th>\n",
       "      <th>low</th>\n",
       "      <th>open</th>\n",
       "      <th>volume</th>\n",
       "      <th>interval</th>\n",
       "    </tr>\n",
       "  </thead>\n",
       "  <tbody>\n",
       "    <tr>\n",
       "      <th>15410</th>\n",
       "      <td>2013-09-10 00:00:00</td>\n",
       "      <td>2013-09-10</td>\n",
       "      <td>AOS</td>\n",
       "      <td>19.429487</td>\n",
       "      <td>19.57341</td>\n",
       "      <td>19.276843</td>\n",
       "      <td>19.425127</td>\n",
       "      <td>905400.0</td>\n",
       "      <td>1d</td>\n",
       "    </tr>\n",
       "  </tbody>\n",
       "</table>\n",
       "</div>"
      ],
      "text/plain": [
       "                  datetime        date ticker      close      high        low  \\\n",
       "15410  2013-09-10 00:00:00  2013-09-10    AOS  19.429487  19.57341  19.276843   \n",
       "\n",
       "            open    volume interval  \n",
       "15410  19.425127  905400.0       1d  "
      ]
     },
     "execution_count": 38,
     "metadata": {},
     "output_type": "execute_result"
    }
   ],
   "source": [
    "data_duplicates , data = output_data(\"tickers_historical_prices_fact\",spark,DL_BUCKET_OUTPUT_PREFIX,['ticker','date','datetime','interval'])\n",
    "data_duplicates.head(10)\n",
    "data.head(1)\n",
    "data.query(\"ticker == 'AOS' and date == '2013-09-10' and datetime == '2013-09-10 00:00:00' and interval == '1d'\")"
   ]
  },
  {
   "cell_type": "code",
   "execution_count": 39,
   "id": "5e011168-1526-4dc6-a2b3-15eb1800dd39",
   "metadata": {},
   "outputs": [
    {
     "name": "stdout",
     "output_type": "stream",
     "text": [
      "\n",
      "table : tickers_holders_fact\n",
      "count : 66 \n",
      "duplicates :  0\n"
     ]
    },
    {
     "data": {
      "text/html": [
       "<div>\n",
       "<style scoped>\n",
       "    .dataframe tbody tr th:only-of-type {\n",
       "        vertical-align: middle;\n",
       "    }\n",
       "\n",
       "    .dataframe tbody tr th {\n",
       "        vertical-align: top;\n",
       "    }\n",
       "\n",
       "    .dataframe thead th {\n",
       "        text-align: right;\n",
       "    }\n",
       "</style>\n",
       "<table border=\"1\" class=\"dataframe\">\n",
       "  <thead>\n",
       "    <tr style=\"text-align: right;\">\n",
       "      <th></th>\n",
       "      <th>ticker</th>\n",
       "      <th>holder</th>\n",
       "      <th>count</th>\n",
       "    </tr>\n",
       "  </thead>\n",
       "  <tbody>\n",
       "  </tbody>\n",
       "</table>\n",
       "</div>"
      ],
      "text/plain": [
       "Empty DataFrame\n",
       "Columns: [ticker, holder, count]\n",
       "Index: []"
      ]
     },
     "execution_count": 39,
     "metadata": {},
     "output_type": "execute_result"
    },
    {
     "data": {
      "text/html": [
       "<div>\n",
       "<style scoped>\n",
       "    .dataframe tbody tr th:only-of-type {\n",
       "        vertical-align: middle;\n",
       "    }\n",
       "\n",
       "    .dataframe tbody tr th {\n",
       "        vertical-align: top;\n",
       "    }\n",
       "\n",
       "    .dataframe thead th {\n",
       "        text-align: right;\n",
       "    }\n",
       "</style>\n",
       "<table border=\"1\" class=\"dataframe\">\n",
       "  <thead>\n",
       "    <tr style=\"text-align: right;\">\n",
       "      <th></th>\n",
       "      <th>ticker</th>\n",
       "      <th>holder</th>\n",
       "      <th>shares</th>\n",
       "      <th>date_reported</th>\n",
       "      <th>out</th>\n",
       "      <th>value</th>\n",
       "    </tr>\n",
       "  </thead>\n",
       "  <tbody>\n",
       "    <tr>\n",
       "      <th>0</th>\n",
       "      <td>AOS</td>\n",
       "      <td>Proshares Tr-Proshares S&amp;P 500 Aristocrats ETF</td>\n",
       "      <td>2662542.00</td>\n",
       "      <td>2022-08-30</td>\n",
       "      <td>0.02</td>\n",
       "      <td>132674472</td>\n",
       "    </tr>\n",
       "  </tbody>\n",
       "</table>\n",
       "</div>"
      ],
      "text/plain": [
       "  ticker                                          holder      shares  \\\n",
       "0    AOS  Proshares Tr-Proshares S&P 500 Aristocrats ETF  2662542.00   \n",
       "\n",
       "  date_reported   out      value  \n",
       "0    2022-08-30  0.02  132674472  "
      ]
     },
     "execution_count": 39,
     "metadata": {},
     "output_type": "execute_result"
    }
   ],
   "source": [
    "data_duplicates , data = output_data(\"tickers_holders_fact\",spark,DL_BUCKET_OUTPUT_PREFIX,['ticker','holder'])\n",
    "data_duplicates.head(10)\n",
    "data.head(1)"
   ]
  },
  {
   "cell_type": "code",
   "execution_count": 55,
   "id": "0bc2005d-33cb-43bb-90d1-fb093d957bfc",
   "metadata": {},
   "outputs": [
    {
     "name": "stdout",
     "output_type": "stream",
     "text": [
      "\n",
      "table : tickers_info_dim\n",
      "count : 2 \n",
      "duplicates :  0\n"
     ]
    },
    {
     "data": {
      "text/html": [
       "<div>\n",
       "<style scoped>\n",
       "    .dataframe tbody tr th:only-of-type {\n",
       "        vertical-align: middle;\n",
       "    }\n",
       "\n",
       "    .dataframe tbody tr th {\n",
       "        vertical-align: top;\n",
       "    }\n",
       "\n",
       "    .dataframe thead th {\n",
       "        text-align: right;\n",
       "    }\n",
       "</style>\n",
       "<table border=\"1\" class=\"dataframe\">\n",
       "  <thead>\n",
       "    <tr style=\"text-align: right;\">\n",
       "      <th></th>\n",
       "      <th>ticker</th>\n",
       "      <th>count</th>\n",
       "    </tr>\n",
       "  </thead>\n",
       "  <tbody>\n",
       "  </tbody>\n",
       "</table>\n",
       "</div>"
      ],
      "text/plain": [
       "Empty DataFrame\n",
       "Columns: [ticker, count]\n",
       "Index: []"
      ]
     },
     "execution_count": 55,
     "metadata": {},
     "output_type": "execute_result"
    },
    {
     "data": {
      "text/plain": [
       "Index(['ticker', 'industry', 'zip', 'currency', 'isin', 'exchange',\n",
       "       'fullTimeEmployees', 'fundFamily', 'fundInceptionDate',\n",
       "       'heldPercentInsiders', 'heldPercentInstitutions', 'isEsgPopulated',\n",
       "       'lastFiscalYearEnd', 'lastSplitDate', 'lastSplitFactor',\n",
       "       'longBusinessSummary', 'longName', 'marketCap', 'mostRecentQuarter',\n",
       "       'nextFiscalYearEnd', 'numberOfAnalystOpinions', 'quoteType',\n",
       "       'shortName', 'startDate', 'uuid',\n",
       "       'percentage_of_shares_held_by_all_insider',\n",
       "       'percentage_of_shares_held_by_institutions',\n",
       "       'percentage_of_float_held_by_institutions',\n",
       "       'number_of_institutions_holding_shares'],\n",
       "      dtype='object')"
      ]
     },
     "execution_count": 55,
     "metadata": {},
     "output_type": "execute_result"
    },
    {
     "data": {
      "text/html": [
       "<div>\n",
       "<style scoped>\n",
       "    .dataframe tbody tr th:only-of-type {\n",
       "        vertical-align: middle;\n",
       "    }\n",
       "\n",
       "    .dataframe tbody tr th {\n",
       "        vertical-align: top;\n",
       "    }\n",
       "\n",
       "    .dataframe thead th {\n",
       "        text-align: right;\n",
       "    }\n",
       "</style>\n",
       "<table border=\"1\" class=\"dataframe\">\n",
       "  <thead>\n",
       "    <tr style=\"text-align: right;\">\n",
       "      <th></th>\n",
       "      <th>ticker</th>\n",
       "      <th>industry</th>\n",
       "      <th>zip</th>\n",
       "      <th>currency</th>\n",
       "      <th>isin</th>\n",
       "      <th>exchange</th>\n",
       "      <th>fullTimeEmployees</th>\n",
       "      <th>fundFamily</th>\n",
       "      <th>fundInceptionDate</th>\n",
       "      <th>heldPercentInsiders</th>\n",
       "      <th>heldPercentInstitutions</th>\n",
       "      <th>isEsgPopulated</th>\n",
       "      <th>lastFiscalYearEnd</th>\n",
       "      <th>lastSplitDate</th>\n",
       "      <th>lastSplitFactor</th>\n",
       "      <th>longBusinessSummary</th>\n",
       "      <th>longName</th>\n",
       "      <th>marketCap</th>\n",
       "      <th>mostRecentQuarter</th>\n",
       "      <th>nextFiscalYearEnd</th>\n",
       "      <th>numberOfAnalystOpinions</th>\n",
       "      <th>quoteType</th>\n",
       "      <th>shortName</th>\n",
       "      <th>startDate</th>\n",
       "      <th>uuid</th>\n",
       "      <th>percentage_of_shares_held_by_all_insider</th>\n",
       "      <th>percentage_of_shares_held_by_institutions</th>\n",
       "      <th>percentage_of_float_held_by_institutions</th>\n",
       "      <th>number_of_institutions_holding_shares</th>\n",
       "    </tr>\n",
       "  </thead>\n",
       "  <tbody>\n",
       "    <tr>\n",
       "      <th>0</th>\n",
       "      <td>MMM</td>\n",
       "      <td>Conglomerates</td>\n",
       "      <td>55144-1000</td>\n",
       "      <td>USD</td>\n",
       "      <td>None</td>\n",
       "      <td>NYQ</td>\n",
       "      <td>95000</td>\n",
       "      <td>None</td>\n",
       "      <td>None</td>\n",
       "      <td>0.00124</td>\n",
       "      <td>0.68571997</td>\n",
       "      <td>false</td>\n",
       "      <td>1640908800</td>\n",
       "      <td>1064880000</td>\n",
       "      <td>2:1</td>\n",
       "      <td>3M Company operates as a diversified technology company worldwide. It operates through four segments: Safety and Industrial; Transportation and Electronics; Health Care; and Consumer. The Safety and Industrial segment offers industrial abrasives and finishing for metalworking applications; autobody repair solutions; closure systems for personal hygiene products, masking, and packaging materials; electrical products and materials for construction and maintenance, power distribution, and electrical original equipment manufacturers; structural adhesives and tapes; respiratory, hearing, eye, and fall protection solutions; and natural and color-coated mineral granules for shingles. The Transportation and Electronics segment provides ceramic solutions; attachment tapes, films, sound, and temperature management for transportation vehicles; premium large format graphic films for advertising and fleet signage; light management films and electronics assembly solutions; packaging and interconnection solutions; and reflective signage for highway, and vehicle safety. The Healthcare segment offers food safety indicator solutions; health care procedure coding and reimbursement software; skin, wound care, and infection prevention products and solutions; dentistry and orthodontia solutions; and filtration and purification systems. The Consumer segment provides consumer bandages, braces, supports and consumer respirators; cleaning products for the home; retail abrasives, paint accessories, car care DIY products, picture hanging, and consumer air quality solutions; and stationery products. It offers its products through e-commerce and traditional wholesalers, retailers, jobbers, distributors, and dealers. The company was founded in 1902 and is based in St. Paul, Minnesota.</td>\n",
       "      <td>3M Company</td>\n",
       "      <td>69004427264</td>\n",
       "      <td>1664496000</td>\n",
       "      <td>1703980800</td>\n",
       "      <td>18</td>\n",
       "      <td>EQUITY</td>\n",
       "      <td>3M Company</td>\n",
       "      <td>None</td>\n",
       "      <td>None</td>\n",
       "      <td>0.12</td>\n",
       "      <td>68.57</td>\n",
       "      <td>68.66</td>\n",
       "      <td>2632</td>\n",
       "    </tr>\n",
       "  </tbody>\n",
       "</table>\n",
       "</div>"
      ],
      "text/plain": [
       "  ticker       industry         zip currency  isin exchange fullTimeEmployees  \\\n",
       "0    MMM  Conglomerates  55144-1000      USD  None      NYQ             95000   \n",
       "\n",
       "  fundFamily fundInceptionDate heldPercentInsiders heldPercentInstitutions  \\\n",
       "0       None              None             0.00124              0.68571997   \n",
       "\n",
       "  isEsgPopulated lastFiscalYearEnd lastSplitDate lastSplitFactor  \\\n",
       "0          false        1640908800    1064880000             2:1   \n",
       "\n",
       "                                                                                                                                                                                                                                                                                                                                                                                                                                                                                                                                                                                                                                                                                                                                                                                                                                                                                                                                                                                                                                                                                                                                                                                                                                                                                                                                                                                                                                                                                                                                                                                                                                                                                                                                                                                                                                        longBusinessSummary  \\\n",
       "0  3M Company operates as a diversified technology company worldwide. It operates through four segments: Safety and Industrial; Transportation and Electronics; Health Care; and Consumer. The Safety and Industrial segment offers industrial abrasives and finishing for metalworking applications; autobody repair solutions; closure systems for personal hygiene products, masking, and packaging materials; electrical products and materials for construction and maintenance, power distribution, and electrical original equipment manufacturers; structural adhesives and tapes; respiratory, hearing, eye, and fall protection solutions; and natural and color-coated mineral granules for shingles. The Transportation and Electronics segment provides ceramic solutions; attachment tapes, films, sound, and temperature management for transportation vehicles; premium large format graphic films for advertising and fleet signage; light management films and electronics assembly solutions; packaging and interconnection solutions; and reflective signage for highway, and vehicle safety. The Healthcare segment offers food safety indicator solutions; health care procedure coding and reimbursement software; skin, wound care, and infection prevention products and solutions; dentistry and orthodontia solutions; and filtration and purification systems. The Consumer segment provides consumer bandages, braces, supports and consumer respirators; cleaning products for the home; retail abrasives, paint accessories, car care DIY products, picture hanging, and consumer air quality solutions; and stationery products. It offers its products through e-commerce and traditional wholesalers, retailers, jobbers, distributors, and dealers. The company was founded in 1902 and is based in St. Paul, Minnesota.   \n",
       "\n",
       "     longName    marketCap mostRecentQuarter nextFiscalYearEnd  \\\n",
       "0  3M Company  69004427264        1664496000        1703980800   \n",
       "\n",
       "  numberOfAnalystOpinions quoteType   shortName startDate  uuid  \\\n",
       "0                      18    EQUITY  3M Company      None  None   \n",
       "\n",
       "  percentage_of_shares_held_by_all_insider  \\\n",
       "0                                     0.12   \n",
       "\n",
       "  percentage_of_shares_held_by_institutions  \\\n",
       "0                                     68.57   \n",
       "\n",
       "  percentage_of_float_held_by_institutions  \\\n",
       "0                                    68.66   \n",
       "\n",
       "   number_of_institutions_holding_shares  \n",
       "0                                   2632  "
      ]
     },
     "execution_count": 55,
     "metadata": {},
     "output_type": "execute_result"
    }
   ],
   "source": [
    "data_duplicates , data = output_data(\"tickers_info_dim\",spark,DL_BUCKET_OUTPUT_PREFIX,['ticker'])\n",
    "data_duplicates.head(10)\n",
    "data.columns\n",
    "data.head(1)"
   ]
  },
  {
   "cell_type": "code",
   "execution_count": 40,
   "id": "1a173bcc-aa53-4cc3-b7e6-0e0186fe0a20",
   "metadata": {},
   "outputs": [
    {
     "name": "stdout",
     "output_type": "stream",
     "text": [
      "\n",
      "table : tickers_options_fact\n",
      "count : 169 \n",
      "duplicates :  0\n"
     ]
    },
    {
     "data": {
      "text/html": [
       "<div>\n",
       "<style scoped>\n",
       "    .dataframe tbody tr th:only-of-type {\n",
       "        vertical-align: middle;\n",
       "    }\n",
       "\n",
       "    .dataframe tbody tr th {\n",
       "        vertical-align: top;\n",
       "    }\n",
       "\n",
       "    .dataframe thead th {\n",
       "        text-align: right;\n",
       "    }\n",
       "</style>\n",
       "<table border=\"1\" class=\"dataframe\">\n",
       "  <thead>\n",
       "    <tr style=\"text-align: right;\">\n",
       "      <th></th>\n",
       "      <th>contract_symbol</th>\n",
       "      <th>count</th>\n",
       "    </tr>\n",
       "  </thead>\n",
       "  <tbody>\n",
       "  </tbody>\n",
       "</table>\n",
       "</div>"
      ],
      "text/plain": [
       "Empty DataFrame\n",
       "Columns: [contract_symbol, count]\n",
       "Index: []"
      ]
     },
     "execution_count": 40,
     "metadata": {},
     "output_type": "execute_result"
    },
    {
     "data": {
      "text/html": [
       "<div>\n",
       "<style scoped>\n",
       "    .dataframe tbody tr th:only-of-type {\n",
       "        vertical-align: middle;\n",
       "    }\n",
       "\n",
       "    .dataframe tbody tr th {\n",
       "        vertical-align: top;\n",
       "    }\n",
       "\n",
       "    .dataframe thead th {\n",
       "        text-align: right;\n",
       "    }\n",
       "</style>\n",
       "<table border=\"1\" class=\"dataframe\">\n",
       "  <thead>\n",
       "    <tr style=\"text-align: right;\">\n",
       "      <th></th>\n",
       "      <th>contract_symbol</th>\n",
       "      <th>last_trade_date</th>\n",
       "      <th>strike</th>\n",
       "      <th>last_price</th>\n",
       "      <th>bid</th>\n",
       "      <th>ask</th>\n",
       "      <th>change</th>\n",
       "      <th>percent_change</th>\n",
       "      <th>volume</th>\n",
       "      <th>open_interest</th>\n",
       "      <th>implied_volatility</th>\n",
       "      <th>in_the_money</th>\n",
       "      <th>contract_size</th>\n",
       "      <th>currency</th>\n",
       "      <th>option_type</th>\n",
       "      <th>ticker</th>\n",
       "    </tr>\n",
       "  </thead>\n",
       "  <tbody>\n",
       "    <tr>\n",
       "      <th>0</th>\n",
       "      <td>MMM220930P00101000</td>\n",
       "      <td>2022-09-22 13:55:55+00:00</td>\n",
       "      <td>101.0</td>\n",
       "      <td>0.09</td>\n",
       "      <td>0.06</td>\n",
       "      <td>0.36</td>\n",
       "      <td>0.09</td>\n",
       "      <td>NaN</td>\n",
       "      <td>NaN</td>\n",
       "      <td>1</td>\n",
       "      <td>0.569340244140625</td>\n",
       "      <td>false</td>\n",
       "      <td>REGULAR</td>\n",
       "      <td>USD</td>\n",
       "      <td>put</td>\n",
       "      <td>MMM</td>\n",
       "    </tr>\n",
       "  </tbody>\n",
       "</table>\n",
       "</div>"
      ],
      "text/plain": [
       "      contract_symbol            last_trade_date strike last_price   bid  \\\n",
       "0  MMM220930P00101000  2022-09-22 13:55:55+00:00  101.0       0.09  0.06   \n",
       "\n",
       "    ask change percent_change volume open_interest implied_volatility  \\\n",
       "0  0.36   0.09            NaN    NaN             1  0.569340244140625   \n",
       "\n",
       "  in_the_money contract_size currency option_type ticker  \n",
       "0        false       REGULAR      USD         put    MMM  "
      ]
     },
     "execution_count": 40,
     "metadata": {},
     "output_type": "execute_result"
    }
   ],
   "source": [
    "data_duplicates , data = output_data(\"tickers_options_fact\",spark,DL_BUCKET_OUTPUT_PREFIX,['contract_symbol'])\n",
    "data_duplicates.head(10)\n",
    "data.head(1)"
   ]
  },
  {
   "cell_type": "code",
   "execution_count": 42,
   "id": "c848f431-6170-4c1c-b8c1-86e25abc10ba",
   "metadata": {},
   "outputs": [
    {
     "name": "stdout",
     "output_type": "stream",
     "text": [
      "\n",
      "table : tickers_recommendations_fact\n",
      "count : 314 \n",
      "duplicates :  0\n"
     ]
    },
    {
     "data": {
      "text/html": [
       "<div>\n",
       "<style scoped>\n",
       "    .dataframe tbody tr th:only-of-type {\n",
       "        vertical-align: middle;\n",
       "    }\n",
       "\n",
       "    .dataframe tbody tr th {\n",
       "        vertical-align: top;\n",
       "    }\n",
       "\n",
       "    .dataframe thead th {\n",
       "        text-align: right;\n",
       "    }\n",
       "</style>\n",
       "<table border=\"1\" class=\"dataframe\">\n",
       "  <thead>\n",
       "    <tr style=\"text-align: right;\">\n",
       "      <th></th>\n",
       "      <th>ticker</th>\n",
       "      <th>firm</th>\n",
       "      <th>date</th>\n",
       "      <th>count</th>\n",
       "    </tr>\n",
       "  </thead>\n",
       "  <tbody>\n",
       "  </tbody>\n",
       "</table>\n",
       "</div>"
      ],
      "text/plain": [
       "Empty DataFrame\n",
       "Columns: [ticker, firm, date, count]\n",
       "Index: []"
      ]
     },
     "execution_count": 42,
     "metadata": {},
     "output_type": "execute_result"
    },
    {
     "data": {
      "text/html": [
       "<div>\n",
       "<style scoped>\n",
       "    .dataframe tbody tr th:only-of-type {\n",
       "        vertical-align: middle;\n",
       "    }\n",
       "\n",
       "    .dataframe tbody tr th {\n",
       "        vertical-align: top;\n",
       "    }\n",
       "\n",
       "    .dataframe thead th {\n",
       "        text-align: right;\n",
       "    }\n",
       "</style>\n",
       "<table border=\"1\" class=\"dataframe\">\n",
       "  <thead>\n",
       "    <tr style=\"text-align: right;\">\n",
       "      <th></th>\n",
       "      <th>firm</th>\n",
       "      <th>ticker</th>\n",
       "      <th>date</th>\n",
       "      <th>from_grade</th>\n",
       "      <th>to_grade</th>\n",
       "      <th>action</th>\n",
       "    </tr>\n",
       "  </thead>\n",
       "  <tbody>\n",
       "    <tr>\n",
       "      <th>0</th>\n",
       "      <td>BMO Capital</td>\n",
       "      <td>AOS</td>\n",
       "      <td>2012-06-21</td>\n",
       "      <td></td>\n",
       "      <td>Market Perform</td>\n",
       "      <td>init</td>\n",
       "    </tr>\n",
       "  </tbody>\n",
       "</table>\n",
       "</div>"
      ],
      "text/plain": [
       "          firm ticker        date from_grade        to_grade action\n",
       "0  BMO Capital    AOS  2012-06-21             Market Perform   init"
      ]
     },
     "execution_count": 42,
     "metadata": {},
     "output_type": "execute_result"
    }
   ],
   "source": [
    "data_duplicates , data = output_data(\"tickers_recommendations_fact\",spark,DL_BUCKET_OUTPUT_PREFIX,['ticker','firm','date'])\n",
    "data_duplicates.head(10)\n",
    "data.head(1)"
   ]
  },
  {
   "cell_type": "code",
   "execution_count": 52,
   "id": "5ce3e5d4-fe3f-46ac-b30d-c235bdcc9b5b",
   "metadata": {},
   "outputs": [
    {
     "name": "stdout",
     "output_type": "stream",
     "text": [
      "\n",
      "table : exchanges_dim\n",
      "count : 71 \n",
      "duplicates :  0\n"
     ]
    },
    {
     "data": {
      "text/html": [
       "<div>\n",
       "<style scoped>\n",
       "    .dataframe tbody tr th:only-of-type {\n",
       "        vertical-align: middle;\n",
       "    }\n",
       "\n",
       "    .dataframe tbody tr th {\n",
       "        vertical-align: top;\n",
       "    }\n",
       "\n",
       "    .dataframe thead th {\n",
       "        text-align: right;\n",
       "    }\n",
       "</style>\n",
       "<table border=\"1\" class=\"dataframe\">\n",
       "  <thead>\n",
       "    <tr style=\"text-align: right;\">\n",
       "      <th></th>\n",
       "      <th>exchange</th>\n",
       "      <th>count</th>\n",
       "    </tr>\n",
       "  </thead>\n",
       "  <tbody>\n",
       "  </tbody>\n",
       "</table>\n",
       "</div>"
      ],
      "text/plain": [
       "Empty DataFrame\n",
       "Columns: [exchange, count]\n",
       "Index: []"
      ]
     },
     "execution_count": 52,
     "metadata": {},
     "output_type": "execute_result"
    },
    {
     "data": {
      "text/html": [
       "<div>\n",
       "<style scoped>\n",
       "    .dataframe tbody tr th:only-of-type {\n",
       "        vertical-align: middle;\n",
       "    }\n",
       "\n",
       "    .dataframe tbody tr th {\n",
       "        vertical-align: top;\n",
       "    }\n",
       "\n",
       "    .dataframe thead th {\n",
       "        text-align: right;\n",
       "    }\n",
       "</style>\n",
       "<table border=\"1\" class=\"dataframe\">\n",
       "  <thead>\n",
       "    <tr style=\"text-align: right;\">\n",
       "      <th></th>\n",
       "      <th>exchange</th>\n",
       "      <th>market</th>\n",
       "    </tr>\n",
       "  </thead>\n",
       "  <tbody>\n",
       "    <tr>\n",
       "      <th>0</th>\n",
       "      <td>JPX</td>\n",
       "      <td>jp_market</td>\n",
       "    </tr>\n",
       "  </tbody>\n",
       "</table>\n",
       "</div>"
      ],
      "text/plain": [
       "  exchange     market\n",
       "0      JPX  jp_market"
      ]
     },
     "execution_count": 52,
     "metadata": {},
     "output_type": "execute_result"
    },
    {
     "data": {
      "text/html": [
       "<div>\n",
       "<style scoped>\n",
       "    .dataframe tbody tr th:only-of-type {\n",
       "        vertical-align: middle;\n",
       "    }\n",
       "\n",
       "    .dataframe tbody tr th {\n",
       "        vertical-align: top;\n",
       "    }\n",
       "\n",
       "    .dataframe thead th {\n",
       "        text-align: right;\n",
       "    }\n",
       "</style>\n",
       "<table border=\"1\" class=\"dataframe\">\n",
       "  <thead>\n",
       "    <tr style=\"text-align: right;\">\n",
       "      <th></th>\n",
       "      <th>exchange</th>\n",
       "      <th>market</th>\n",
       "    </tr>\n",
       "  </thead>\n",
       "  <tbody>\n",
       "    <tr>\n",
       "      <th>0</th>\n",
       "      <td>JPX</td>\n",
       "      <td>jp_market</td>\n",
       "    </tr>\n",
       "    <tr>\n",
       "      <th>1</th>\n",
       "      <td>SAP</td>\n",
       "      <td>jp_market</td>\n",
       "    </tr>\n",
       "    <tr>\n",
       "      <th>49</th>\n",
       "      <td>FKA</td>\n",
       "      <td>jp_market</td>\n",
       "    </tr>\n",
       "  </tbody>\n",
       "</table>\n",
       "</div>"
      ],
      "text/plain": [
       "   exchange     market\n",
       "0       JPX  jp_market\n",
       "1       SAP  jp_market\n",
       "49      FKA  jp_market"
      ]
     },
     "execution_count": 52,
     "metadata": {},
     "output_type": "execute_result"
    }
   ],
   "source": [
    "data_duplicates , data = output_data(\"exchanges_dim\",spark,DL_BUCKET_OUTPUT_PREFIX,['exchange'])\n",
    "data_duplicates.head(10)\n",
    "data.head(1)\n",
    "data.query(\"market == 'jp_market'\")"
   ]
  },
  {
   "cell_type": "code",
   "execution_count": 53,
   "id": "2f8f3d53-976e-4fdd-8159-d0df2e8e247d",
   "metadata": {},
   "outputs": [
    {
     "name": "stdout",
     "output_type": "stream",
     "text": [
      "\n",
      "table : markets_dim\n",
      "count : 31 \n",
      "duplicates :  0\n"
     ]
    },
    {
     "data": {
      "text/html": [
       "<div>\n",
       "<style scoped>\n",
       "    .dataframe tbody tr th:only-of-type {\n",
       "        vertical-align: middle;\n",
       "    }\n",
       "\n",
       "    .dataframe tbody tr th {\n",
       "        vertical-align: top;\n",
       "    }\n",
       "\n",
       "    .dataframe thead th {\n",
       "        text-align: right;\n",
       "    }\n",
       "</style>\n",
       "<table border=\"1\" class=\"dataframe\">\n",
       "  <thead>\n",
       "    <tr style=\"text-align: right;\">\n",
       "      <th></th>\n",
       "      <th>market</th>\n",
       "      <th>count</th>\n",
       "    </tr>\n",
       "  </thead>\n",
       "  <tbody>\n",
       "  </tbody>\n",
       "</table>\n",
       "</div>"
      ],
      "text/plain": [
       "Empty DataFrame\n",
       "Columns: [market, count]\n",
       "Index: []"
      ]
     },
     "execution_count": 53,
     "metadata": {},
     "output_type": "execute_result"
    },
    {
     "data": {
      "text/html": [
       "<div>\n",
       "<style scoped>\n",
       "    .dataframe tbody tr th:only-of-type {\n",
       "        vertical-align: middle;\n",
       "    }\n",
       "\n",
       "    .dataframe tbody tr th {\n",
       "        vertical-align: top;\n",
       "    }\n",
       "\n",
       "    .dataframe thead th {\n",
       "        text-align: right;\n",
       "    }\n",
       "</style>\n",
       "<table border=\"1\" class=\"dataframe\">\n",
       "  <thead>\n",
       "    <tr style=\"text-align: right;\">\n",
       "      <th></th>\n",
       "      <th>market</th>\n",
       "      <th>country</th>\n",
       "    </tr>\n",
       "  </thead>\n",
       "  <tbody>\n",
       "    <tr>\n",
       "      <th>0</th>\n",
       "      <td>gb_market</td>\n",
       "      <td>unitedkingdom</td>\n",
       "    </tr>\n",
       "  </tbody>\n",
       "</table>\n",
       "</div>"
      ],
      "text/plain": [
       "      market        country\n",
       "0  gb_market  unitedkingdom"
      ]
     },
     "execution_count": 53,
     "metadata": {},
     "output_type": "execute_result"
    },
    {
     "data": {
      "text/html": [
       "<div>\n",
       "<style scoped>\n",
       "    .dataframe tbody tr th:only-of-type {\n",
       "        vertical-align: middle;\n",
       "    }\n",
       "\n",
       "    .dataframe tbody tr th {\n",
       "        vertical-align: top;\n",
       "    }\n",
       "\n",
       "    .dataframe thead th {\n",
       "        text-align: right;\n",
       "    }\n",
       "</style>\n",
       "<table border=\"1\" class=\"dataframe\">\n",
       "  <thead>\n",
       "    <tr style=\"text-align: right;\">\n",
       "      <th></th>\n",
       "      <th>market</th>\n",
       "      <th>country</th>\n",
       "    </tr>\n",
       "  </thead>\n",
       "  <tbody>\n",
       "    <tr>\n",
       "      <th>24</th>\n",
       "      <td>jp_market</td>\n",
       "      <td>japan</td>\n",
       "    </tr>\n",
       "  </tbody>\n",
       "</table>\n",
       "</div>"
      ],
      "text/plain": [
       "       market country\n",
       "24  jp_market   japan"
      ]
     },
     "execution_count": 53,
     "metadata": {},
     "output_type": "execute_result"
    }
   ],
   "source": [
    "data_duplicates , data = output_data(\"markets_dim\",spark,DL_BUCKET_OUTPUT_PREFIX,['market'])\n",
    "data_duplicates.head(10)\n",
    "data.head(1)\n",
    "data.query(\"market == 'jp_market'\")"
   ]
  },
  {
   "cell_type": "code",
   "execution_count": 54,
   "id": "c7cc6f2c-14fa-4967-b06f-db113a61409a",
   "metadata": {},
   "outputs": [
    {
     "name": "stdout",
     "output_type": "stream",
     "text": [
      "\n",
      "table : market_indexes_dim\n",
      "count : 111 \n",
      "duplicates :  0\n"
     ]
    },
    {
     "data": {
      "text/html": [
       "<div>\n",
       "<style scoped>\n",
       "    .dataframe tbody tr th:only-of-type {\n",
       "        vertical-align: middle;\n",
       "    }\n",
       "\n",
       "    .dataframe tbody tr th {\n",
       "        vertical-align: top;\n",
       "    }\n",
       "\n",
       "    .dataframe thead th {\n",
       "        text-align: right;\n",
       "    }\n",
       "</style>\n",
       "<table border=\"1\" class=\"dataframe\">\n",
       "  <thead>\n",
       "    <tr style=\"text-align: right;\">\n",
       "      <th></th>\n",
       "      <th>index_id</th>\n",
       "      <th>market</th>\n",
       "      <th>count</th>\n",
       "    </tr>\n",
       "  </thead>\n",
       "  <tbody>\n",
       "  </tbody>\n",
       "</table>\n",
       "</div>"
      ],
      "text/plain": [
       "Empty DataFrame\n",
       "Columns: [index_id, market, count]\n",
       "Index: []"
      ]
     },
     "execution_count": 54,
     "metadata": {},
     "output_type": "execute_result"
    },
    {
     "data": {
      "text/html": [
       "<div>\n",
       "<style scoped>\n",
       "    .dataframe tbody tr th:only-of-type {\n",
       "        vertical-align: middle;\n",
       "    }\n",
       "\n",
       "    .dataframe tbody tr th {\n",
       "        vertical-align: top;\n",
       "    }\n",
       "\n",
       "    .dataframe thead th {\n",
       "        text-align: right;\n",
       "    }\n",
       "</style>\n",
       "<table border=\"1\" class=\"dataframe\">\n",
       "  <thead>\n",
       "    <tr style=\"text-align: right;\">\n",
       "      <th></th>\n",
       "      <th>index_id</th>\n",
       "      <th>index_name</th>\n",
       "      <th>market</th>\n",
       "    </tr>\n",
       "  </thead>\n",
       "  <tbody>\n",
       "    <tr>\n",
       "      <th>0</th>\n",
       "      <td>DJ:DJA</td>\n",
       "      <td>Dow Jones Composite Average</td>\n",
       "      <td>us_market</td>\n",
       "    </tr>\n",
       "  </tbody>\n",
       "</table>\n",
       "</div>"
      ],
      "text/plain": [
       "  index_id                   index_name     market\n",
       "0   DJ:DJA  Dow Jones Composite Average  us_market"
      ]
     },
     "execution_count": 54,
     "metadata": {},
     "output_type": "execute_result"
    },
    {
     "data": {
      "text/html": [
       "<div>\n",
       "<style scoped>\n",
       "    .dataframe tbody tr th:only-of-type {\n",
       "        vertical-align: middle;\n",
       "    }\n",
       "\n",
       "    .dataframe tbody tr th {\n",
       "        vertical-align: top;\n",
       "    }\n",
       "\n",
       "    .dataframe thead th {\n",
       "        text-align: right;\n",
       "    }\n",
       "</style>\n",
       "<table border=\"1\" class=\"dataframe\">\n",
       "  <thead>\n",
       "    <tr style=\"text-align: right;\">\n",
       "      <th></th>\n",
       "      <th>index_id</th>\n",
       "      <th>index_name</th>\n",
       "      <th>market</th>\n",
       "    </tr>\n",
       "  </thead>\n",
       "  <tbody>\n",
       "    <tr>\n",
       "      <th>96</th>\n",
       "      <td>TVC:NI225</td>\n",
       "      <td>NIKKEI 225</td>\n",
       "      <td>jp_market</td>\n",
       "    </tr>\n",
       "  </tbody>\n",
       "</table>\n",
       "</div>"
      ],
      "text/plain": [
       "     index_id  index_name     market\n",
       "96  TVC:NI225  NIKKEI 225  jp_market"
      ]
     },
     "execution_count": 54,
     "metadata": {},
     "output_type": "execute_result"
    }
   ],
   "source": [
    "data_duplicates , data = output_data(\"market_indexes_dim\",spark,DL_BUCKET_OUTPUT_PREFIX,['index_id','market'])\n",
    "data_duplicates.head(10)\n",
    "data.head(1)\n",
    "data.query(\"market == 'jp_market'\")"
   ]
  },
  {
   "cell_type": "code",
   "execution_count": 45,
   "id": "3054731d-e9ec-4990-a41b-3e53599f03b1",
   "metadata": {},
   "outputs": [
    {
     "name": "stdout",
     "output_type": "stream",
     "text": [
      "\n",
      "table : tickers_shares_fact\n",
      "count : 8 \n",
      "duplicates :  0\n"
     ]
    },
    {
     "data": {
      "text/html": [
       "<div>\n",
       "<style scoped>\n",
       "    .dataframe tbody tr th:only-of-type {\n",
       "        vertical-align: middle;\n",
       "    }\n",
       "\n",
       "    .dataframe tbody tr th {\n",
       "        vertical-align: top;\n",
       "    }\n",
       "\n",
       "    .dataframe thead th {\n",
       "        text-align: right;\n",
       "    }\n",
       "</style>\n",
       "<table border=\"1\" class=\"dataframe\">\n",
       "  <thead>\n",
       "    <tr style=\"text-align: right;\">\n",
       "      <th></th>\n",
       "      <th>reporting_id</th>\n",
       "      <th>count</th>\n",
       "    </tr>\n",
       "  </thead>\n",
       "  <tbody>\n",
       "  </tbody>\n",
       "</table>\n",
       "</div>"
      ],
      "text/plain": [
       "Empty DataFrame\n",
       "Columns: [reporting_id, count]\n",
       "Index: []"
      ]
     },
     "execution_count": 45,
     "metadata": {},
     "output_type": "execute_result"
    },
    {
     "data": {
      "text/html": [
       "<div>\n",
       "<style scoped>\n",
       "    .dataframe tbody tr th:only-of-type {\n",
       "        vertical-align: middle;\n",
       "    }\n",
       "\n",
       "    .dataframe tbody tr th {\n",
       "        vertical-align: top;\n",
       "    }\n",
       "\n",
       "    .dataframe thead th {\n",
       "        text-align: right;\n",
       "    }\n",
       "</style>\n",
       "<table border=\"1\" class=\"dataframe\">\n",
       "  <thead>\n",
       "    <tr style=\"text-align: right;\">\n",
       "      <th></th>\n",
       "      <th>reporting_id</th>\n",
       "      <th>basic_shares</th>\n",
       "    </tr>\n",
       "  </thead>\n",
       "  <tbody>\n",
       "    <tr>\n",
       "      <th>0</th>\n",
       "      <td>AOS_2018_year</td>\n",
       "      <td>168159148</td>\n",
       "    </tr>\n",
       "  </tbody>\n",
       "</table>\n",
       "</div>"
      ],
      "text/plain": [
       "    reporting_id  basic_shares\n",
       "0  AOS_2018_year     168159148"
      ]
     },
     "execution_count": 45,
     "metadata": {},
     "output_type": "execute_result"
    }
   ],
   "source": [
    "data_duplicates , data = output_data(\"tickers_shares_fact\",spark,DL_BUCKET_OUTPUT_PREFIX,['reporting_id'])\n",
    "data_duplicates.head(10)\n",
    "data.head(1)"
   ]
  },
  {
   "cell_type": "code",
   "execution_count": 47,
   "id": "0ddd1cd8-7b2c-486e-85a9-92981d4b7a48",
   "metadata": {},
   "outputs": [
    {
     "name": "stdout",
     "output_type": "stream",
     "text": [
      "\n",
      "table : tickers_tweets_users_fact\n",
      "count : 3748 \n",
      "duplicates :  0\n"
     ]
    },
    {
     "data": {
      "text/html": [
       "<div>\n",
       "<style scoped>\n",
       "    .dataframe tbody tr th:only-of-type {\n",
       "        vertical-align: middle;\n",
       "    }\n",
       "\n",
       "    .dataframe tbody tr th {\n",
       "        vertical-align: top;\n",
       "    }\n",
       "\n",
       "    .dataframe thead th {\n",
       "        text-align: right;\n",
       "    }\n",
       "</style>\n",
       "<table border=\"1\" class=\"dataframe\">\n",
       "  <thead>\n",
       "    <tr style=\"text-align: right;\">\n",
       "      <th></th>\n",
       "      <th>ticker</th>\n",
       "      <th>user_id</th>\n",
       "      <th>tweet_id</th>\n",
       "      <th>count</th>\n",
       "    </tr>\n",
       "  </thead>\n",
       "  <tbody>\n",
       "  </tbody>\n",
       "</table>\n",
       "</div>"
      ],
      "text/plain": [
       "Empty DataFrame\n",
       "Columns: [ticker, user_id, tweet_id, count]\n",
       "Index: []"
      ]
     },
     "execution_count": 47,
     "metadata": {},
     "output_type": "execute_result"
    },
    {
     "data": {
      "text/html": [
       "<div>\n",
       "<style scoped>\n",
       "    .dataframe tbody tr th:only-of-type {\n",
       "        vertical-align: middle;\n",
       "    }\n",
       "\n",
       "    .dataframe tbody tr th {\n",
       "        vertical-align: top;\n",
       "    }\n",
       "\n",
       "    .dataframe thead th {\n",
       "        text-align: right;\n",
       "    }\n",
       "</style>\n",
       "<table border=\"1\" class=\"dataframe\">\n",
       "  <thead>\n",
       "    <tr style=\"text-align: right;\">\n",
       "      <th></th>\n",
       "      <th>tweet_id</th>\n",
       "      <th>user_id</th>\n",
       "      <th>ticker</th>\n",
       "    </tr>\n",
       "  </thead>\n",
       "  <tbody>\n",
       "    <tr>\n",
       "      <th>0</th>\n",
       "      <td>1571311640322408449</td>\n",
       "      <td>7421502</td>\n",
       "      <td>AOS</td>\n",
       "    </tr>\n",
       "  </tbody>\n",
       "</table>\n",
       "</div>"
      ],
      "text/plain": [
       "              tweet_id  user_id ticker\n",
       "0  1571311640322408449  7421502    AOS"
      ]
     },
     "execution_count": 47,
     "metadata": {},
     "output_type": "execute_result"
    }
   ],
   "source": [
    "data_duplicates , data = output_data(\"tickers_tweets_users_fact\",spark,DL_BUCKET_OUTPUT_PREFIX,['ticker','user_id','tweet_id'])\n",
    "data_duplicates.head(10)\n",
    "data.head(1)"
   ]
  },
  {
   "cell_type": "code",
   "execution_count": 48,
   "id": "33ddd907-127c-4043-90fb-384473223cbd",
   "metadata": {},
   "outputs": [
    {
     "name": "stdout",
     "output_type": "stream",
     "text": [
      "\n",
      "table : tweets_dim\n",
      "count : 3748 \n",
      "duplicates :  0\n"
     ]
    },
    {
     "data": {
      "text/html": [
       "<div>\n",
       "<style scoped>\n",
       "    .dataframe tbody tr th:only-of-type {\n",
       "        vertical-align: middle;\n",
       "    }\n",
       "\n",
       "    .dataframe tbody tr th {\n",
       "        vertical-align: top;\n",
       "    }\n",
       "\n",
       "    .dataframe thead th {\n",
       "        text-align: right;\n",
       "    }\n",
       "</style>\n",
       "<table border=\"1\" class=\"dataframe\">\n",
       "  <thead>\n",
       "    <tr style=\"text-align: right;\">\n",
       "      <th></th>\n",
       "      <th>tweet_id</th>\n",
       "      <th>count</th>\n",
       "    </tr>\n",
       "  </thead>\n",
       "  <tbody>\n",
       "  </tbody>\n",
       "</table>\n",
       "</div>"
      ],
      "text/plain": [
       "Empty DataFrame\n",
       "Columns: [tweet_id, count]\n",
       "Index: []"
      ]
     },
     "execution_count": 48,
     "metadata": {},
     "output_type": "execute_result"
    },
    {
     "data": {
      "text/html": [
       "<div>\n",
       "<style scoped>\n",
       "    .dataframe tbody tr th:only-of-type {\n",
       "        vertical-align: middle;\n",
       "    }\n",
       "\n",
       "    .dataframe tbody tr th {\n",
       "        vertical-align: top;\n",
       "    }\n",
       "\n",
       "    .dataframe thead th {\n",
       "        text-align: right;\n",
       "    }\n",
       "</style>\n",
       "<table border=\"1\" class=\"dataframe\">\n",
       "  <thead>\n",
       "    <tr style=\"text-align: right;\">\n",
       "      <th></th>\n",
       "      <th>tweet_id</th>\n",
       "      <th>created_at</th>\n",
       "      <th>lang</th>\n",
       "      <th>source</th>\n",
       "      <th>source_url</th>\n",
       "      <th>text</th>\n",
       "      <th>in_reply_to_status_id</th>\n",
       "      <th>truncated</th>\n",
       "    </tr>\n",
       "  </thead>\n",
       "  <tbody>\n",
       "    <tr>\n",
       "      <th>0</th>\n",
       "      <td>1570849452449214464</td>\n",
       "      <td>2022-09-16 18:57:49</td>\n",
       "      <td>en</td>\n",
       "      <td>Twitter for iPhone</td>\n",
       "      <td>http://twitter.com/download/iphone</td>\n",
       "      <td>RT @ageofsamnft: PFPs coming to soon to a theatre near you. 👀\\n\\n@BoredApeSolClub you know what's up...\\n\\n#pixelart #SolanaNFTs #AOS https://t…</td>\n",
       "      <td>NaN</td>\n",
       "      <td>False</td>\n",
       "    </tr>\n",
       "  </tbody>\n",
       "</table>\n",
       "</div>"
      ],
      "text/plain": [
       "              tweet_id           created_at lang              source  \\\n",
       "0  1570849452449214464  2022-09-16 18:57:49   en  Twitter for iPhone   \n",
       "\n",
       "                           source_url  \\\n",
       "0  http://twitter.com/download/iphone   \n",
       "\n",
       "                                                                                                                                               text  \\\n",
       "0  RT @ageofsamnft: PFPs coming to soon to a theatre near you. 👀\\n\\n@BoredApeSolClub you know what's up...\\n\\n#pixelart #SolanaNFTs #AOS https://t…   \n",
       "\n",
       "   in_reply_to_status_id  truncated  \n",
       "0                    NaN      False  "
      ]
     },
     "execution_count": 48,
     "metadata": {},
     "output_type": "execute_result"
    }
   ],
   "source": [
    "data_duplicates , data = output_data(\"tweets_dim\",spark,DL_BUCKET_OUTPUT_PREFIX,['tweet_id'])\n",
    "data_duplicates.head(10)\n",
    "data.head(1)"
   ]
  },
  {
   "cell_type": "code",
   "execution_count": 49,
   "id": "565b3963-2e26-4418-87e4-a3d740315e16",
   "metadata": {},
   "outputs": [
    {
     "name": "stdout",
     "output_type": "stream",
     "text": [
      "\n",
      "table : user_id_dim\n",
      "count : 2130 \n",
      "duplicates :  0\n"
     ]
    },
    {
     "data": {
      "text/html": [
       "<div>\n",
       "<style scoped>\n",
       "    .dataframe tbody tr th:only-of-type {\n",
       "        vertical-align: middle;\n",
       "    }\n",
       "\n",
       "    .dataframe tbody tr th {\n",
       "        vertical-align: top;\n",
       "    }\n",
       "\n",
       "    .dataframe thead th {\n",
       "        text-align: right;\n",
       "    }\n",
       "</style>\n",
       "<table border=\"1\" class=\"dataframe\">\n",
       "  <thead>\n",
       "    <tr style=\"text-align: right;\">\n",
       "      <th></th>\n",
       "      <th>user_id</th>\n",
       "      <th>count</th>\n",
       "    </tr>\n",
       "  </thead>\n",
       "  <tbody>\n",
       "  </tbody>\n",
       "</table>\n",
       "</div>"
      ],
      "text/plain": [
       "Empty DataFrame\n",
       "Columns: [user_id, count]\n",
       "Index: []"
      ]
     },
     "execution_count": 49,
     "metadata": {},
     "output_type": "execute_result"
    },
    {
     "data": {
      "text/html": [
       "<div>\n",
       "<style scoped>\n",
       "    .dataframe tbody tr th:only-of-type {\n",
       "        vertical-align: middle;\n",
       "    }\n",
       "\n",
       "    .dataframe tbody tr th {\n",
       "        vertical-align: top;\n",
       "    }\n",
       "\n",
       "    .dataframe thead th {\n",
       "        text-align: right;\n",
       "    }\n",
       "</style>\n",
       "<table border=\"1\" class=\"dataframe\">\n",
       "  <thead>\n",
       "    <tr style=\"text-align: right;\">\n",
       "      <th></th>\n",
       "      <th>user_id</th>\n",
       "      <th>user_created_at</th>\n",
       "      <th>user_description</th>\n",
       "      <th>user_followers_count</th>\n",
       "      <th>friends_count</th>\n",
       "      <th>user_location</th>\n",
       "      <th>user_name</th>\n",
       "      <th>user_verified</th>\n",
       "    </tr>\n",
       "  </thead>\n",
       "  <tbody>\n",
       "    <tr>\n",
       "      <th>0</th>\n",
       "      <td>6658132</td>\n",
       "      <td>2007-06-08</td>\n",
       "      <td>Director of Partnerships @ MRI-Simmons | Past: MIT MBA, TubeMogul, SambaTV, MSFT, UC Berkeley</td>\n",
       "      <td>340</td>\n",
       "      <td>104</td>\n",
       "      <td>New York, NY</td>\n",
       "      <td>Ishan Bhaumik</td>\n",
       "      <td>False</td>\n",
       "    </tr>\n",
       "  </tbody>\n",
       "</table>\n",
       "</div>"
      ],
      "text/plain": [
       "   user_id user_created_at  \\\n",
       "0  6658132      2007-06-08   \n",
       "\n",
       "                                                                                user_description  \\\n",
       "0  Director of Partnerships @ MRI-Simmons | Past: MIT MBA, TubeMogul, SambaTV, MSFT, UC Berkeley   \n",
       "\n",
       "   user_followers_count  friends_count user_location      user_name  \\\n",
       "0                   340            104  New York, NY  Ishan Bhaumik   \n",
       "\n",
       "   user_verified  \n",
       "0          False  "
      ]
     },
     "execution_count": 49,
     "metadata": {},
     "output_type": "execute_result"
    }
   ],
   "source": [
    "data_duplicates , data = output_data(\"user_id_dim\",spark,DL_BUCKET_OUTPUT_PREFIX,['user_id'])\n",
    "data_duplicates.head(10)\n",
    "data.head(1)"
   ]
  },
  {
   "cell_type": "markdown",
   "id": "5148210e-15f0-44e1-b3c5-fec1b4683a40",
   "metadata": {},
   "source": [
    "# __Analysis of ticker MMM__"
   ]
  },
  {
   "cell_type": "markdown",
   "id": "17a7ab4f-c7d0-4148-96f6-1e29fb34da15",
   "metadata": {},
   "source": [
    "## The below analysis is a short data exploration into the ticker MMM. We can see there is an increase in the number of tweets over the last 7 days. We also observe a value increase in the historical price over this period. This trend may also be explained by the financial news that are published during the period. "
   ]
  },
  {
   "cell_type": "markdown",
   "id": "8afa7bd5-6f07-4340-9062-5d4d3ebf1103",
   "metadata": {},
   "source": [
    "### graph of number of tweets per day for one ticker"
   ]
  },
  {
   "cell_type": "code",
   "execution_count": 5,
   "id": "cb6599b4-bb1f-48b7-83d7-3d116915c6a2",
   "metadata": {},
   "outputs": [],
   "source": [
    "ticker = 'MMM'"
   ]
  },
  {
   "cell_type": "code",
   "execution_count": 6,
   "id": "95261f53-d22e-4aeb-8663-0c4060618995",
   "metadata": {},
   "outputs": [],
   "source": [
    "dim_table_name = 'tickers_tweets_users_fact'"
   ]
  },
  {
   "cell_type": "code",
   "execution_count": 7,
   "id": "29931277-d134-4d25-a43d-3deee62537d2",
   "metadata": {},
   "outputs": [],
   "source": [
    "path = os.path.join(DL_BUCKET_OUTPUT_PREFIX,f'{dim_table_name}/{dim_table_name}.parquet').replace('s3','s3a')\n",
    "tickers_tweets_users_fact =spark.read.parquet(os.path.join(path))"
   ]
  },
  {
   "cell_type": "code",
   "execution_count": 8,
   "id": "050c1573-348d-4c2b-88d5-5a26fead0ada",
   "metadata": {},
   "outputs": [],
   "source": [
    "dim_table_name = 'tweets_dim'"
   ]
  },
  {
   "cell_type": "code",
   "execution_count": 9,
   "id": "bc71ae35-3fe7-4d24-8384-e3826c0c007a",
   "metadata": {},
   "outputs": [],
   "source": [
    "path = os.path.join(DL_BUCKET_OUTPUT_PREFIX,f'{dim_table_name}/{dim_table_name}.parquet').replace('s3','s3a')\n",
    "tweets_dim =spark.read.parquet(os.path.join(path))"
   ]
  },
  {
   "cell_type": "code",
   "execution_count": 15,
   "id": "6231a875-a209-401b-9f5c-fc31e73f9188",
   "metadata": {},
   "outputs": [
    {
     "name": "stdout",
     "output_type": "stream",
     "text": [
      "+----------+-----+\n",
      "|      date|count|\n",
      "+----------+-----+\n",
      "|2022-12-25|   16|\n",
      "|2022-12-26|   32|\n",
      "|2022-12-27|   19|\n",
      "|2022-12-28|   18|\n",
      "|2022-12-29|   43|\n",
      "|2022-12-30|   17|\n",
      "|2022-12-31|   34|\n",
      "|2023-01-01|   22|\n",
      "|2023-01-02|   25|\n",
      "|2023-01-03|   27|\n",
      "|2023-01-04|   38|\n",
      "|2023-01-05|   31|\n",
      "|2023-01-06|   18|\n",
      "|2023-01-07|   63|\n",
      "|2023-01-08|   37|\n",
      "+----------+-----+\n",
      "\n"
     ]
    },
    {
     "data": {
      "text/plain": [
       "[<matplotlib.lines.Line2D at 0x7fd9425afa00>]"
      ]
     },
     "execution_count": 15,
     "metadata": {},
     "output_type": "execute_result"
    },
    {
     "data": {
      "text/plain": [
       "([0, 1, 2, 3, 4, 5, 6, 7, 8, 9, 10, 11, 12, 13, 14],\n",
       " [Text(0, 0, '2022-12-25'),\n",
       "  Text(1, 0, '2022-12-26'),\n",
       "  Text(2, 0, '2022-12-27'),\n",
       "  Text(3, 0, '2022-12-28'),\n",
       "  Text(4, 0, '2022-12-29'),\n",
       "  Text(5, 0, '2022-12-30'),\n",
       "  Text(6, 0, '2022-12-31'),\n",
       "  Text(7, 0, '2023-01-01'),\n",
       "  Text(8, 0, '2023-01-02'),\n",
       "  Text(9, 0, '2023-01-03'),\n",
       "  Text(10, 0, '2023-01-04'),\n",
       "  Text(11, 0, '2023-01-05'),\n",
       "  Text(12, 0, '2023-01-06'),\n",
       "  Text(13, 0, '2023-01-07'),\n",
       "  Text(14, 0, '2023-01-08')])"
      ]
     },
     "execution_count": 15,
     "metadata": {},
     "output_type": "execute_result"
    },
    {
     "data": {
      "image/png": "[encoded data removed]",
      "text/plain": [
       "<Figure size 640x480 with 1 Axes>"
      ]
     },
     "metadata": {},
     "output_type": "display_data"
    }
   ],
   "source": [
    "tweets_count = tickers_tweets_users_fact.join(tweets_dim, ['tweet_id']).where(col('ticker') == ticker).\\\n",
    "        withColumn('date',date_format(col('created_at'),\"yyyy-MM-dd\")).\\\n",
    "        groupBy('date').count().orderBy(col('date').asc())\n",
    "tweets_count.show()\n",
    "tweets_count_df = tweets_count.toPandas()\n",
    "plt.plot(tweets_count_df['date'],tweets_count_df['count'])\n",
    "plt.xticks(rotation = 45)"
   ]
  },
  {
   "cell_type": "markdown",
   "id": "c4e26f4f-3a74-4fdc-aa90-2cfadcd4234c",
   "metadata": {},
   "source": [
    "### Information regarding the ticker"
   ]
  },
  {
   "cell_type": "code",
   "execution_count": 16,
   "id": "45614e96-b8ea-4bd5-9864-01056ddef99d",
   "metadata": {},
   "outputs": [],
   "source": [
    "tickers_info_dim_path = os.path.join(DL_BUCKET_OUTPUT_PREFIX,'tickers_info_dim/tickers_info_dim.parquet').replace('s3','s3a')"
   ]
  },
  {
   "cell_type": "code",
   "execution_count": 17,
   "id": "433b1418-e4cc-4e26-a35b-969fcd2d4ccf",
   "metadata": {},
   "outputs": [
    {
     "data": {
      "text/html": [
       "<div>\n",
       "<style scoped>\n",
       "    .dataframe tbody tr th:only-of-type {\n",
       "        vertical-align: middle;\n",
       "    }\n",
       "\n",
       "    .dataframe tbody tr th {\n",
       "        vertical-align: top;\n",
       "    }\n",
       "\n",
       "    .dataframe thead th {\n",
       "        text-align: right;\n",
       "    }\n",
       "</style>\n",
       "<table border=\"1\" class=\"dataframe\">\n",
       "  <thead>\n",
       "    <tr style=\"text-align: right;\">\n",
       "      <th></th>\n",
       "      <th>ticker</th>\n",
       "      <th>industry</th>\n",
       "      <th>zip</th>\n",
       "      <th>currency</th>\n",
       "      <th>isin</th>\n",
       "      <th>exchange</th>\n",
       "      <th>fullTimeEmployees</th>\n",
       "      <th>fundFamily</th>\n",
       "      <th>fundInceptionDate</th>\n",
       "      <th>isEsgPopulated</th>\n",
       "      <th>lastFiscalYearEnd</th>\n",
       "      <th>lastSplitDate</th>\n",
       "      <th>lastSplitFactor</th>\n",
       "      <th>longBusinessSummary</th>\n",
       "      <th>longName</th>\n",
       "      <th>marketCap</th>\n",
       "      <th>mostRecentQuarter</th>\n",
       "      <th>nextFiscalYearEnd</th>\n",
       "      <th>numberOfAnalystOpinions</th>\n",
       "      <th>quoteType</th>\n",
       "      <th>shortName</th>\n",
       "      <th>startDate</th>\n",
       "      <th>uuid</th>\n",
       "      <th>percentage_of_shares_held_by_all_insider</th>\n",
       "      <th>percentage_of_shares_held_by_institutions</th>\n",
       "      <th>percentage_of_float_held_by_institutions</th>\n",
       "      <th>number_of_institutions_holding_shares</th>\n",
       "    </tr>\n",
       "  </thead>\n",
       "  <tbody>\n",
       "    <tr>\n",
       "      <th>0</th>\n",
       "      <td>MMM</td>\n",
       "      <td>Conglomerates</td>\n",
       "      <td>55144-1000</td>\n",
       "      <td>USD</td>\n",
       "      <td>None</td>\n",
       "      <td>NYQ</td>\n",
       "      <td>95000</td>\n",
       "      <td>None</td>\n",
       "      <td>None</td>\n",
       "      <td>false</td>\n",
       "      <td>1640908800</td>\n",
       "      <td>1064880000</td>\n",
       "      <td>2:1</td>\n",
       "      <td>3M Company operates as a diversified technology company worldwide. It operates through four segments: Safety and Industrial; Transportation and Electronics; Health Care; and Consumer. The Safety and Industrial segment offers industrial abrasives and finishing for metalworking applications; autobody repair solutions; closure systems for personal hygiene products, masking, and packaging materials; electrical products and materials for construction and maintenance, power distribution, and electrical original equipment manufacturers; structural adhesives and tapes; respiratory, hearing, eye, and fall protection solutions; and natural and color-coated mineral granules for shingles. The Transportation and Electronics segment provides ceramic solutions; attachment tapes, films, sound, and temperature management for transportation vehicles; premium large format graphic films for advertising and fleet signage; light management films and electronics assembly solutions; packaging and interconnection solutions; and reflective signage for highway, and vehicle safety. The Healthcare segment offers food safety indicator solutions; health care procedure coding and reimbursement software; skin, wound care, and infection prevention products and solutions; dentistry and orthodontia solutions; and filtration and purification systems. The Consumer segment provides consumer bandages, braces, supports and consumer respirators; cleaning products for the home; retail abrasives, paint accessories, car care DIY products, picture hanging, and consumer air quality solutions; and stationery products. It offers its products through e-commerce and traditional wholesalers, retailers, jobbers, distributors, and dealers. The company was founded in 1902 and is based in St. Paul, Minnesota.</td>\n",
       "      <td>3M Company</td>\n",
       "      <td>66284937216</td>\n",
       "      <td>1664496000</td>\n",
       "      <td>1703980800</td>\n",
       "      <td>17</td>\n",
       "      <td>EQUITY</td>\n",
       "      <td>3M Company</td>\n",
       "      <td>None</td>\n",
       "      <td>None</td>\n",
       "      <td>0.12</td>\n",
       "      <td>68.01</td>\n",
       "      <td>68.09</td>\n",
       "      <td>2582</td>\n",
       "    </tr>\n",
       "  </tbody>\n",
       "</table>\n",
       "</div>"
      ],
      "text/plain": [
       "  ticker       industry         zip currency  isin exchange fullTimeEmployees  \\\n",
       "0    MMM  Conglomerates  55144-1000      USD  None      NYQ             95000   \n",
       "\n",
       "  fundFamily fundInceptionDate isEsgPopulated lastFiscalYearEnd lastSplitDate  \\\n",
       "0       None              None          false        1640908800    1064880000   \n",
       "\n",
       "  lastSplitFactor  \\\n",
       "0             2:1   \n",
       "\n",
       "                                                                                                                                                                                                                                                                                                                                                                                                                                                                                                                                                                                                                                                                                                                                                                                                                                                                                                                                                                                                                                                                                                                                                                                                                                                                                                                                                                                                                                                                                                                                                                                                                                                                                                                                                                                                                                        longBusinessSummary  \\\n",
       "0  3M Company operates as a diversified technology company worldwide. It operates through four segments: Safety and Industrial; Transportation and Electronics; Health Care; and Consumer. The Safety and Industrial segment offers industrial abrasives and finishing for metalworking applications; autobody repair solutions; closure systems for personal hygiene products, masking, and packaging materials; electrical products and materials for construction and maintenance, power distribution, and electrical original equipment manufacturers; structural adhesives and tapes; respiratory, hearing, eye, and fall protection solutions; and natural and color-coated mineral granules for shingles. The Transportation and Electronics segment provides ceramic solutions; attachment tapes, films, sound, and temperature management for transportation vehicles; premium large format graphic films for advertising and fleet signage; light management films and electronics assembly solutions; packaging and interconnection solutions; and reflective signage for highway, and vehicle safety. The Healthcare segment offers food safety indicator solutions; health care procedure coding and reimbursement software; skin, wound care, and infection prevention products and solutions; dentistry and orthodontia solutions; and filtration and purification systems. The Consumer segment provides consumer bandages, braces, supports and consumer respirators; cleaning products for the home; retail abrasives, paint accessories, car care DIY products, picture hanging, and consumer air quality solutions; and stationery products. It offers its products through e-commerce and traditional wholesalers, retailers, jobbers, distributors, and dealers. The company was founded in 1902 and is based in St. Paul, Minnesota.   \n",
       "\n",
       "     longName    marketCap mostRecentQuarter nextFiscalYearEnd  \\\n",
       "0  3M Company  66284937216        1664496000        1703980800   \n",
       "\n",
       "  numberOfAnalystOpinions quoteType   shortName startDate  uuid  \\\n",
       "0                      17    EQUITY  3M Company      None  None   \n",
       "\n",
       "  percentage_of_shares_held_by_all_insider  \\\n",
       "0                                     0.12   \n",
       "\n",
       "  percentage_of_shares_held_by_institutions  \\\n",
       "0                                     68.01   \n",
       "\n",
       "  percentage_of_float_held_by_institutions  \\\n",
       "0                                    68.09   \n",
       "\n",
       "   number_of_institutions_holding_shares  \n",
       "0                                   2582  "
      ]
     },
     "execution_count": 17,
     "metadata": {},
     "output_type": "execute_result"
    }
   ],
   "source": [
    "tickers_info_dim=spark.read.parquet(tickers_info_dim_path)\n",
    "ticker_info = tickers_info_dim.where(col('ticker') == ticker)\n",
    "ticker_info.distinct().toPandas()"
   ]
  },
  {
   "cell_type": "markdown",
   "id": "8970d3a4-f691-40ec-9909-6737d51e4695",
   "metadata": {},
   "source": [
    "### daily historical prices of the ticker"
   ]
  },
  {
   "cell_type": "code",
   "execution_count": 21,
   "id": "55b899de-4aa7-4fa1-8eab-d4d2314d7839",
   "metadata": {},
   "outputs": [],
   "source": [
    "tickers_historical_prices_fact_path =  os.path.join(DL_BUCKET_OUTPUT_PREFIX,'tickers_historical_prices_fact/tickers_historical_prices_fact.parquet').replace('s3','s3a')"
   ]
  },
  {
   "cell_type": "code",
   "execution_count": 29,
   "id": "b0afa8b4-ae5e-4d69-a546-06492052fba5",
   "metadata": {},
   "outputs": [],
   "source": [
    "tickers_historical_prices_fact = spark.read.parquet(tickers_historical_prices_fact_path)\n",
    "ticker_historical_prices_1d = tickers_historical_prices_fact.where((col('ticker') == ticker) & (col('interval') == '1d'))\n",
    "ticker_historical_prices_1d = ticker_historical_prices_1d.toPandas().sort_values(by= 'date', ascending = False)[:10]"
   ]
  },
  {
   "cell_type": "code",
   "execution_count": 36,
   "id": "c420ba34-9791-47c8-97ae-a9633a72e5b5",
   "metadata": {},
   "outputs": [],
   "source": [
    "ticker_historical_prices_1d = ticker_historical_prices_1d.query(\"ticker == 'MMM'\").sort_values(by = ['date'],ascending = True)"
   ]
  },
  {
   "cell_type": "code",
   "execution_count": 39,
   "id": "945c23b9-929d-41f0-a8ed-767f85778e2a",
   "metadata": {},
   "outputs": [
    {
     "data": {
      "text/plain": [
       "[<matplotlib.lines.Line2D at 0x7fd940c09480>]"
      ]
     },
     "execution_count": 39,
     "metadata": {},
     "output_type": "execute_result"
    },
    {
     "data": {
      "text/plain": [
       "([0, 1, 2, 3, 4, 5, 6, 7, 8, 9],\n",
       " [Text(0, 0, '2022-12-22'),\n",
       "  Text(1, 0, '2022-12-23'),\n",
       "  Text(2, 0, '2022-12-27'),\n",
       "  Text(3, 0, '2022-12-28'),\n",
       "  Text(4, 0, '2022-12-29'),\n",
       "  Text(5, 0, '2022-12-30'),\n",
       "  Text(6, 0, '2023-01-03'),\n",
       "  Text(7, 0, '2023-01-04'),\n",
       "  Text(8, 0, '2023-01-05'),\n",
       "  Text(9, 0, '2023-01-06')])"
      ]
     },
     "execution_count": 39,
     "metadata": {},
     "output_type": "execute_result"
    },
    {
     "data": {
      "image/png": "[encoded data removed]",
      "text/plain": [
       "<Figure size 640x480 with 1 Axes>"
      ]
     },
     "metadata": {},
     "output_type": "display_data"
    }
   ],
   "source": [
    "plt.plot(ticker_historical_prices_1d['date'],ticker_historical_prices_1d['low'])\n",
    "plt.xticks(rotation=45)"
   ]
  },
  {
   "cell_type": "markdown",
   "id": "686cf41d-947e-4561-9fe3-0b8c183726b3",
   "metadata": {},
   "source": [
    "### hourly historical prices of the ticker"
   ]
  },
  {
   "cell_type": "code",
   "execution_count": 40,
   "id": "79e0723c-4b3c-498e-ad4b-c99698d58173",
   "metadata": {},
   "outputs": [],
   "source": [
    "tickers_historical_prices_fact = spark.read.parquet(tickers_historical_prices_fact_path)\n",
    "ticker_historical_prices_1h = tickers_historical_prices_fact.where((col('ticker') == ticker) & (col('interval') == '1h'))\n",
    "ticker_historical_prices_1h = ticker_historical_prices_1h.toPandas().sort_values(by= ['date','datetime'], ascending = [True,True])"
   ]
  },
  {
   "cell_type": "code",
   "execution_count": 46,
   "id": "4caacbbf-7a62-49d7-9033-31cf9a304331",
   "metadata": {},
   "outputs": [],
   "source": [
    "ticker_historical_prices_1h = ticker_historical_prices_1h.query(\"date >= '2022-12-25'\")"
   ]
  },
  {
   "cell_type": "code",
   "execution_count": 51,
   "id": "1d6bdc8d-9a1a-4434-885c-a431bae76c45",
   "metadata": {},
   "outputs": [
    {
     "data": {
      "text/plain": [
       "<AxesSubplot: xlabel='datetime'>"
      ]
     },
     "execution_count": 51,
     "metadata": {},
     "output_type": "execute_result"
    },
    {
     "data": {
      "text/plain": [
       "(array([-20.,   0.,  20.,  40.,  60.,  80., 100., 120., 140.]),\n",
       " [Text(-20.0, 0, '2023-01-05 17:00:00'),\n",
       "  Text(0.0, 0, '2022-12-27 04:00:00'),\n",
       "  Text(20.0, 0, '2022-12-28 08:00:00'),\n",
       "  Text(40.0, 0, '2022-12-29 11:30:00'),\n",
       "  Text(60.0, 0, '2022-12-30 15:30:00'),\n",
       "  Text(80.0, 0, '2023-01-03 18:00:00'),\n",
       "  Text(100.0, 0, '2023-01-05 05:00:00'),\n",
       "  Text(120.0, 0, '2023-01-06 08:00:00'),\n",
       "  Text(140.0, 0, '')])"
      ]
     },
     "execution_count": 51,
     "metadata": {},
     "output_type": "execute_result"
    },
    {
     "data": {
      "image/png": "[encoded data removed]",
      "text/plain": [
       "<Figure size 640x480 with 1 Axes>"
      ]
     },
     "metadata": {},
     "output_type": "display_data"
    }
   ],
   "source": [
    "ticker_historical_prices_1h.plot.line(x='datetime', y='low') \n",
    "plt.xticks(rotation=45)"
   ]
  },
  {
   "cell_type": "markdown",
   "id": "cdc794f8-8f6c-43b6-9f65-14ac2c727007",
   "metadata": {},
   "source": [
    "### historical prices per minute of the ticker"
   ]
  },
  {
   "cell_type": "code",
   "execution_count": 52,
   "id": "d915049c-f2e2-476d-87e6-1917aeecf600",
   "metadata": {},
   "outputs": [],
   "source": [
    "tickers_historical_prices_fact = spark.read.parquet(tickers_historical_prices_fact_path)\n",
    "ticker_historical_prices_1m = tickers_historical_prices_fact.where((col('ticker') == ticker) & (col('interval') == '1m'))\n",
    "ticker_historical_prices_1m = ticker_historical_prices_1m.toPandas().sort_values(by= 'datetime', ascending = True)"
   ]
  },
  {
   "cell_type": "code",
   "execution_count": 53,
   "id": "46067eca-0421-4198-b193-f7dee76bf5f8",
   "metadata": {},
   "outputs": [],
   "source": [
    "ticker_historical_prices_1m = ticker_historical_prices_1m.query(\"date >= '2022-12-25'\")"
   ]
  },
  {
   "cell_type": "code",
   "execution_count": 55,
   "id": "72f69f7f-969f-4c16-8643-468882c5e006",
   "metadata": {},
   "outputs": [
    {
     "data": {
      "text/plain": [
       "<AxesSubplot: xlabel='datetime'>"
      ]
     },
     "execution_count": 55,
     "metadata": {},
     "output_type": "execute_result"
    },
    {
     "data": {
      "text/plain": [
       "(array([-500.,    0.,  500., 1000., 1500., 2000., 2500., 3000., 3500.,\n",
       "        4000., 4500.]),\n",
       " [Text(-500.0, 0, '2023-01-05 17:21:00'),\n",
       "  Text(0.0, 0, '2022-12-27 04:00:00'),\n",
       "  Text(500.0, 0, '2022-12-28 06:08:00'),\n",
       "  Text(1000.0, 0, '2022-12-29 08:17:00'),\n",
       "  Text(1500.0, 0, '2022-12-30 09:40:00'),\n",
       "  Text(2000.0, 0, '2023-01-03 09:07:00'),\n",
       "  Text(2500.0, 0, '2023-01-04 09:49:00'),\n",
       "  Text(3000.0, 0, '2023-01-05 10:13:00'),\n",
       "  Text(3500.0, 0, '2023-01-06 10:32:00'),\n",
       "  Text(4000.0, 0, ''),\n",
       "  Text(4500.0, 0, '')])"
      ]
     },
     "execution_count": 55,
     "metadata": {},
     "output_type": "execute_result"
    },
    {
     "data": {
      "image/png": "[encoded data removed]",
      "text/plain": [
       "<Figure size 640x480 with 1 Axes>"
      ]
     },
     "metadata": {},
     "output_type": "display_data"
    }
   ],
   "source": [
    "ticker_historical_prices_1m.plot.line(x='datetime', y='low') \n",
    "plt.xticks(rotation=45)"
   ]
  },
  {
   "cell_type": "markdown",
   "id": "d68d122c-c4d4-41f7-be84-773389fec7ca",
   "metadata": {},
   "source": [
    "### News regarding the ticker"
   ]
  },
  {
   "cell_type": "code",
   "execution_count": 58,
   "id": "863265c0-1b7d-4f64-8694-c7e4c535aa72",
   "metadata": {},
   "outputs": [],
   "source": [
    "ticker_news_fact_path =  os.path.join(DL_BUCKET_OUTPUT_PREFIX,'tickers_news_fact/tickers_news_fact.parquet').replace('s3','s3a')"
   ]
  },
  {
   "cell_type": "code",
   "execution_count": 59,
   "id": "2bc96f92-6f24-4d08-88db-0b691f22280a",
   "metadata": {},
   "outputs": [
    {
     "data": {
      "text/plain": [
       "27"
      ]
     },
     "execution_count": 59,
     "metadata": {},
     "output_type": "execute_result"
    },
    {
     "name": "stdout",
     "output_type": "stream",
     "text": [
      "+--------------------+------+\n",
      "|                uuid|ticker|\n",
      "+--------------------+------+\n",
      "|c28a557a-9379-3f3...|   MMM|\n",
      "|7dce208d-5ede-3bc...|   MMM|\n",
      "+--------------------+------+\n",
      "only showing top 2 rows\n",
      "\n"
     ]
    }
   ],
   "source": [
    "ticker_news_fact = spark.read.parquet(ticker_news_fact_path)\n",
    "ticker_news_fact.count()\n",
    "ticker_news_fact.show(2)"
   ]
  },
  {
   "cell_type": "code",
   "execution_count": 60,
   "id": "625516c3-6d95-41ce-843a-12a80cbabf29",
   "metadata": {},
   "outputs": [],
   "source": [
    "news_dim_path =  os.path.join(DL_BUCKET_OUTPUT_PREFIX,'news_dim/news_dim.parquet').replace('s3','s3a')"
   ]
  },
  {
   "cell_type": "code",
   "execution_count": 61,
   "id": "8436b741-224f-4a5c-a20e-c9d40953cdb6",
   "metadata": {},
   "outputs": [
    {
     "data": {
      "text/plain": [
       "27"
      ]
     },
     "execution_count": 61,
     "metadata": {},
     "output_type": "execute_result"
    },
    {
     "name": "stdout",
     "output_type": "stream",
     "text": [
      "+--------------------+--------------------+-----------+--------------------+---------------------+-----+\n",
      "|                uuid|               title|  publisher|                link|provider_publish_time| type|\n",
      "+--------------------+--------------------+-----------+--------------------+---------------------+-----+\n",
      "|f45dfb94-5cec-3fd...|3M's Litigation C...|   Benzinga|https://finance.y...|           1672161157|STORY|\n",
      "|9d44e6b3-9c5e-366...|Down Between 29% ...|Motley Fool|https://finance.y...|           1669042380|STORY|\n",
      "+--------------------+--------------------+-----------+--------------------+---------------------+-----+\n",
      "only showing top 2 rows\n",
      "\n"
     ]
    }
   ],
   "source": [
    "news_dim = spark.read.parquet(news_dim_path)\n",
    "news_dim.count()\n",
    "news_dim.show(2)"
   ]
  },
  {
   "cell_type": "code",
   "execution_count": 64,
   "id": "43c2f3c3-6533-47a3-9072-ecdca5b94688",
   "metadata": {},
   "outputs": [],
   "source": [
    "news = ticker_news_fact.join(news_dim, ['uuid']).where(col('ticker') == ticker).toPandas()"
   ]
  },
  {
   "cell_type": "code",
   "execution_count": 73,
   "id": "58a59fa2-3f52-4c3a-bd91-fdbb57b78aae",
   "metadata": {},
   "outputs": [],
   "source": [
    "news['provider_publish_time'] = news['provider_publish_time'].astype('int64')"
   ]
  },
  {
   "cell_type": "code",
   "execution_count": 66,
   "id": "8e050108-d043-462f-bb2a-e5e79cbdcb6e",
   "metadata": {},
   "outputs": [],
   "source": [
    "from datetime import datetime"
   ]
  },
  {
   "cell_type": "code",
   "execution_count": 74,
   "id": "b67609c1-90f3-4886-acf7-b7b8afb6ac50",
   "metadata": {},
   "outputs": [],
   "source": [
    "news['provider_publish_time'] = news.apply(lambda x : datetime.fromtimestamp(x['provider_publish_time']), axis = 1)"
   ]
  },
  {
   "cell_type": "code",
   "execution_count": 76,
   "id": "327d0a05-8ef0-4f17-a21f-8f86bdbd4270",
   "metadata": {},
   "outputs": [
    {
     "data": {
      "text/html": [
       "<div>\n",
       "<style scoped>\n",
       "    .dataframe tbody tr th:only-of-type {\n",
       "        vertical-align: middle;\n",
       "    }\n",
       "\n",
       "    .dataframe tbody tr th {\n",
       "        vertical-align: top;\n",
       "    }\n",
       "\n",
       "    .dataframe thead th {\n",
       "        text-align: right;\n",
       "    }\n",
       "</style>\n",
       "<table border=\"1\" class=\"dataframe\">\n",
       "  <thead>\n",
       "    <tr style=\"text-align: right;\">\n",
       "      <th></th>\n",
       "      <th>uuid</th>\n",
       "      <th>ticker</th>\n",
       "      <th>title</th>\n",
       "      <th>publisher</th>\n",
       "      <th>link</th>\n",
       "      <th>provider_publish_time</th>\n",
       "      <th>type</th>\n",
       "    </tr>\n",
       "  </thead>\n",
       "  <tbody>\n",
       "    <tr>\n",
       "      <th>4</th>\n",
       "      <td>05aa2b93-d7d5-326b-a1a8-17efd912f407</td>\n",
       "      <td>MMM</td>\n",
       "      <td>These 3 Dow Stocks Are Set to Soar in 2023 and Beyond</td>\n",
       "      <td>Motley Fool</td>\n",
       "      <td>https://finance.yahoo.com/m/05aa2b93-d7d5-326b-a1a8-17efd912f407/these-3-dow-stocks-are-set-to.html</td>\n",
       "      <td>2023-01-07 12:35:00</td>\n",
       "      <td>STORY</td>\n",
       "    </tr>\n",
       "    <tr>\n",
       "      <th>3</th>\n",
       "      <td>3d574464-7913-37ec-9c95-4a1a30894c7f</td>\n",
       "      <td>MMM</td>\n",
       "      <td>3M Innovation on Full Display at CES, the World’s Largest Annual Tech Event</td>\n",
       "      <td>ACCESSWIRE</td>\n",
       "      <td>https://finance.yahoo.com/news/3m-innovation-full-display-ces-141500180.html</td>\n",
       "      <td>2023-01-06 14:15:00</td>\n",
       "      <td>STORY</td>\n",
       "    </tr>\n",
       "    <tr>\n",
       "      <th>7</th>\n",
       "      <td>2929d4ce-9875-3326-914c-bcf1b4e265b3</td>\n",
       "      <td>MMM</td>\n",
       "      <td>Don't Overlook These 3 Powerhouse Stocks in 2023</td>\n",
       "      <td>Motley Fool</td>\n",
       "      <td>https://finance.yahoo.com/m/2929d4ce-9875-3326-914c-bcf1b4e265b3/don%27t-overlook-these-3.html</td>\n",
       "      <td>2023-01-06 13:00:00</td>\n",
       "      <td>STORY</td>\n",
       "    </tr>\n",
       "    <tr>\n",
       "      <th>12</th>\n",
       "      <td>7dce208d-5ede-3bcd-a6b0-17f5784af269</td>\n",
       "      <td>MMM</td>\n",
       "      <td>3M (MMM) Dips More Than Broader Markets: What You Should Know</td>\n",
       "      <td>Zacks</td>\n",
       "      <td>https://finance.yahoo.com/news/3m-mmm-dips-more-broader-225010037.html</td>\n",
       "      <td>2023-01-05 22:50:10</td>\n",
       "      <td>STORY</td>\n",
       "    </tr>\n",
       "    <tr>\n",
       "      <th>2</th>\n",
       "      <td>c208c4a5-fd52-3ef5-b9c1-2500d6f0dac4</td>\n",
       "      <td>MMM</td>\n",
       "      <td>2023 People to Watch: Mike Roman, CEO of 3M</td>\n",
       "      <td>American City Business Journals</td>\n",
       "      <td>https://finance.yahoo.com/m/c208c4a5-fd52-3ef5-b9c1-2500d6f0dac4/2023-people-to-watch%3A-mike.html</td>\n",
       "      <td>2023-01-05 19:37:39</td>\n",
       "      <td>STORY</td>\n",
       "    </tr>\n",
       "    <tr>\n",
       "      <th>6</th>\n",
       "      <td>9ed37f2f-befa-3c74-8e8b-22d01bdc7d1b</td>\n",
       "      <td>MMM</td>\n",
       "      <td>2 Stocks Down 52% and 81% to Buy Right Now</td>\n",
       "      <td>Motley Fool</td>\n",
       "      <td>https://finance.yahoo.com/m/9ed37f2f-befa-3c74-8e8b-22d01bdc7d1b/2-stocks-down-52%25-and-81%25-to.html</td>\n",
       "      <td>2023-01-05 11:28:00</td>\n",
       "      <td>STORY</td>\n",
       "    </tr>\n",
       "    <tr>\n",
       "      <th>11</th>\n",
       "      <td>fa050738-a5d3-3663-9021-f6a62096957c</td>\n",
       "      <td>MMM</td>\n",
       "      <td>Analyst Report: 3M Company</td>\n",
       "      <td>Morningstar Research</td>\n",
       "      <td>https://finance.yahoo.com/m/fa050738-a5d3-3663-9021-f6a62096957c/analyst-report%3A-3m-company.html</td>\n",
       "      <td>2023-01-04 03:34:52</td>\n",
       "      <td>STORY</td>\n",
       "    </tr>\n",
       "    <tr>\n",
       "      <th>9</th>\n",
       "      <td>c5baeb7a-7c38-36ca-930e-11e92606ef23</td>\n",
       "      <td>MMM</td>\n",
       "      <td>3 Top U.S. Stocks to Watch in January</td>\n",
       "      <td>Motley Fool</td>\n",
       "      <td>https://finance.yahoo.com/m/c5baeb7a-7c38-36ca-930e-11e92606ef23/3-top-u.s.-stocks-to-watch-in.html</td>\n",
       "      <td>2023-01-03 15:07:00</td>\n",
       "      <td>STORY</td>\n",
       "    </tr>\n",
       "    <tr>\n",
       "      <th>1</th>\n",
       "      <td>16ef33f8-887c-3512-88e4-6b2c335d5850</td>\n",
       "      <td>MMM</td>\n",
       "      <td>3M Tries to Contain Legal Battles Over ‘Forever Chemicals,’ Earplugs</td>\n",
       "      <td>The Wall Street Journal</td>\n",
       "      <td>https://finance.yahoo.com/m/16ef33f8-887c-3512-88e4-6b2c335d5850/3m-tries-to-contain-legal.html</td>\n",
       "      <td>2023-01-03 14:00:00</td>\n",
       "      <td>STORY</td>\n",
       "    </tr>\n",
       "    <tr>\n",
       "      <th>16</th>\n",
       "      <td>ba738361-ac21-3354-839e-c9c291afd33c</td>\n",
       "      <td>MMM</td>\n",
       "      <td>11 Best Stocks to Buy for Deflation</td>\n",
       "      <td>Insider Monkey</td>\n",
       "      <td>https://finance.yahoo.com/news/11-best-stocks-buy-deflation-190606188.html</td>\n",
       "      <td>2022-12-29 19:06:06</td>\n",
       "      <td>STORY</td>\n",
       "    </tr>\n",
       "    <tr>\n",
       "      <th>5</th>\n",
       "      <td>8e583153-f601-357b-9b2c-c81b663bb6d9</td>\n",
       "      <td>MMM</td>\n",
       "      <td>2 Ultra-High-Yielding Industrial Stocks To Buy With $1,000</td>\n",
       "      <td>Motley Fool</td>\n",
       "      <td>https://finance.yahoo.com/m/8e583153-f601-357b-9b2c-c81b663bb6d9/2-ultra-high-yielding.html</td>\n",
       "      <td>2022-12-29 10:01:00</td>\n",
       "      <td>STORY</td>\n",
       "    </tr>\n",
       "    <tr>\n",
       "      <th>13</th>\n",
       "      <td>85fbaa7d-9a06-36e2-bfaf-0fa6765e86cf</td>\n",
       "      <td>MMM</td>\n",
       "      <td>3M (MMM) Dips More Than Broader Markets: What You Should Know</td>\n",
       "      <td>Zacks</td>\n",
       "      <td>https://finance.yahoo.com/news/3m-mmm-dips-more-broader-225010584.html</td>\n",
       "      <td>2022-12-28 22:50:10</td>\n",
       "      <td>STORY</td>\n",
       "    </tr>\n",
       "    <tr>\n",
       "      <th>10</th>\n",
       "      <td>9a261fc2-20f2-3f35-b9f8-74a638174f02</td>\n",
       "      <td>MMM</td>\n",
       "      <td>Our Predictions for the Top 7 Dividend Stocks for 2023</td>\n",
       "      <td>InvestorPlace</td>\n",
       "      <td>https://finance.yahoo.com/news/predictions-top-7-dividend-stocks-182817738.html</td>\n",
       "      <td>2022-12-28 18:28:17</td>\n",
       "      <td>STORY</td>\n",
       "    </tr>\n",
       "    <tr>\n",
       "      <th>15</th>\n",
       "      <td>3958f218-703d-357e-a8c5-a12b0b4d1e3d</td>\n",
       "      <td>MMM</td>\n",
       "      <td>3M (MMM) Shares Down 7% in 6 Months: What's Hurting It?</td>\n",
       "      <td>Zacks</td>\n",
       "      <td>https://finance.yahoo.com/news/3m-mmm-shares-down-7-142002181.html</td>\n",
       "      <td>2022-12-28 14:20:02</td>\n",
       "      <td>STORY</td>\n",
       "    </tr>\n",
       "    <tr>\n",
       "      <th>8</th>\n",
       "      <td>c28a557a-9379-3f3c-a8cb-157164f5fc0e</td>\n",
       "      <td>MMM</td>\n",
       "      <td>Dow 30 Stocks List: Ranked By 2022 Hedge Fund Bullishness Index</td>\n",
       "      <td>Insider Monkey</td>\n",
       "      <td>https://finance.yahoo.com/news/dow-30-stocks-list-ranked-024049098.html</td>\n",
       "      <td>2022-12-28 02:40:49</td>\n",
       "      <td>STORY</td>\n",
       "    </tr>\n",
       "    <tr>\n",
       "      <th>14</th>\n",
       "      <td>a148028d-f828-36b8-aae5-1e9f92efe118</td>\n",
       "      <td>MMM</td>\n",
       "      <td>12 Dividend Stocks That Are Down Over 30% YTD</td>\n",
       "      <td>Insider Monkey</td>\n",
       "      <td>https://finance.yahoo.com/news/12-dividend-stocks-down-over-200632807.html</td>\n",
       "      <td>2022-12-27 20:06:32</td>\n",
       "      <td>STORY</td>\n",
       "    </tr>\n",
       "    <tr>\n",
       "      <th>0</th>\n",
       "      <td>f45dfb94-5cec-3fda-93eb-073b33b6ba33</td>\n",
       "      <td>MMM</td>\n",
       "      <td>3M's Litigation Concerning Defective Earplug Injuries To US Veterans Mark Another Tough Loss Amid Multiple Lawsuits: Analyst</td>\n",
       "      <td>Benzinga</td>\n",
       "      <td>https://finance.yahoo.com/news/3ms-litigation-concerning-defective-earplug-171237853.html</td>\n",
       "      <td>2022-12-27 17:12:37</td>\n",
       "      <td>STORY</td>\n",
       "    </tr>\n",
       "  </tbody>\n",
       "</table>\n",
       "</div>"
      ],
      "text/plain": [
       "                                    uuid ticker  \\\n",
       "4   05aa2b93-d7d5-326b-a1a8-17efd912f407    MMM   \n",
       "3   3d574464-7913-37ec-9c95-4a1a30894c7f    MMM   \n",
       "7   2929d4ce-9875-3326-914c-bcf1b4e265b3    MMM   \n",
       "12  7dce208d-5ede-3bcd-a6b0-17f5784af269    MMM   \n",
       "2   c208c4a5-fd52-3ef5-b9c1-2500d6f0dac4    MMM   \n",
       "6   9ed37f2f-befa-3c74-8e8b-22d01bdc7d1b    MMM   \n",
       "11  fa050738-a5d3-3663-9021-f6a62096957c    MMM   \n",
       "9   c5baeb7a-7c38-36ca-930e-11e92606ef23    MMM   \n",
       "1   16ef33f8-887c-3512-88e4-6b2c335d5850    MMM   \n",
       "16  ba738361-ac21-3354-839e-c9c291afd33c    MMM   \n",
       "5   8e583153-f601-357b-9b2c-c81b663bb6d9    MMM   \n",
       "13  85fbaa7d-9a06-36e2-bfaf-0fa6765e86cf    MMM   \n",
       "10  9a261fc2-20f2-3f35-b9f8-74a638174f02    MMM   \n",
       "15  3958f218-703d-357e-a8c5-a12b0b4d1e3d    MMM   \n",
       "8   c28a557a-9379-3f3c-a8cb-157164f5fc0e    MMM   \n",
       "14  a148028d-f828-36b8-aae5-1e9f92efe118    MMM   \n",
       "0   f45dfb94-5cec-3fda-93eb-073b33b6ba33    MMM   \n",
       "\n",
       "                                                                                                                           title  \\\n",
       "4                                                                          These 3 Dow Stocks Are Set to Soar in 2023 and Beyond   \n",
       "3                                                    3M Innovation on Full Display at CES, the World’s Largest Annual Tech Event   \n",
       "7                                                                               Don't Overlook These 3 Powerhouse Stocks in 2023   \n",
       "12                                                                 3M (MMM) Dips More Than Broader Markets: What You Should Know   \n",
       "2                                                                                    2023 People to Watch: Mike Roman, CEO of 3M   \n",
       "6                                                                                     2 Stocks Down 52% and 81% to Buy Right Now   \n",
       "11                                                                                                    Analyst Report: 3M Company   \n",
       "9                                                                                          3 Top U.S. Stocks to Watch in January   \n",
       "1                                                           3M Tries to Contain Legal Battles Over ‘Forever Chemicals,’ Earplugs   \n",
       "16                                                                                           11 Best Stocks to Buy for Deflation   \n",
       "5                                                                     2 Ultra-High-Yielding Industrial Stocks To Buy With $1,000   \n",
       "13                                                                 3M (MMM) Dips More Than Broader Markets: What You Should Know   \n",
       "10                                                                        Our Predictions for the Top 7 Dividend Stocks for 2023   \n",
       "15                                                                       3M (MMM) Shares Down 7% in 6 Months: What's Hurting It?   \n",
       "8                                                                Dow 30 Stocks List: Ranked By 2022 Hedge Fund Bullishness Index   \n",
       "14                                                                                 12 Dividend Stocks That Are Down Over 30% YTD   \n",
       "0   3M's Litigation Concerning Defective Earplug Injuries To US Veterans Mark Another Tough Loss Amid Multiple Lawsuits: Analyst   \n",
       "\n",
       "                          publisher  \\\n",
       "4                       Motley Fool   \n",
       "3                        ACCESSWIRE   \n",
       "7                       Motley Fool   \n",
       "12                            Zacks   \n",
       "2   American City Business Journals   \n",
       "6                       Motley Fool   \n",
       "11             Morningstar Research   \n",
       "9                       Motley Fool   \n",
       "1           The Wall Street Journal   \n",
       "16                   Insider Monkey   \n",
       "5                       Motley Fool   \n",
       "13                            Zacks   \n",
       "10                    InvestorPlace   \n",
       "15                            Zacks   \n",
       "8                    Insider Monkey   \n",
       "14                   Insider Monkey   \n",
       "0                          Benzinga   \n",
       "\n",
       "                                                                                                      link  \\\n",
       "4      https://finance.yahoo.com/m/05aa2b93-d7d5-326b-a1a8-17efd912f407/these-3-dow-stocks-are-set-to.html   \n",
       "3                             https://finance.yahoo.com/news/3m-innovation-full-display-ces-141500180.html   \n",
       "7           https://finance.yahoo.com/m/2929d4ce-9875-3326-914c-bcf1b4e265b3/don%27t-overlook-these-3.html   \n",
       "12                                  https://finance.yahoo.com/news/3m-mmm-dips-more-broader-225010037.html   \n",
       "2       https://finance.yahoo.com/m/c208c4a5-fd52-3ef5-b9c1-2500d6f0dac4/2023-people-to-watch%3A-mike.html   \n",
       "6   https://finance.yahoo.com/m/9ed37f2f-befa-3c74-8e8b-22d01bdc7d1b/2-stocks-down-52%25-and-81%25-to.html   \n",
       "11      https://finance.yahoo.com/m/fa050738-a5d3-3663-9021-f6a62096957c/analyst-report%3A-3m-company.html   \n",
       "9      https://finance.yahoo.com/m/c5baeb7a-7c38-36ca-930e-11e92606ef23/3-top-u.s.-stocks-to-watch-in.html   \n",
       "1          https://finance.yahoo.com/m/16ef33f8-887c-3512-88e4-6b2c335d5850/3m-tries-to-contain-legal.html   \n",
       "16                              https://finance.yahoo.com/news/11-best-stocks-buy-deflation-190606188.html   \n",
       "5              https://finance.yahoo.com/m/8e583153-f601-357b-9b2c-c81b663bb6d9/2-ultra-high-yielding.html   \n",
       "13                                  https://finance.yahoo.com/news/3m-mmm-dips-more-broader-225010584.html   \n",
       "10                         https://finance.yahoo.com/news/predictions-top-7-dividend-stocks-182817738.html   \n",
       "15                                      https://finance.yahoo.com/news/3m-mmm-shares-down-7-142002181.html   \n",
       "8                                  https://finance.yahoo.com/news/dow-30-stocks-list-ranked-024049098.html   \n",
       "14                              https://finance.yahoo.com/news/12-dividend-stocks-down-over-200632807.html   \n",
       "0                https://finance.yahoo.com/news/3ms-litigation-concerning-defective-earplug-171237853.html   \n",
       "\n",
       "   provider_publish_time   type  \n",
       "4    2023-01-07 12:35:00  STORY  \n",
       "3    2023-01-06 14:15:00  STORY  \n",
       "7    2023-01-06 13:00:00  STORY  \n",
       "12   2023-01-05 22:50:10  STORY  \n",
       "2    2023-01-05 19:37:39  STORY  \n",
       "6    2023-01-05 11:28:00  STORY  \n",
       "11   2023-01-04 03:34:52  STORY  \n",
       "9    2023-01-03 15:07:00  STORY  \n",
       "1    2023-01-03 14:00:00  STORY  \n",
       "16   2022-12-29 19:06:06  STORY  \n",
       "5    2022-12-29 10:01:00  STORY  \n",
       "13   2022-12-28 22:50:10  STORY  \n",
       "10   2022-12-28 18:28:17  STORY  \n",
       "15   2022-12-28 14:20:02  STORY  \n",
       "8    2022-12-28 02:40:49  STORY  \n",
       "14   2022-12-27 20:06:32  STORY  \n",
       "0    2022-12-27 17:12:37  STORY  "
      ]
     },
     "execution_count": 76,
     "metadata": {},
     "output_type": "execute_result"
    }
   ],
   "source": [
    "news.sort_values(by = [\"provider_publish_time\"], ascending = False)"
   ]
  }
 ],
 "metadata": {
  "kernelspec": {
   "display_name": "Python 3 (ipykernel)",
   "language": "python",
   "name": "python3"
  },
  "language_info": {
   "codemirror_mode": {
    "name": "ipython",
    "version": 3
   },
   "file_extension": ".py",
   "mimetype": "text/x-python",
   "name": "python",
   "nbconvert_exporter": "python",
   "pygments_lexer": "ipython3",
   "version": "3.10.8"
  }
 },
 "nbformat": 4,
 "nbformat_minor": 5
}
